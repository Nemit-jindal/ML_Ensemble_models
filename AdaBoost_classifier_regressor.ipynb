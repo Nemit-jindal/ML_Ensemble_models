{
  "nbformat": 4,
  "nbformat_minor": 0,
  "metadata": {
    "colab": {
      "provenance": [],
      "authorship_tag": "ABX9TyOtCbwZNqRW/98kNVsjYRIS",
      "include_colab_link": true
    },
    "kernelspec": {
      "name": "python3",
      "display_name": "Python 3"
    },
    "language_info": {
      "name": "python"
    }
  },
  "cells": [
    {
      "cell_type": "markdown",
      "metadata": {
        "id": "view-in-github",
        "colab_type": "text"
      },
      "source": [
        "<a href=\"https://colab.research.google.com/github/Nemit-jindal/ML_Ensemble_models/blob/main/AdaBoost_classifier_regressor.ipynb\" target=\"_parent\"><img src=\"https://colab.research.google.com/assets/colab-badge.svg\" alt=\"Open In Colab\"/></a>"
      ]
    },
    {
      "cell_type": "markdown",
      "source": [
        "**AdaBoost Classifier**"
      ],
      "metadata": {
        "id": "CDeixUJo7ONj"
      }
    },
    {
      "cell_type": "code",
      "execution_count": 1,
      "metadata": {
        "id": "1uABx1VI1yEX"
      },
      "outputs": [],
      "source": [
        "from sklearn.datasets import make_classification\n",
        "from sklearn.model_selection import train_test_split\n",
        "from sklearn.ensemble import AdaBoostClassifier,AdaBoostRegressor\n",
        "from sklearn.metrics import accuracy_score,classification_report,confusion_matrix,r2_score\n",
        "\n",
        "import warnings\n",
        "warnings.filterwarnings('ignore')"
      ]
    },
    {
      "cell_type": "code",
      "source": [
        "x,y=make_classification(n_samples=1000,n_features=20,n_classes=2,random_state=1)"
      ],
      "metadata": {
        "id": "J7wTLWUs2vkj"
      },
      "execution_count": 3,
      "outputs": []
    },
    {
      "cell_type": "code",
      "source": [
        "x_train,x_test,y_train,y_test=train_test_split(x,y,test_size=0.33,random_state=1)"
      ],
      "metadata": {
        "id": "HtuW8wkI2_Wz"
      },
      "execution_count": 5,
      "outputs": []
    },
    {
      "cell_type": "code",
      "source": [
        "classifier=AdaBoostClassifier()\n",
        "classifier.fit(x_train,y_train)"
      ],
      "metadata": {
        "colab": {
          "base_uri": "https://localhost:8080/",
          "height": 74
        },
        "id": "y4LfJj1n3ZFQ",
        "outputId": "7e0c65e0-ba6e-43e7-aae4-5b929263a48c"
      },
      "execution_count": 6,
      "outputs": [
        {
          "output_type": "execute_result",
          "data": {
            "text/plain": [
              "AdaBoostClassifier()"
            ],
            "text/html": [
              "<style>#sk-container-id-1 {color: black;}#sk-container-id-1 pre{padding: 0;}#sk-container-id-1 div.sk-toggleable {background-color: white;}#sk-container-id-1 label.sk-toggleable__label {cursor: pointer;display: block;width: 100%;margin-bottom: 0;padding: 0.3em;box-sizing: border-box;text-align: center;}#sk-container-id-1 label.sk-toggleable__label-arrow:before {content: \"▸\";float: left;margin-right: 0.25em;color: #696969;}#sk-container-id-1 label.sk-toggleable__label-arrow:hover:before {color: black;}#sk-container-id-1 div.sk-estimator:hover label.sk-toggleable__label-arrow:before {color: black;}#sk-container-id-1 div.sk-toggleable__content {max-height: 0;max-width: 0;overflow: hidden;text-align: left;background-color: #f0f8ff;}#sk-container-id-1 div.sk-toggleable__content pre {margin: 0.2em;color: black;border-radius: 0.25em;background-color: #f0f8ff;}#sk-container-id-1 input.sk-toggleable__control:checked~div.sk-toggleable__content {max-height: 200px;max-width: 100%;overflow: auto;}#sk-container-id-1 input.sk-toggleable__control:checked~label.sk-toggleable__label-arrow:before {content: \"▾\";}#sk-container-id-1 div.sk-estimator input.sk-toggleable__control:checked~label.sk-toggleable__label {background-color: #d4ebff;}#sk-container-id-1 div.sk-label input.sk-toggleable__control:checked~label.sk-toggleable__label {background-color: #d4ebff;}#sk-container-id-1 input.sk-hidden--visually {border: 0;clip: rect(1px 1px 1px 1px);clip: rect(1px, 1px, 1px, 1px);height: 1px;margin: -1px;overflow: hidden;padding: 0;position: absolute;width: 1px;}#sk-container-id-1 div.sk-estimator {font-family: monospace;background-color: #f0f8ff;border: 1px dotted black;border-radius: 0.25em;box-sizing: border-box;margin-bottom: 0.5em;}#sk-container-id-1 div.sk-estimator:hover {background-color: #d4ebff;}#sk-container-id-1 div.sk-parallel-item::after {content: \"\";width: 100%;border-bottom: 1px solid gray;flex-grow: 1;}#sk-container-id-1 div.sk-label:hover label.sk-toggleable__label {background-color: #d4ebff;}#sk-container-id-1 div.sk-serial::before {content: \"\";position: absolute;border-left: 1px solid gray;box-sizing: border-box;top: 0;bottom: 0;left: 50%;z-index: 0;}#sk-container-id-1 div.sk-serial {display: flex;flex-direction: column;align-items: center;background-color: white;padding-right: 0.2em;padding-left: 0.2em;position: relative;}#sk-container-id-1 div.sk-item {position: relative;z-index: 1;}#sk-container-id-1 div.sk-parallel {display: flex;align-items: stretch;justify-content: center;background-color: white;position: relative;}#sk-container-id-1 div.sk-item::before, #sk-container-id-1 div.sk-parallel-item::before {content: \"\";position: absolute;border-left: 1px solid gray;box-sizing: border-box;top: 0;bottom: 0;left: 50%;z-index: -1;}#sk-container-id-1 div.sk-parallel-item {display: flex;flex-direction: column;z-index: 1;position: relative;background-color: white;}#sk-container-id-1 div.sk-parallel-item:first-child::after {align-self: flex-end;width: 50%;}#sk-container-id-1 div.sk-parallel-item:last-child::after {align-self: flex-start;width: 50%;}#sk-container-id-1 div.sk-parallel-item:only-child::after {width: 0;}#sk-container-id-1 div.sk-dashed-wrapped {border: 1px dashed gray;margin: 0 0.4em 0.5em 0.4em;box-sizing: border-box;padding-bottom: 0.4em;background-color: white;}#sk-container-id-1 div.sk-label label {font-family: monospace;font-weight: bold;display: inline-block;line-height: 1.2em;}#sk-container-id-1 div.sk-label-container {text-align: center;}#sk-container-id-1 div.sk-container {/* jupyter's `normalize.less` sets `[hidden] { display: none; }` but bootstrap.min.css set `[hidden] { display: none !important; }` so we also need the `!important` here to be able to override the default hidden behavior on the sphinx rendered scikit-learn.org. See: https://github.com/scikit-learn/scikit-learn/issues/21755 */display: inline-block !important;position: relative;}#sk-container-id-1 div.sk-text-repr-fallback {display: none;}</style><div id=\"sk-container-id-1\" class=\"sk-top-container\"><div class=\"sk-text-repr-fallback\"><pre>AdaBoostClassifier()</pre><b>In a Jupyter environment, please rerun this cell to show the HTML representation or trust the notebook. <br />On GitHub, the HTML representation is unable to render, please try loading this page with nbviewer.org.</b></div><div class=\"sk-container\" hidden><div class=\"sk-item\"><div class=\"sk-estimator sk-toggleable\"><input class=\"sk-toggleable__control sk-hidden--visually\" id=\"sk-estimator-id-1\" type=\"checkbox\" checked><label for=\"sk-estimator-id-1\" class=\"sk-toggleable__label sk-toggleable__label-arrow\">AdaBoostClassifier</label><div class=\"sk-toggleable__content\"><pre>AdaBoostClassifier()</pre></div></div></div></div></div>"
            ]
          },
          "metadata": {},
          "execution_count": 6
        }
      ]
    },
    {
      "cell_type": "code",
      "source": [
        "y_pred=classifier.predict(x_test)\n",
        "print(\"accuracy\",accuracy_score(y_test,y_pred))\n",
        "print(\"clf_report\",classification_report(y_test,y_pred))\n",
        "print(\"confu_mat\",confusion_matrix(y_test,y_pred))"
      ],
      "metadata": {
        "colab": {
          "base_uri": "https://localhost:8080/"
        },
        "id": "jNw1QDJ733Gm",
        "outputId": "c4658126-ef24-489b-a233-7513a9142198"
      },
      "execution_count": 10,
      "outputs": [
        {
          "output_type": "stream",
          "name": "stdout",
          "text": [
            "accuracy 0.8090909090909091\n",
            "clf_report               precision    recall  f1-score   support\n",
            "\n",
            "           0       0.78      0.82      0.80       154\n",
            "           1       0.83      0.80      0.82       176\n",
            "\n",
            "    accuracy                           0.81       330\n",
            "   macro avg       0.81      0.81      0.81       330\n",
            "weighted avg       0.81      0.81      0.81       330\n",
            "\n",
            "confu_mat [[126  28]\n",
            " [ 35 141]]\n"
          ]
        }
      ]
    },
    {
      "cell_type": "code",
      "source": [
        "from sklearn.model_selection import GridSearchCV\n",
        "param_grid={\"n_estimators\":[50,100,200],\n",
        "            \"learning_rate\":[0.001,0.1,1,1.5,2,2.5],\n",
        "            \"algorithm\":[\"SAMME.R\",\"SAMME\"]}\n",
        "\n",
        "ada=AdaBoostClassifier()\n",
        "\n",
        "clf=GridSearchCV(estimator=ada,param_grid=param_grid,cv=5,verbose=3)\n",
        "clf"
      ],
      "metadata": {
        "colab": {
          "base_uri": "https://localhost:8080/",
          "height": 232
        },
        "id": "K6e4BbXw4Imt",
        "outputId": "53700724-dd7b-4fbb-e279-23aaf60d0707"
      },
      "execution_count": 11,
      "outputs": [
        {
          "output_type": "execute_result",
          "data": {
            "text/plain": [
              "GridSearchCV(cv=5, estimator=AdaBoostClassifier(),\n",
              "             param_grid={'algorithm': ['SAMME.R', 'SAMME'],\n",
              "                         'learning_rate': [0.001, 0.1, 1, 1.5, 2, 2.5],\n",
              "                         'n_estimators': [50, 100, 200]},\n",
              "             verbose=3)"
            ],
            "text/html": [
              "<style>#sk-container-id-2 {color: black;}#sk-container-id-2 pre{padding: 0;}#sk-container-id-2 div.sk-toggleable {background-color: white;}#sk-container-id-2 label.sk-toggleable__label {cursor: pointer;display: block;width: 100%;margin-bottom: 0;padding: 0.3em;box-sizing: border-box;text-align: center;}#sk-container-id-2 label.sk-toggleable__label-arrow:before {content: \"▸\";float: left;margin-right: 0.25em;color: #696969;}#sk-container-id-2 label.sk-toggleable__label-arrow:hover:before {color: black;}#sk-container-id-2 div.sk-estimator:hover label.sk-toggleable__label-arrow:before {color: black;}#sk-container-id-2 div.sk-toggleable__content {max-height: 0;max-width: 0;overflow: hidden;text-align: left;background-color: #f0f8ff;}#sk-container-id-2 div.sk-toggleable__content pre {margin: 0.2em;color: black;border-radius: 0.25em;background-color: #f0f8ff;}#sk-container-id-2 input.sk-toggleable__control:checked~div.sk-toggleable__content {max-height: 200px;max-width: 100%;overflow: auto;}#sk-container-id-2 input.sk-toggleable__control:checked~label.sk-toggleable__label-arrow:before {content: \"▾\";}#sk-container-id-2 div.sk-estimator input.sk-toggleable__control:checked~label.sk-toggleable__label {background-color: #d4ebff;}#sk-container-id-2 div.sk-label input.sk-toggleable__control:checked~label.sk-toggleable__label {background-color: #d4ebff;}#sk-container-id-2 input.sk-hidden--visually {border: 0;clip: rect(1px 1px 1px 1px);clip: rect(1px, 1px, 1px, 1px);height: 1px;margin: -1px;overflow: hidden;padding: 0;position: absolute;width: 1px;}#sk-container-id-2 div.sk-estimator {font-family: monospace;background-color: #f0f8ff;border: 1px dotted black;border-radius: 0.25em;box-sizing: border-box;margin-bottom: 0.5em;}#sk-container-id-2 div.sk-estimator:hover {background-color: #d4ebff;}#sk-container-id-2 div.sk-parallel-item::after {content: \"\";width: 100%;border-bottom: 1px solid gray;flex-grow: 1;}#sk-container-id-2 div.sk-label:hover label.sk-toggleable__label {background-color: #d4ebff;}#sk-container-id-2 div.sk-serial::before {content: \"\";position: absolute;border-left: 1px solid gray;box-sizing: border-box;top: 0;bottom: 0;left: 50%;z-index: 0;}#sk-container-id-2 div.sk-serial {display: flex;flex-direction: column;align-items: center;background-color: white;padding-right: 0.2em;padding-left: 0.2em;position: relative;}#sk-container-id-2 div.sk-item {position: relative;z-index: 1;}#sk-container-id-2 div.sk-parallel {display: flex;align-items: stretch;justify-content: center;background-color: white;position: relative;}#sk-container-id-2 div.sk-item::before, #sk-container-id-2 div.sk-parallel-item::before {content: \"\";position: absolute;border-left: 1px solid gray;box-sizing: border-box;top: 0;bottom: 0;left: 50%;z-index: -1;}#sk-container-id-2 div.sk-parallel-item {display: flex;flex-direction: column;z-index: 1;position: relative;background-color: white;}#sk-container-id-2 div.sk-parallel-item:first-child::after {align-self: flex-end;width: 50%;}#sk-container-id-2 div.sk-parallel-item:last-child::after {align-self: flex-start;width: 50%;}#sk-container-id-2 div.sk-parallel-item:only-child::after {width: 0;}#sk-container-id-2 div.sk-dashed-wrapped {border: 1px dashed gray;margin: 0 0.4em 0.5em 0.4em;box-sizing: border-box;padding-bottom: 0.4em;background-color: white;}#sk-container-id-2 div.sk-label label {font-family: monospace;font-weight: bold;display: inline-block;line-height: 1.2em;}#sk-container-id-2 div.sk-label-container {text-align: center;}#sk-container-id-2 div.sk-container {/* jupyter's `normalize.less` sets `[hidden] { display: none; }` but bootstrap.min.css set `[hidden] { display: none !important; }` so we also need the `!important` here to be able to override the default hidden behavior on the sphinx rendered scikit-learn.org. See: https://github.com/scikit-learn/scikit-learn/issues/21755 */display: inline-block !important;position: relative;}#sk-container-id-2 div.sk-text-repr-fallback {display: none;}</style><div id=\"sk-container-id-2\" class=\"sk-top-container\"><div class=\"sk-text-repr-fallback\"><pre>GridSearchCV(cv=5, estimator=AdaBoostClassifier(),\n",
              "             param_grid={&#x27;algorithm&#x27;: [&#x27;SAMME.R&#x27;, &#x27;SAMME&#x27;],\n",
              "                         &#x27;learning_rate&#x27;: [0.001, 0.1, 1, 1.5, 2, 2.5],\n",
              "                         &#x27;n_estimators&#x27;: [50, 100, 200]},\n",
              "             verbose=3)</pre><b>In a Jupyter environment, please rerun this cell to show the HTML representation or trust the notebook. <br />On GitHub, the HTML representation is unable to render, please try loading this page with nbviewer.org.</b></div><div class=\"sk-container\" hidden><div class=\"sk-item sk-dashed-wrapped\"><div class=\"sk-label-container\"><div class=\"sk-label sk-toggleable\"><input class=\"sk-toggleable__control sk-hidden--visually\" id=\"sk-estimator-id-2\" type=\"checkbox\" ><label for=\"sk-estimator-id-2\" class=\"sk-toggleable__label sk-toggleable__label-arrow\">GridSearchCV</label><div class=\"sk-toggleable__content\"><pre>GridSearchCV(cv=5, estimator=AdaBoostClassifier(),\n",
              "             param_grid={&#x27;algorithm&#x27;: [&#x27;SAMME.R&#x27;, &#x27;SAMME&#x27;],\n",
              "                         &#x27;learning_rate&#x27;: [0.001, 0.1, 1, 1.5, 2, 2.5],\n",
              "                         &#x27;n_estimators&#x27;: [50, 100, 200]},\n",
              "             verbose=3)</pre></div></div></div><div class=\"sk-parallel\"><div class=\"sk-parallel-item\"><div class=\"sk-item\"><div class=\"sk-label-container\"><div class=\"sk-label sk-toggleable\"><input class=\"sk-toggleable__control sk-hidden--visually\" id=\"sk-estimator-id-3\" type=\"checkbox\" ><label for=\"sk-estimator-id-3\" class=\"sk-toggleable__label sk-toggleable__label-arrow\">estimator: AdaBoostClassifier</label><div class=\"sk-toggleable__content\"><pre>AdaBoostClassifier()</pre></div></div></div><div class=\"sk-serial\"><div class=\"sk-item\"><div class=\"sk-estimator sk-toggleable\"><input class=\"sk-toggleable__control sk-hidden--visually\" id=\"sk-estimator-id-4\" type=\"checkbox\" ><label for=\"sk-estimator-id-4\" class=\"sk-toggleable__label sk-toggleable__label-arrow\">AdaBoostClassifier</label><div class=\"sk-toggleable__content\"><pre>AdaBoostClassifier()</pre></div></div></div></div></div></div></div></div></div></div>"
            ]
          },
          "metadata": {},
          "execution_count": 11
        }
      ]
    },
    {
      "cell_type": "code",
      "source": [
        "clf.fit(x_train,y_train)"
      ],
      "metadata": {
        "colab": {
          "base_uri": "https://localhost:8080/",
          "height": 1000
        },
        "id": "msZOiJZk5eyx",
        "outputId": "81fd54bb-d45f-43d9-83fc-60383cd7d3e7"
      },
      "execution_count": 12,
      "outputs": [
        {
          "output_type": "stream",
          "name": "stdout",
          "text": [
            "Fitting 5 folds for each of 36 candidates, totalling 180 fits\n",
            "[CV 1/5] END algorithm=SAMME.R, learning_rate=0.001, n_estimators=50;, score=0.881 total time=   0.7s\n",
            "[CV 2/5] END algorithm=SAMME.R, learning_rate=0.001, n_estimators=50;, score=0.903 total time=   0.4s\n",
            "[CV 3/5] END algorithm=SAMME.R, learning_rate=0.001, n_estimators=50;, score=0.843 total time=   0.4s\n",
            "[CV 4/5] END algorithm=SAMME.R, learning_rate=0.001, n_estimators=50;, score=0.813 total time=   0.5s\n",
            "[CV 5/5] END algorithm=SAMME.R, learning_rate=0.001, n_estimators=50;, score=0.813 total time=   0.7s\n",
            "[CV 1/5] END algorithm=SAMME.R, learning_rate=0.001, n_estimators=100;, score=0.881 total time=   0.8s\n",
            "[CV 2/5] END algorithm=SAMME.R, learning_rate=0.001, n_estimators=100;, score=0.903 total time=   0.6s\n",
            "[CV 3/5] END algorithm=SAMME.R, learning_rate=0.001, n_estimators=100;, score=0.843 total time=   0.6s\n",
            "[CV 4/5] END algorithm=SAMME.R, learning_rate=0.001, n_estimators=100;, score=0.813 total time=   0.9s\n",
            "[CV 5/5] END algorithm=SAMME.R, learning_rate=0.001, n_estimators=100;, score=0.813 total time=   0.8s\n",
            "[CV 1/5] END algorithm=SAMME.R, learning_rate=0.001, n_estimators=200;, score=0.881 total time=   1.6s\n",
            "[CV 2/5] END algorithm=SAMME.R, learning_rate=0.001, n_estimators=200;, score=0.903 total time=   1.2s\n",
            "[CV 3/5] END algorithm=SAMME.R, learning_rate=0.001, n_estimators=200;, score=0.843 total time=   0.8s\n",
            "[CV 4/5] END algorithm=SAMME.R, learning_rate=0.001, n_estimators=200;, score=0.813 total time=   0.8s\n",
            "[CV 5/5] END algorithm=SAMME.R, learning_rate=0.001, n_estimators=200;, score=0.813 total time=   0.8s\n",
            "[CV 1/5] END algorithm=SAMME.R, learning_rate=0.1, n_estimators=50;, score=0.881 total time=   0.2s\n",
            "[CV 2/5] END algorithm=SAMME.R, learning_rate=0.1, n_estimators=50;, score=0.896 total time=   0.2s\n",
            "[CV 3/5] END algorithm=SAMME.R, learning_rate=0.1, n_estimators=50;, score=0.851 total time=   0.2s\n",
            "[CV 4/5] END algorithm=SAMME.R, learning_rate=0.1, n_estimators=50;, score=0.873 total time=   0.2s\n",
            "[CV 5/5] END algorithm=SAMME.R, learning_rate=0.1, n_estimators=50;, score=0.813 total time=   0.3s\n",
            "[CV 1/5] END algorithm=SAMME.R, learning_rate=0.1, n_estimators=100;, score=0.866 total time=   0.6s\n",
            "[CV 2/5] END algorithm=SAMME.R, learning_rate=0.1, n_estimators=100;, score=0.903 total time=   0.6s\n",
            "[CV 3/5] END algorithm=SAMME.R, learning_rate=0.1, n_estimators=100;, score=0.858 total time=   0.6s\n",
            "[CV 4/5] END algorithm=SAMME.R, learning_rate=0.1, n_estimators=100;, score=0.858 total time=   0.6s\n",
            "[CV 5/5] END algorithm=SAMME.R, learning_rate=0.1, n_estimators=100;, score=0.821 total time=   0.6s\n",
            "[CV 1/5] END algorithm=SAMME.R, learning_rate=0.1, n_estimators=200;, score=0.858 total time=   1.0s\n",
            "[CV 2/5] END algorithm=SAMME.R, learning_rate=0.1, n_estimators=200;, score=0.881 total time=   0.8s\n",
            "[CV 3/5] END algorithm=SAMME.R, learning_rate=0.1, n_estimators=200;, score=0.843 total time=   0.8s\n",
            "[CV 4/5] END algorithm=SAMME.R, learning_rate=0.1, n_estimators=200;, score=0.828 total time=   0.9s\n",
            "[CV 5/5] END algorithm=SAMME.R, learning_rate=0.1, n_estimators=200;, score=0.828 total time=   0.8s\n",
            "[CV 1/5] END algorithm=SAMME.R, learning_rate=1, n_estimators=50;, score=0.866 total time=   0.2s\n",
            "[CV 2/5] END algorithm=SAMME.R, learning_rate=1, n_estimators=50;, score=0.888 total time=   0.2s\n",
            "[CV 3/5] END algorithm=SAMME.R, learning_rate=1, n_estimators=50;, score=0.858 total time=   0.2s\n",
            "[CV 4/5] END algorithm=SAMME.R, learning_rate=1, n_estimators=50;, score=0.799 total time=   0.2s\n",
            "[CV 5/5] END algorithm=SAMME.R, learning_rate=1, n_estimators=50;, score=0.821 total time=   0.2s\n",
            "[CV 1/5] END algorithm=SAMME.R, learning_rate=1, n_estimators=100;, score=0.851 total time=   0.4s\n",
            "[CV 2/5] END algorithm=SAMME.R, learning_rate=1, n_estimators=100;, score=0.828 total time=   0.4s\n",
            "[CV 3/5] END algorithm=SAMME.R, learning_rate=1, n_estimators=100;, score=0.806 total time=   0.4s\n",
            "[CV 4/5] END algorithm=SAMME.R, learning_rate=1, n_estimators=100;, score=0.791 total time=   0.4s\n",
            "[CV 5/5] END algorithm=SAMME.R, learning_rate=1, n_estimators=100;, score=0.813 total time=   0.4s\n",
            "[CV 1/5] END algorithm=SAMME.R, learning_rate=1, n_estimators=200;, score=0.828 total time=   0.8s\n",
            "[CV 2/5] END algorithm=SAMME.R, learning_rate=1, n_estimators=200;, score=0.836 total time=   0.8s\n",
            "[CV 3/5] END algorithm=SAMME.R, learning_rate=1, n_estimators=200;, score=0.791 total time=   0.8s\n",
            "[CV 4/5] END algorithm=SAMME.R, learning_rate=1, n_estimators=200;, score=0.799 total time=   0.8s\n",
            "[CV 5/5] END algorithm=SAMME.R, learning_rate=1, n_estimators=200;, score=0.806 total time=   1.2s\n",
            "[CV 1/5] END algorithm=SAMME.R, learning_rate=1.5, n_estimators=50;, score=0.836 total time=   0.3s\n",
            "[CV 2/5] END algorithm=SAMME.R, learning_rate=1.5, n_estimators=50;, score=0.873 total time=   0.3s\n",
            "[CV 3/5] END algorithm=SAMME.R, learning_rate=1.5, n_estimators=50;, score=0.836 total time=   0.3s\n",
            "[CV 4/5] END algorithm=SAMME.R, learning_rate=1.5, n_estimators=50;, score=0.761 total time=   0.3s\n",
            "[CV 5/5] END algorithm=SAMME.R, learning_rate=1.5, n_estimators=50;, score=0.806 total time=   0.3s\n",
            "[CV 1/5] END algorithm=SAMME.R, learning_rate=1.5, n_estimators=100;, score=0.851 total time=   0.6s\n",
            "[CV 2/5] END algorithm=SAMME.R, learning_rate=1.5, n_estimators=100;, score=0.843 total time=   0.6s\n",
            "[CV 3/5] END algorithm=SAMME.R, learning_rate=1.5, n_estimators=100;, score=0.836 total time=   0.4s\n",
            "[CV 4/5] END algorithm=SAMME.R, learning_rate=1.5, n_estimators=100;, score=0.761 total time=   0.5s\n",
            "[CV 5/5] END algorithm=SAMME.R, learning_rate=1.5, n_estimators=100;, score=0.813 total time=   0.5s\n",
            "[CV 1/5] END algorithm=SAMME.R, learning_rate=1.5, n_estimators=200;, score=0.843 total time=   0.8s\n",
            "[CV 2/5] END algorithm=SAMME.R, learning_rate=1.5, n_estimators=200;, score=0.828 total time=   0.8s\n",
            "[CV 3/5] END algorithm=SAMME.R, learning_rate=1.5, n_estimators=200;, score=0.873 total time=   0.8s\n",
            "[CV 4/5] END algorithm=SAMME.R, learning_rate=1.5, n_estimators=200;, score=0.784 total time=   0.8s\n",
            "[CV 5/5] END algorithm=SAMME.R, learning_rate=1.5, n_estimators=200;, score=0.791 total time=   0.8s\n",
            "[CV 1/5] END algorithm=SAMME.R, learning_rate=2, n_estimators=50;, score=0.164 total time=   0.2s\n",
            "[CV 2/5] END algorithm=SAMME.R, learning_rate=2, n_estimators=50;, score=0.157 total time=   0.2s\n",
            "[CV 3/5] END algorithm=SAMME.R, learning_rate=2, n_estimators=50;, score=0.127 total time=   0.2s\n",
            "[CV 4/5] END algorithm=SAMME.R, learning_rate=2, n_estimators=50;, score=0.179 total time=   0.2s\n",
            "[CV 5/5] END algorithm=SAMME.R, learning_rate=2, n_estimators=50;, score=0.172 total time=   0.2s\n",
            "[CV 1/5] END algorithm=SAMME.R, learning_rate=2, n_estimators=100;, score=0.209 total time=   0.4s\n",
            "[CV 2/5] END algorithm=SAMME.R, learning_rate=2, n_estimators=100;, score=0.172 total time=   0.4s\n",
            "[CV 3/5] END algorithm=SAMME.R, learning_rate=2, n_estimators=100;, score=0.209 total time=   0.4s\n",
            "[CV 4/5] END algorithm=SAMME.R, learning_rate=2, n_estimators=100;, score=0.224 total time=   0.4s\n",
            "[CV 5/5] END algorithm=SAMME.R, learning_rate=2, n_estimators=100;, score=0.201 total time=   0.4s\n",
            "[CV 1/5] END algorithm=SAMME.R, learning_rate=2, n_estimators=200;, score=0.493 total time=   0.8s\n",
            "[CV 2/5] END algorithm=SAMME.R, learning_rate=2, n_estimators=200;, score=0.515 total time=   0.9s\n",
            "[CV 3/5] END algorithm=SAMME.R, learning_rate=2, n_estimators=200;, score=0.478 total time=   1.1s\n",
            "[CV 4/5] END algorithm=SAMME.R, learning_rate=2, n_estimators=200;, score=0.590 total time=   1.2s\n",
            "[CV 5/5] END algorithm=SAMME.R, learning_rate=2, n_estimators=200;, score=0.627 total time=   1.2s\n",
            "[CV 1/5] END algorithm=SAMME.R, learning_rate=2.5, n_estimators=50;, score=0.567 total time=   0.2s\n",
            "[CV 2/5] END algorithm=SAMME.R, learning_rate=2.5, n_estimators=50;, score=0.597 total time=   0.2s\n",
            "[CV 3/5] END algorithm=SAMME.R, learning_rate=2.5, n_estimators=50;, score=0.836 total time=   0.2s\n",
            "[CV 4/5] END algorithm=SAMME.R, learning_rate=2.5, n_estimators=50;, score=0.590 total time=   0.2s\n",
            "[CV 5/5] END algorithm=SAMME.R, learning_rate=2.5, n_estimators=50;, score=0.843 total time=   0.2s\n",
            "[CV 1/5] END algorithm=SAMME.R, learning_rate=2.5, n_estimators=100;, score=0.567 total time=   0.4s\n",
            "[CV 2/5] END algorithm=SAMME.R, learning_rate=2.5, n_estimators=100;, score=0.582 total time=   0.4s\n",
            "[CV 3/5] END algorithm=SAMME.R, learning_rate=2.5, n_estimators=100;, score=0.791 total time=   0.4s\n",
            "[CV 4/5] END algorithm=SAMME.R, learning_rate=2.5, n_estimators=100;, score=0.761 total time=   0.4s\n",
            "[CV 5/5] END algorithm=SAMME.R, learning_rate=2.5, n_estimators=100;, score=0.843 total time=   0.4s\n",
            "[CV 1/5] END algorithm=SAMME.R, learning_rate=2.5, n_estimators=200;, score=0.567 total time=   0.8s\n",
            "[CV 2/5] END algorithm=SAMME.R, learning_rate=2.5, n_estimators=200;, score=0.873 total time=   0.8s\n",
            "[CV 3/5] END algorithm=SAMME.R, learning_rate=2.5, n_estimators=200;, score=0.791 total time=   0.8s\n",
            "[CV 4/5] END algorithm=SAMME.R, learning_rate=2.5, n_estimators=200;, score=0.761 total time=   0.8s\n",
            "[CV 5/5] END algorithm=SAMME.R, learning_rate=2.5, n_estimators=200;, score=0.828 total time=   0.8s\n",
            "[CV 1/5] END algorithm=SAMME, learning_rate=0.001, n_estimators=50;, score=0.881 total time=   0.2s\n",
            "[CV 2/5] END algorithm=SAMME, learning_rate=0.001, n_estimators=50;, score=0.903 total time=   0.2s\n",
            "[CV 3/5] END algorithm=SAMME, learning_rate=0.001, n_estimators=50;, score=0.843 total time=   0.2s\n",
            "[CV 4/5] END algorithm=SAMME, learning_rate=0.001, n_estimators=50;, score=0.813 total time=   0.2s\n",
            "[CV 5/5] END algorithm=SAMME, learning_rate=0.001, n_estimators=50;, score=0.813 total time=   0.2s\n",
            "[CV 1/5] END algorithm=SAMME, learning_rate=0.001, n_estimators=100;, score=0.881 total time=   0.4s\n",
            "[CV 2/5] END algorithm=SAMME, learning_rate=0.001, n_estimators=100;, score=0.903 total time=   0.4s\n",
            "[CV 3/5] END algorithm=SAMME, learning_rate=0.001, n_estimators=100;, score=0.843 total time=   0.4s\n",
            "[CV 4/5] END algorithm=SAMME, learning_rate=0.001, n_estimators=100;, score=0.813 total time=   0.4s\n",
            "[CV 5/5] END algorithm=SAMME, learning_rate=0.001, n_estimators=100;, score=0.813 total time=   0.4s\n",
            "[CV 1/5] END algorithm=SAMME, learning_rate=0.001, n_estimators=200;, score=0.881 total time=   1.0s\n",
            "[CV 2/5] END algorithm=SAMME, learning_rate=0.001, n_estimators=200;, score=0.903 total time=   1.1s\n",
            "[CV 3/5] END algorithm=SAMME, learning_rate=0.001, n_estimators=200;, score=0.843 total time=   1.2s\n",
            "[CV 4/5] END algorithm=SAMME, learning_rate=0.001, n_estimators=200;, score=0.813 total time=   0.9s\n",
            "[CV 5/5] END algorithm=SAMME, learning_rate=0.001, n_estimators=200;, score=0.813 total time=   0.8s\n",
            "[CV 1/5] END algorithm=SAMME, learning_rate=0.1, n_estimators=50;, score=0.881 total time=   0.2s\n",
            "[CV 2/5] END algorithm=SAMME, learning_rate=0.1, n_estimators=50;, score=0.903 total time=   0.2s\n",
            "[CV 3/5] END algorithm=SAMME, learning_rate=0.1, n_estimators=50;, score=0.843 total time=   0.2s\n",
            "[CV 4/5] END algorithm=SAMME, learning_rate=0.1, n_estimators=50;, score=0.858 total time=   0.2s\n",
            "[CV 5/5] END algorithm=SAMME, learning_rate=0.1, n_estimators=50;, score=0.813 total time=   0.2s\n",
            "[CV 1/5] END algorithm=SAMME, learning_rate=0.1, n_estimators=100;, score=0.881 total time=   0.4s\n",
            "[CV 2/5] END algorithm=SAMME, learning_rate=0.1, n_estimators=100;, score=0.903 total time=   0.4s\n",
            "[CV 3/5] END algorithm=SAMME, learning_rate=0.1, n_estimators=100;, score=0.843 total time=   0.4s\n",
            "[CV 4/5] END algorithm=SAMME, learning_rate=0.1, n_estimators=100;, score=0.858 total time=   0.4s\n",
            "[CV 5/5] END algorithm=SAMME, learning_rate=0.1, n_estimators=100;, score=0.813 total time=   0.4s\n",
            "[CV 1/5] END algorithm=SAMME, learning_rate=0.1, n_estimators=200;, score=0.888 total time=   0.9s\n",
            "[CV 2/5] END algorithm=SAMME, learning_rate=0.1, n_estimators=200;, score=0.903 total time=   1.3s\n",
            "[CV 3/5] END algorithm=SAMME, learning_rate=0.1, n_estimators=200;, score=0.851 total time=   1.2s\n",
            "[CV 4/5] END algorithm=SAMME, learning_rate=0.1, n_estimators=200;, score=0.858 total time=   1.5s\n",
            "[CV 5/5] END algorithm=SAMME, learning_rate=0.1, n_estimators=200;, score=0.821 total time=   4.3s\n",
            "[CV 1/5] END algorithm=SAMME, learning_rate=1, n_estimators=50;, score=0.873 total time=   1.0s\n",
            "[CV 2/5] END algorithm=SAMME, learning_rate=1, n_estimators=50;, score=0.896 total time=   0.7s\n",
            "[CV 3/5] END algorithm=SAMME, learning_rate=1, n_estimators=50;, score=0.851 total time=   0.4s\n",
            "[CV 4/5] END algorithm=SAMME, learning_rate=1, n_estimators=50;, score=0.799 total time=   0.6s\n",
            "[CV 5/5] END algorithm=SAMME, learning_rate=1, n_estimators=50;, score=0.821 total time=   0.6s\n",
            "[CV 1/5] END algorithm=SAMME, learning_rate=1, n_estimators=100;, score=0.873 total time=   1.0s\n",
            "[CV 2/5] END algorithm=SAMME, learning_rate=1, n_estimators=100;, score=0.888 total time=   1.1s\n",
            "[CV 3/5] END algorithm=SAMME, learning_rate=1, n_estimators=100;, score=0.866 total time=   0.8s\n",
            "[CV 4/5] END algorithm=SAMME, learning_rate=1, n_estimators=100;, score=0.806 total time=   0.7s\n",
            "[CV 5/5] END algorithm=SAMME, learning_rate=1, n_estimators=100;, score=0.828 total time=   0.6s\n",
            "[CV 1/5] END algorithm=SAMME, learning_rate=1, n_estimators=200;, score=0.873 total time=   1.1s\n",
            "[CV 2/5] END algorithm=SAMME, learning_rate=1, n_estimators=200;, score=0.843 total time=   2.0s\n",
            "[CV 3/5] END algorithm=SAMME, learning_rate=1, n_estimators=200;, score=0.851 total time=   3.2s\n",
            "[CV 4/5] END algorithm=SAMME, learning_rate=1, n_estimators=200;, score=0.821 total time=   2.2s\n",
            "[CV 5/5] END algorithm=SAMME, learning_rate=1, n_estimators=200;, score=0.821 total time=   1.4s\n",
            "[CV 1/5] END algorithm=SAMME, learning_rate=1.5, n_estimators=50;, score=0.866 total time=   0.2s\n",
            "[CV 2/5] END algorithm=SAMME, learning_rate=1.5, n_estimators=50;, score=0.858 total time=   0.2s\n",
            "[CV 3/5] END algorithm=SAMME, learning_rate=1.5, n_estimators=50;, score=0.843 total time=   0.2s\n",
            "[CV 4/5] END algorithm=SAMME, learning_rate=1.5, n_estimators=50;, score=0.828 total time=   0.2s\n",
            "[CV 5/5] END algorithm=SAMME, learning_rate=1.5, n_estimators=50;, score=0.821 total time=   0.2s\n",
            "[CV 1/5] END algorithm=SAMME, learning_rate=1.5, n_estimators=100;, score=0.851 total time=   0.4s\n",
            "[CV 2/5] END algorithm=SAMME, learning_rate=1.5, n_estimators=100;, score=0.881 total time=   0.4s\n",
            "[CV 3/5] END algorithm=SAMME, learning_rate=1.5, n_estimators=100;, score=0.806 total time=   0.4s\n",
            "[CV 4/5] END algorithm=SAMME, learning_rate=1.5, n_estimators=100;, score=0.799 total time=   0.4s\n",
            "[CV 5/5] END algorithm=SAMME, learning_rate=1.5, n_estimators=100;, score=0.791 total time=   0.4s\n",
            "[CV 1/5] END algorithm=SAMME, learning_rate=1.5, n_estimators=200;, score=0.866 total time=   0.8s\n",
            "[CV 2/5] END algorithm=SAMME, learning_rate=1.5, n_estimators=200;, score=0.866 total time=   0.8s\n",
            "[CV 3/5] END algorithm=SAMME, learning_rate=1.5, n_estimators=200;, score=0.821 total time=   0.8s\n",
            "[CV 4/5] END algorithm=SAMME, learning_rate=1.5, n_estimators=200;, score=0.784 total time=   0.8s\n",
            "[CV 5/5] END algorithm=SAMME, learning_rate=1.5, n_estimators=200;, score=0.813 total time=   0.9s\n",
            "[CV 1/5] END algorithm=SAMME, learning_rate=2, n_estimators=50;, score=0.403 total time=   0.2s\n",
            "[CV 2/5] END algorithm=SAMME, learning_rate=2, n_estimators=50;, score=0.313 total time=   0.2s\n",
            "[CV 3/5] END algorithm=SAMME, learning_rate=2, n_estimators=50;, score=0.366 total time=   0.2s\n",
            "[CV 4/5] END algorithm=SAMME, learning_rate=2, n_estimators=50;, score=0.396 total time=   0.3s\n",
            "[CV 5/5] END algorithm=SAMME, learning_rate=2, n_estimators=50;, score=0.179 total time=   0.3s\n",
            "[CV 1/5] END algorithm=SAMME, learning_rate=2, n_estimators=100;, score=0.530 total time=   0.6s\n",
            "[CV 2/5] END algorithm=SAMME, learning_rate=2, n_estimators=100;, score=0.560 total time=   0.6s\n",
            "[CV 3/5] END algorithm=SAMME, learning_rate=2, n_estimators=100;, score=0.388 total time=   0.6s\n",
            "[CV 4/5] END algorithm=SAMME, learning_rate=2, n_estimators=100;, score=0.478 total time=   0.6s\n",
            "[CV 5/5] END algorithm=SAMME, learning_rate=2, n_estimators=100;, score=0.590 total time=   0.6s\n",
            "[CV 1/5] END algorithm=SAMME, learning_rate=2, n_estimators=200;, score=0.612 total time=   0.9s\n",
            "[CV 2/5] END algorithm=SAMME, learning_rate=2, n_estimators=200;, score=0.560 total time=   0.8s\n",
            "[CV 3/5] END algorithm=SAMME, learning_rate=2, n_estimators=200;, score=0.612 total time=   0.8s\n",
            "[CV 4/5] END algorithm=SAMME, learning_rate=2, n_estimators=200;, score=0.799 total time=   0.8s\n",
            "[CV 5/5] END algorithm=SAMME, learning_rate=2, n_estimators=200;, score=0.582 total time=   0.8s\n",
            "[CV 1/5] END algorithm=SAMME, learning_rate=2.5, n_estimators=50;, score=0.858 total time=   0.2s\n",
            "[CV 2/5] END algorithm=SAMME, learning_rate=2.5, n_estimators=50;, score=0.888 total time=   0.2s\n",
            "[CV 3/5] END algorithm=SAMME, learning_rate=2.5, n_estimators=50;, score=0.843 total time=   0.2s\n",
            "[CV 4/5] END algorithm=SAMME, learning_rate=2.5, n_estimators=50;, score=0.799 total time=   0.2s\n",
            "[CV 5/5] END algorithm=SAMME, learning_rate=2.5, n_estimators=50;, score=0.843 total time=   0.2s\n",
            "[CV 1/5] END algorithm=SAMME, learning_rate=2.5, n_estimators=100;, score=0.858 total time=   0.4s\n",
            "[CV 2/5] END algorithm=SAMME, learning_rate=2.5, n_estimators=100;, score=0.896 total time=   0.4s\n",
            "[CV 3/5] END algorithm=SAMME, learning_rate=2.5, n_estimators=100;, score=0.843 total time=   0.4s\n",
            "[CV 4/5] END algorithm=SAMME, learning_rate=2.5, n_estimators=100;, score=0.799 total time=   0.4s\n",
            "[CV 5/5] END algorithm=SAMME, learning_rate=2.5, n_estimators=100;, score=0.843 total time=   0.4s\n",
            "[CV 1/5] END algorithm=SAMME, learning_rate=2.5, n_estimators=200;, score=0.858 total time=   0.8s\n",
            "[CV 2/5] END algorithm=SAMME, learning_rate=2.5, n_estimators=200;, score=0.896 total time=   0.8s\n",
            "[CV 3/5] END algorithm=SAMME, learning_rate=2.5, n_estimators=200;, score=0.843 total time=   0.8s\n",
            "[CV 4/5] END algorithm=SAMME, learning_rate=2.5, n_estimators=200;, score=0.799 total time=   0.7s\n",
            "[CV 5/5] END algorithm=SAMME, learning_rate=2.5, n_estimators=200;, score=0.843 total time=   1.0s\n"
          ]
        },
        {
          "output_type": "execute_result",
          "data": {
            "text/plain": [
              "GridSearchCV(cv=5, estimator=AdaBoostClassifier(),\n",
              "             param_grid={'algorithm': ['SAMME.R', 'SAMME'],\n",
              "                         'learning_rate': [0.001, 0.1, 1, 1.5, 2, 2.5],\n",
              "                         'n_estimators': [50, 100, 200]},\n",
              "             verbose=3)"
            ],
            "text/html": [
              "<style>#sk-container-id-3 {color: black;}#sk-container-id-3 pre{padding: 0;}#sk-container-id-3 div.sk-toggleable {background-color: white;}#sk-container-id-3 label.sk-toggleable__label {cursor: pointer;display: block;width: 100%;margin-bottom: 0;padding: 0.3em;box-sizing: border-box;text-align: center;}#sk-container-id-3 label.sk-toggleable__label-arrow:before {content: \"▸\";float: left;margin-right: 0.25em;color: #696969;}#sk-container-id-3 label.sk-toggleable__label-arrow:hover:before {color: black;}#sk-container-id-3 div.sk-estimator:hover label.sk-toggleable__label-arrow:before {color: black;}#sk-container-id-3 div.sk-toggleable__content {max-height: 0;max-width: 0;overflow: hidden;text-align: left;background-color: #f0f8ff;}#sk-container-id-3 div.sk-toggleable__content pre {margin: 0.2em;color: black;border-radius: 0.25em;background-color: #f0f8ff;}#sk-container-id-3 input.sk-toggleable__control:checked~div.sk-toggleable__content {max-height: 200px;max-width: 100%;overflow: auto;}#sk-container-id-3 input.sk-toggleable__control:checked~label.sk-toggleable__label-arrow:before {content: \"▾\";}#sk-container-id-3 div.sk-estimator input.sk-toggleable__control:checked~label.sk-toggleable__label {background-color: #d4ebff;}#sk-container-id-3 div.sk-label input.sk-toggleable__control:checked~label.sk-toggleable__label {background-color: #d4ebff;}#sk-container-id-3 input.sk-hidden--visually {border: 0;clip: rect(1px 1px 1px 1px);clip: rect(1px, 1px, 1px, 1px);height: 1px;margin: -1px;overflow: hidden;padding: 0;position: absolute;width: 1px;}#sk-container-id-3 div.sk-estimator {font-family: monospace;background-color: #f0f8ff;border: 1px dotted black;border-radius: 0.25em;box-sizing: border-box;margin-bottom: 0.5em;}#sk-container-id-3 div.sk-estimator:hover {background-color: #d4ebff;}#sk-container-id-3 div.sk-parallel-item::after {content: \"\";width: 100%;border-bottom: 1px solid gray;flex-grow: 1;}#sk-container-id-3 div.sk-label:hover label.sk-toggleable__label {background-color: #d4ebff;}#sk-container-id-3 div.sk-serial::before {content: \"\";position: absolute;border-left: 1px solid gray;box-sizing: border-box;top: 0;bottom: 0;left: 50%;z-index: 0;}#sk-container-id-3 div.sk-serial {display: flex;flex-direction: column;align-items: center;background-color: white;padding-right: 0.2em;padding-left: 0.2em;position: relative;}#sk-container-id-3 div.sk-item {position: relative;z-index: 1;}#sk-container-id-3 div.sk-parallel {display: flex;align-items: stretch;justify-content: center;background-color: white;position: relative;}#sk-container-id-3 div.sk-item::before, #sk-container-id-3 div.sk-parallel-item::before {content: \"\";position: absolute;border-left: 1px solid gray;box-sizing: border-box;top: 0;bottom: 0;left: 50%;z-index: -1;}#sk-container-id-3 div.sk-parallel-item {display: flex;flex-direction: column;z-index: 1;position: relative;background-color: white;}#sk-container-id-3 div.sk-parallel-item:first-child::after {align-self: flex-end;width: 50%;}#sk-container-id-3 div.sk-parallel-item:last-child::after {align-self: flex-start;width: 50%;}#sk-container-id-3 div.sk-parallel-item:only-child::after {width: 0;}#sk-container-id-3 div.sk-dashed-wrapped {border: 1px dashed gray;margin: 0 0.4em 0.5em 0.4em;box-sizing: border-box;padding-bottom: 0.4em;background-color: white;}#sk-container-id-3 div.sk-label label {font-family: monospace;font-weight: bold;display: inline-block;line-height: 1.2em;}#sk-container-id-3 div.sk-label-container {text-align: center;}#sk-container-id-3 div.sk-container {/* jupyter's `normalize.less` sets `[hidden] { display: none; }` but bootstrap.min.css set `[hidden] { display: none !important; }` so we also need the `!important` here to be able to override the default hidden behavior on the sphinx rendered scikit-learn.org. See: https://github.com/scikit-learn/scikit-learn/issues/21755 */display: inline-block !important;position: relative;}#sk-container-id-3 div.sk-text-repr-fallback {display: none;}</style><div id=\"sk-container-id-3\" class=\"sk-top-container\"><div class=\"sk-text-repr-fallback\"><pre>GridSearchCV(cv=5, estimator=AdaBoostClassifier(),\n",
              "             param_grid={&#x27;algorithm&#x27;: [&#x27;SAMME.R&#x27;, &#x27;SAMME&#x27;],\n",
              "                         &#x27;learning_rate&#x27;: [0.001, 0.1, 1, 1.5, 2, 2.5],\n",
              "                         &#x27;n_estimators&#x27;: [50, 100, 200]},\n",
              "             verbose=3)</pre><b>In a Jupyter environment, please rerun this cell to show the HTML representation or trust the notebook. <br />On GitHub, the HTML representation is unable to render, please try loading this page with nbviewer.org.</b></div><div class=\"sk-container\" hidden><div class=\"sk-item sk-dashed-wrapped\"><div class=\"sk-label-container\"><div class=\"sk-label sk-toggleable\"><input class=\"sk-toggleable__control sk-hidden--visually\" id=\"sk-estimator-id-5\" type=\"checkbox\" ><label for=\"sk-estimator-id-5\" class=\"sk-toggleable__label sk-toggleable__label-arrow\">GridSearchCV</label><div class=\"sk-toggleable__content\"><pre>GridSearchCV(cv=5, estimator=AdaBoostClassifier(),\n",
              "             param_grid={&#x27;algorithm&#x27;: [&#x27;SAMME.R&#x27;, &#x27;SAMME&#x27;],\n",
              "                         &#x27;learning_rate&#x27;: [0.001, 0.1, 1, 1.5, 2, 2.5],\n",
              "                         &#x27;n_estimators&#x27;: [50, 100, 200]},\n",
              "             verbose=3)</pre></div></div></div><div class=\"sk-parallel\"><div class=\"sk-parallel-item\"><div class=\"sk-item\"><div class=\"sk-label-container\"><div class=\"sk-label sk-toggleable\"><input class=\"sk-toggleable__control sk-hidden--visually\" id=\"sk-estimator-id-6\" type=\"checkbox\" ><label for=\"sk-estimator-id-6\" class=\"sk-toggleable__label sk-toggleable__label-arrow\">estimator: AdaBoostClassifier</label><div class=\"sk-toggleable__content\"><pre>AdaBoostClassifier()</pre></div></div></div><div class=\"sk-serial\"><div class=\"sk-item\"><div class=\"sk-estimator sk-toggleable\"><input class=\"sk-toggleable__control sk-hidden--visually\" id=\"sk-estimator-id-7\" type=\"checkbox\" ><label for=\"sk-estimator-id-7\" class=\"sk-toggleable__label sk-toggleable__label-arrow\">AdaBoostClassifier</label><div class=\"sk-toggleable__content\"><pre>AdaBoostClassifier()</pre></div></div></div></div></div></div></div></div></div></div>"
            ]
          },
          "metadata": {},
          "execution_count": 12
        }
      ]
    },
    {
      "cell_type": "code",
      "source": [
        "clf.best_params_"
      ],
      "metadata": {
        "colab": {
          "base_uri": "https://localhost:8080/"
        },
        "id": "PygHGOuH5zD2",
        "outputId": "9785fb12-e0ee-4c75-d8b4-ecb4e8a1dbd3"
      },
      "execution_count": 13,
      "outputs": [
        {
          "output_type": "execute_result",
          "data": {
            "text/plain": [
              "{'algorithm': 'SAMME', 'learning_rate': 0.1, 'n_estimators': 200}"
            ]
          },
          "metadata": {},
          "execution_count": 13
        }
      ]
    },
    {
      "cell_type": "code",
      "source": [
        "clf.best_score_"
      ],
      "metadata": {
        "colab": {
          "base_uri": "https://localhost:8080/"
        },
        "id": "HvSn2_cW6PsN",
        "outputId": "52ebff37-5379-4638-d6c4-3701631eeff5"
      },
      "execution_count": 14,
      "outputs": [
        {
          "output_type": "execute_result",
          "data": {
            "text/plain": [
              "0.864179104477612"
            ]
          },
          "metadata": {},
          "execution_count": 14
        }
      ]
    },
    {
      "cell_type": "code",
      "source": [
        "best_model=clf.best_estimator_\n",
        "y_pred=best_model.predict(x_test)"
      ],
      "metadata": {
        "id": "cgAFWsa86YTg"
      },
      "execution_count": 15,
      "outputs": []
    },
    {
      "cell_type": "code",
      "source": [
        "accuracy_score(y_test,y_pred)"
      ],
      "metadata": {
        "colab": {
          "base_uri": "https://localhost:8080/"
        },
        "id": "XPG-XHsN6qEK",
        "outputId": "39820385-d10b-45d2-b12a-ed1ad0756f3a"
      },
      "execution_count": 16,
      "outputs": [
        {
          "output_type": "execute_result",
          "data": {
            "text/plain": [
              "0.8424242424242424"
            ]
          },
          "metadata": {},
          "execution_count": 16
        }
      ]
    },
    {
      "cell_type": "markdown",
      "source": [
        "**AdaBoost Regressor**"
      ],
      "metadata": {
        "id": "sLVg6tQV7M2h"
      }
    },
    {
      "cell_type": "code",
      "source": [
        "from sklearn.datasets import make_regression\n",
        "from sklearn.model_selection import train_test_split\n",
        "from sklearn.ensemble import AdaBoostRegressor\n",
        "from sklearn.metrics import r2_score"
      ],
      "metadata": {
        "id": "vH9SH0KG6vgz"
      },
      "execution_count": 18,
      "outputs": []
    },
    {
      "cell_type": "code",
      "source": [
        "x,y=make_regression(n_samples=1000,n_features=2,noise=10,random_state=1)"
      ],
      "metadata": {
        "id": "AKXXDFQ77gxV"
      },
      "execution_count": 20,
      "outputs": []
    },
    {
      "cell_type": "code",
      "source": [
        "x_train,x_test,y_train,y_test=train_test_split(x,y,test_size=0.33,random_state=1)"
      ],
      "metadata": {
        "id": "IVFr3tId79HY"
      },
      "execution_count": 21,
      "outputs": []
    },
    {
      "cell_type": "code",
      "source": [
        "reg=AdaBoostRegressor()\n",
        "reg"
      ],
      "metadata": {
        "colab": {
          "base_uri": "https://localhost:8080/",
          "height": 74
        },
        "id": "1ZQqVmZ_8GfT",
        "outputId": "cedbf646-5b03-4ba2-ceba-84ba5113c213"
      },
      "execution_count": 22,
      "outputs": [
        {
          "output_type": "execute_result",
          "data": {
            "text/plain": [
              "AdaBoostRegressor()"
            ],
            "text/html": [
              "<style>#sk-container-id-4 {color: black;}#sk-container-id-4 pre{padding: 0;}#sk-container-id-4 div.sk-toggleable {background-color: white;}#sk-container-id-4 label.sk-toggleable__label {cursor: pointer;display: block;width: 100%;margin-bottom: 0;padding: 0.3em;box-sizing: border-box;text-align: center;}#sk-container-id-4 label.sk-toggleable__label-arrow:before {content: \"▸\";float: left;margin-right: 0.25em;color: #696969;}#sk-container-id-4 label.sk-toggleable__label-arrow:hover:before {color: black;}#sk-container-id-4 div.sk-estimator:hover label.sk-toggleable__label-arrow:before {color: black;}#sk-container-id-4 div.sk-toggleable__content {max-height: 0;max-width: 0;overflow: hidden;text-align: left;background-color: #f0f8ff;}#sk-container-id-4 div.sk-toggleable__content pre {margin: 0.2em;color: black;border-radius: 0.25em;background-color: #f0f8ff;}#sk-container-id-4 input.sk-toggleable__control:checked~div.sk-toggleable__content {max-height: 200px;max-width: 100%;overflow: auto;}#sk-container-id-4 input.sk-toggleable__control:checked~label.sk-toggleable__label-arrow:before {content: \"▾\";}#sk-container-id-4 div.sk-estimator input.sk-toggleable__control:checked~label.sk-toggleable__label {background-color: #d4ebff;}#sk-container-id-4 div.sk-label input.sk-toggleable__control:checked~label.sk-toggleable__label {background-color: #d4ebff;}#sk-container-id-4 input.sk-hidden--visually {border: 0;clip: rect(1px 1px 1px 1px);clip: rect(1px, 1px, 1px, 1px);height: 1px;margin: -1px;overflow: hidden;padding: 0;position: absolute;width: 1px;}#sk-container-id-4 div.sk-estimator {font-family: monospace;background-color: #f0f8ff;border: 1px dotted black;border-radius: 0.25em;box-sizing: border-box;margin-bottom: 0.5em;}#sk-container-id-4 div.sk-estimator:hover {background-color: #d4ebff;}#sk-container-id-4 div.sk-parallel-item::after {content: \"\";width: 100%;border-bottom: 1px solid gray;flex-grow: 1;}#sk-container-id-4 div.sk-label:hover label.sk-toggleable__label {background-color: #d4ebff;}#sk-container-id-4 div.sk-serial::before {content: \"\";position: absolute;border-left: 1px solid gray;box-sizing: border-box;top: 0;bottom: 0;left: 50%;z-index: 0;}#sk-container-id-4 div.sk-serial {display: flex;flex-direction: column;align-items: center;background-color: white;padding-right: 0.2em;padding-left: 0.2em;position: relative;}#sk-container-id-4 div.sk-item {position: relative;z-index: 1;}#sk-container-id-4 div.sk-parallel {display: flex;align-items: stretch;justify-content: center;background-color: white;position: relative;}#sk-container-id-4 div.sk-item::before, #sk-container-id-4 div.sk-parallel-item::before {content: \"\";position: absolute;border-left: 1px solid gray;box-sizing: border-box;top: 0;bottom: 0;left: 50%;z-index: -1;}#sk-container-id-4 div.sk-parallel-item {display: flex;flex-direction: column;z-index: 1;position: relative;background-color: white;}#sk-container-id-4 div.sk-parallel-item:first-child::after {align-self: flex-end;width: 50%;}#sk-container-id-4 div.sk-parallel-item:last-child::after {align-self: flex-start;width: 50%;}#sk-container-id-4 div.sk-parallel-item:only-child::after {width: 0;}#sk-container-id-4 div.sk-dashed-wrapped {border: 1px dashed gray;margin: 0 0.4em 0.5em 0.4em;box-sizing: border-box;padding-bottom: 0.4em;background-color: white;}#sk-container-id-4 div.sk-label label {font-family: monospace;font-weight: bold;display: inline-block;line-height: 1.2em;}#sk-container-id-4 div.sk-label-container {text-align: center;}#sk-container-id-4 div.sk-container {/* jupyter's `normalize.less` sets `[hidden] { display: none; }` but bootstrap.min.css set `[hidden] { display: none !important; }` so we also need the `!important` here to be able to override the default hidden behavior on the sphinx rendered scikit-learn.org. See: https://github.com/scikit-learn/scikit-learn/issues/21755 */display: inline-block !important;position: relative;}#sk-container-id-4 div.sk-text-repr-fallback {display: none;}</style><div id=\"sk-container-id-4\" class=\"sk-top-container\"><div class=\"sk-text-repr-fallback\"><pre>AdaBoostRegressor()</pre><b>In a Jupyter environment, please rerun this cell to show the HTML representation or trust the notebook. <br />On GitHub, the HTML representation is unable to render, please try loading this page with nbviewer.org.</b></div><div class=\"sk-container\" hidden><div class=\"sk-item\"><div class=\"sk-estimator sk-toggleable\"><input class=\"sk-toggleable__control sk-hidden--visually\" id=\"sk-estimator-id-8\" type=\"checkbox\" checked><label for=\"sk-estimator-id-8\" class=\"sk-toggleable__label sk-toggleable__label-arrow\">AdaBoostRegressor</label><div class=\"sk-toggleable__content\"><pre>AdaBoostRegressor()</pre></div></div></div></div></div>"
            ]
          },
          "metadata": {},
          "execution_count": 22
        }
      ]
    },
    {
      "cell_type": "code",
      "source": [
        "reg.fit(x_train,y_train)"
      ],
      "metadata": {
        "colab": {
          "base_uri": "https://localhost:8080/",
          "height": 74
        },
        "id": "O8AECPGQ8OC1",
        "outputId": "cb75b191-8e55-4b9d-86d0-d7c7ed9a402a"
      },
      "execution_count": 23,
      "outputs": [
        {
          "output_type": "execute_result",
          "data": {
            "text/plain": [
              "AdaBoostRegressor()"
            ],
            "text/html": [
              "<style>#sk-container-id-5 {color: black;}#sk-container-id-5 pre{padding: 0;}#sk-container-id-5 div.sk-toggleable {background-color: white;}#sk-container-id-5 label.sk-toggleable__label {cursor: pointer;display: block;width: 100%;margin-bottom: 0;padding: 0.3em;box-sizing: border-box;text-align: center;}#sk-container-id-5 label.sk-toggleable__label-arrow:before {content: \"▸\";float: left;margin-right: 0.25em;color: #696969;}#sk-container-id-5 label.sk-toggleable__label-arrow:hover:before {color: black;}#sk-container-id-5 div.sk-estimator:hover label.sk-toggleable__label-arrow:before {color: black;}#sk-container-id-5 div.sk-toggleable__content {max-height: 0;max-width: 0;overflow: hidden;text-align: left;background-color: #f0f8ff;}#sk-container-id-5 div.sk-toggleable__content pre {margin: 0.2em;color: black;border-radius: 0.25em;background-color: #f0f8ff;}#sk-container-id-5 input.sk-toggleable__control:checked~div.sk-toggleable__content {max-height: 200px;max-width: 100%;overflow: auto;}#sk-container-id-5 input.sk-toggleable__control:checked~label.sk-toggleable__label-arrow:before {content: \"▾\";}#sk-container-id-5 div.sk-estimator input.sk-toggleable__control:checked~label.sk-toggleable__label {background-color: #d4ebff;}#sk-container-id-5 div.sk-label input.sk-toggleable__control:checked~label.sk-toggleable__label {background-color: #d4ebff;}#sk-container-id-5 input.sk-hidden--visually {border: 0;clip: rect(1px 1px 1px 1px);clip: rect(1px, 1px, 1px, 1px);height: 1px;margin: -1px;overflow: hidden;padding: 0;position: absolute;width: 1px;}#sk-container-id-5 div.sk-estimator {font-family: monospace;background-color: #f0f8ff;border: 1px dotted black;border-radius: 0.25em;box-sizing: border-box;margin-bottom: 0.5em;}#sk-container-id-5 div.sk-estimator:hover {background-color: #d4ebff;}#sk-container-id-5 div.sk-parallel-item::after {content: \"\";width: 100%;border-bottom: 1px solid gray;flex-grow: 1;}#sk-container-id-5 div.sk-label:hover label.sk-toggleable__label {background-color: #d4ebff;}#sk-container-id-5 div.sk-serial::before {content: \"\";position: absolute;border-left: 1px solid gray;box-sizing: border-box;top: 0;bottom: 0;left: 50%;z-index: 0;}#sk-container-id-5 div.sk-serial {display: flex;flex-direction: column;align-items: center;background-color: white;padding-right: 0.2em;padding-left: 0.2em;position: relative;}#sk-container-id-5 div.sk-item {position: relative;z-index: 1;}#sk-container-id-5 div.sk-parallel {display: flex;align-items: stretch;justify-content: center;background-color: white;position: relative;}#sk-container-id-5 div.sk-item::before, #sk-container-id-5 div.sk-parallel-item::before {content: \"\";position: absolute;border-left: 1px solid gray;box-sizing: border-box;top: 0;bottom: 0;left: 50%;z-index: -1;}#sk-container-id-5 div.sk-parallel-item {display: flex;flex-direction: column;z-index: 1;position: relative;background-color: white;}#sk-container-id-5 div.sk-parallel-item:first-child::after {align-self: flex-end;width: 50%;}#sk-container-id-5 div.sk-parallel-item:last-child::after {align-self: flex-start;width: 50%;}#sk-container-id-5 div.sk-parallel-item:only-child::after {width: 0;}#sk-container-id-5 div.sk-dashed-wrapped {border: 1px dashed gray;margin: 0 0.4em 0.5em 0.4em;box-sizing: border-box;padding-bottom: 0.4em;background-color: white;}#sk-container-id-5 div.sk-label label {font-family: monospace;font-weight: bold;display: inline-block;line-height: 1.2em;}#sk-container-id-5 div.sk-label-container {text-align: center;}#sk-container-id-5 div.sk-container {/* jupyter's `normalize.less` sets `[hidden] { display: none; }` but bootstrap.min.css set `[hidden] { display: none !important; }` so we also need the `!important` here to be able to override the default hidden behavior on the sphinx rendered scikit-learn.org. See: https://github.com/scikit-learn/scikit-learn/issues/21755 */display: inline-block !important;position: relative;}#sk-container-id-5 div.sk-text-repr-fallback {display: none;}</style><div id=\"sk-container-id-5\" class=\"sk-top-container\"><div class=\"sk-text-repr-fallback\"><pre>AdaBoostRegressor()</pre><b>In a Jupyter environment, please rerun this cell to show the HTML representation or trust the notebook. <br />On GitHub, the HTML representation is unable to render, please try loading this page with nbviewer.org.</b></div><div class=\"sk-container\" hidden><div class=\"sk-item\"><div class=\"sk-estimator sk-toggleable\"><input class=\"sk-toggleable__control sk-hidden--visually\" id=\"sk-estimator-id-9\" type=\"checkbox\" checked><label for=\"sk-estimator-id-9\" class=\"sk-toggleable__label sk-toggleable__label-arrow\">AdaBoostRegressor</label><div class=\"sk-toggleable__content\"><pre>AdaBoostRegressor()</pre></div></div></div></div></div>"
            ]
          },
          "metadata": {},
          "execution_count": 23
        }
      ]
    },
    {
      "cell_type": "code",
      "source": [
        "y_pred=reg.predict(x_test)"
      ],
      "metadata": {
        "id": "aFNnrjKA8R23"
      },
      "execution_count": 24,
      "outputs": []
    },
    {
      "cell_type": "code",
      "source": [
        "r2_score(y_test,y_pred)"
      ],
      "metadata": {
        "colab": {
          "base_uri": "https://localhost:8080/"
        },
        "id": "QJYsEhMP8ZqS",
        "outputId": "5a9c5a97-fc54-482b-d64d-3e433c407cdd"
      },
      "execution_count": 25,
      "outputs": [
        {
          "output_type": "execute_result",
          "data": {
            "text/plain": [
              "0.9566501739493167"
            ]
          },
          "metadata": {},
          "execution_count": 25
        }
      ]
    },
    {
      "cell_type": "code",
      "source": [
        "from sklearn.model_selection import GridSearchCV\n",
        "param_grid={\"n_estimators\":[50,100,200],\n",
        "            \"learning_rate\":[0.001,0.1,1,1.5,2,2.5],\n",
        "            \"loss\":[\"linear\",\"square\"]}\n",
        "\n",
        "adr=AdaBoostRegressor()\n",
        "reg=GridSearchCV(estimator=adr,param_grid=param_grid,cv=5,verbose=3)\n",
        "reg"
      ],
      "metadata": {
        "colab": {
          "base_uri": "https://localhost:8080/",
          "height": 117
        },
        "id": "BNvMKTmu8fPk",
        "outputId": "6c544cb6-b4c7-4816-e853-c97dacb049ea"
      },
      "execution_count": 26,
      "outputs": [
        {
          "output_type": "execute_result",
          "data": {
            "text/plain": [
              "GridSearchCV(cv=5, estimator=AdaBoostRegressor(),\n",
              "             param_grid={'learning_rate': [0.001, 0.1, 1, 1.5, 2, 2.5],\n",
              "                         'loss': ['linear', 'square'],\n",
              "                         'n_estimators': [50, 100, 200]},\n",
              "             verbose=3)"
            ],
            "text/html": [
              "<style>#sk-container-id-6 {color: black;}#sk-container-id-6 pre{padding: 0;}#sk-container-id-6 div.sk-toggleable {background-color: white;}#sk-container-id-6 label.sk-toggleable__label {cursor: pointer;display: block;width: 100%;margin-bottom: 0;padding: 0.3em;box-sizing: border-box;text-align: center;}#sk-container-id-6 label.sk-toggleable__label-arrow:before {content: \"▸\";float: left;margin-right: 0.25em;color: #696969;}#sk-container-id-6 label.sk-toggleable__label-arrow:hover:before {color: black;}#sk-container-id-6 div.sk-estimator:hover label.sk-toggleable__label-arrow:before {color: black;}#sk-container-id-6 div.sk-toggleable__content {max-height: 0;max-width: 0;overflow: hidden;text-align: left;background-color: #f0f8ff;}#sk-container-id-6 div.sk-toggleable__content pre {margin: 0.2em;color: black;border-radius: 0.25em;background-color: #f0f8ff;}#sk-container-id-6 input.sk-toggleable__control:checked~div.sk-toggleable__content {max-height: 200px;max-width: 100%;overflow: auto;}#sk-container-id-6 input.sk-toggleable__control:checked~label.sk-toggleable__label-arrow:before {content: \"▾\";}#sk-container-id-6 div.sk-estimator input.sk-toggleable__control:checked~label.sk-toggleable__label {background-color: #d4ebff;}#sk-container-id-6 div.sk-label input.sk-toggleable__control:checked~label.sk-toggleable__label {background-color: #d4ebff;}#sk-container-id-6 input.sk-hidden--visually {border: 0;clip: rect(1px 1px 1px 1px);clip: rect(1px, 1px, 1px, 1px);height: 1px;margin: -1px;overflow: hidden;padding: 0;position: absolute;width: 1px;}#sk-container-id-6 div.sk-estimator {font-family: monospace;background-color: #f0f8ff;border: 1px dotted black;border-radius: 0.25em;box-sizing: border-box;margin-bottom: 0.5em;}#sk-container-id-6 div.sk-estimator:hover {background-color: #d4ebff;}#sk-container-id-6 div.sk-parallel-item::after {content: \"\";width: 100%;border-bottom: 1px solid gray;flex-grow: 1;}#sk-container-id-6 div.sk-label:hover label.sk-toggleable__label {background-color: #d4ebff;}#sk-container-id-6 div.sk-serial::before {content: \"\";position: absolute;border-left: 1px solid gray;box-sizing: border-box;top: 0;bottom: 0;left: 50%;z-index: 0;}#sk-container-id-6 div.sk-serial {display: flex;flex-direction: column;align-items: center;background-color: white;padding-right: 0.2em;padding-left: 0.2em;position: relative;}#sk-container-id-6 div.sk-item {position: relative;z-index: 1;}#sk-container-id-6 div.sk-parallel {display: flex;align-items: stretch;justify-content: center;background-color: white;position: relative;}#sk-container-id-6 div.sk-item::before, #sk-container-id-6 div.sk-parallel-item::before {content: \"\";position: absolute;border-left: 1px solid gray;box-sizing: border-box;top: 0;bottom: 0;left: 50%;z-index: -1;}#sk-container-id-6 div.sk-parallel-item {display: flex;flex-direction: column;z-index: 1;position: relative;background-color: white;}#sk-container-id-6 div.sk-parallel-item:first-child::after {align-self: flex-end;width: 50%;}#sk-container-id-6 div.sk-parallel-item:last-child::after {align-self: flex-start;width: 50%;}#sk-container-id-6 div.sk-parallel-item:only-child::after {width: 0;}#sk-container-id-6 div.sk-dashed-wrapped {border: 1px dashed gray;margin: 0 0.4em 0.5em 0.4em;box-sizing: border-box;padding-bottom: 0.4em;background-color: white;}#sk-container-id-6 div.sk-label label {font-family: monospace;font-weight: bold;display: inline-block;line-height: 1.2em;}#sk-container-id-6 div.sk-label-container {text-align: center;}#sk-container-id-6 div.sk-container {/* jupyter's `normalize.less` sets `[hidden] { display: none; }` but bootstrap.min.css set `[hidden] { display: none !important; }` so we also need the `!important` here to be able to override the default hidden behavior on the sphinx rendered scikit-learn.org. See: https://github.com/scikit-learn/scikit-learn/issues/21755 */display: inline-block !important;position: relative;}#sk-container-id-6 div.sk-text-repr-fallback {display: none;}</style><div id=\"sk-container-id-6\" class=\"sk-top-container\"><div class=\"sk-text-repr-fallback\"><pre>GridSearchCV(cv=5, estimator=AdaBoostRegressor(),\n",
              "             param_grid={&#x27;learning_rate&#x27;: [0.001, 0.1, 1, 1.5, 2, 2.5],\n",
              "                         &#x27;loss&#x27;: [&#x27;linear&#x27;, &#x27;square&#x27;],\n",
              "                         &#x27;n_estimators&#x27;: [50, 100, 200]},\n",
              "             verbose=3)</pre><b>In a Jupyter environment, please rerun this cell to show the HTML representation or trust the notebook. <br />On GitHub, the HTML representation is unable to render, please try loading this page with nbviewer.org.</b></div><div class=\"sk-container\" hidden><div class=\"sk-item sk-dashed-wrapped\"><div class=\"sk-label-container\"><div class=\"sk-label sk-toggleable\"><input class=\"sk-toggleable__control sk-hidden--visually\" id=\"sk-estimator-id-10\" type=\"checkbox\" ><label for=\"sk-estimator-id-10\" class=\"sk-toggleable__label sk-toggleable__label-arrow\">GridSearchCV</label><div class=\"sk-toggleable__content\"><pre>GridSearchCV(cv=5, estimator=AdaBoostRegressor(),\n",
              "             param_grid={&#x27;learning_rate&#x27;: [0.001, 0.1, 1, 1.5, 2, 2.5],\n",
              "                         &#x27;loss&#x27;: [&#x27;linear&#x27;, &#x27;square&#x27;],\n",
              "                         &#x27;n_estimators&#x27;: [50, 100, 200]},\n",
              "             verbose=3)</pre></div></div></div><div class=\"sk-parallel\"><div class=\"sk-parallel-item\"><div class=\"sk-item\"><div class=\"sk-label-container\"><div class=\"sk-label sk-toggleable\"><input class=\"sk-toggleable__control sk-hidden--visually\" id=\"sk-estimator-id-11\" type=\"checkbox\" ><label for=\"sk-estimator-id-11\" class=\"sk-toggleable__label sk-toggleable__label-arrow\">estimator: AdaBoostRegressor</label><div class=\"sk-toggleable__content\"><pre>AdaBoostRegressor()</pre></div></div></div><div class=\"sk-serial\"><div class=\"sk-item\"><div class=\"sk-estimator sk-toggleable\"><input class=\"sk-toggleable__control sk-hidden--visually\" id=\"sk-estimator-id-12\" type=\"checkbox\" ><label for=\"sk-estimator-id-12\" class=\"sk-toggleable__label sk-toggleable__label-arrow\">AdaBoostRegressor</label><div class=\"sk-toggleable__content\"><pre>AdaBoostRegressor()</pre></div></div></div></div></div></div></div></div></div></div>"
            ]
          },
          "metadata": {},
          "execution_count": 26
        }
      ]
    },
    {
      "cell_type": "code",
      "source": [
        "reg.fit(x_train,y_train)"
      ],
      "metadata": {
        "colab": {
          "base_uri": "https://localhost:8080/",
          "height": 1000
        },
        "id": "zRZ9oUBF9KOB",
        "outputId": "ca1561ce-9abd-4235-9ec5-754c2f1d2f82"
      },
      "execution_count": 27,
      "outputs": [
        {
          "output_type": "stream",
          "name": "stdout",
          "text": [
            "Fitting 5 folds for each of 36 candidates, totalling 180 fits\n",
            "[CV 1/5] END learning_rate=0.001, loss=linear, n_estimators=50;, score=0.942 total time=   0.2s\n",
            "[CV 2/5] END learning_rate=0.001, loss=linear, n_estimators=50;, score=0.933 total time=   0.6s\n",
            "[CV 3/5] END learning_rate=0.001, loss=linear, n_estimators=50;, score=0.946 total time=   0.4s\n",
            "[CV 4/5] END learning_rate=0.001, loss=linear, n_estimators=50;, score=0.933 total time=   0.6s\n",
            "[CV 5/5] END learning_rate=0.001, loss=linear, n_estimators=50;, score=0.937 total time=   0.4s\n",
            "[CV 1/5] END learning_rate=0.001, loss=linear, n_estimators=100;, score=0.940 total time=   0.7s\n",
            "[CV 2/5] END learning_rate=0.001, loss=linear, n_estimators=100;, score=0.936 total time=   1.1s\n",
            "[CV 3/5] END learning_rate=0.001, loss=linear, n_estimators=100;, score=0.943 total time=   0.6s\n",
            "[CV 4/5] END learning_rate=0.001, loss=linear, n_estimators=100;, score=0.936 total time=   0.4s\n",
            "[CV 5/5] END learning_rate=0.001, loss=linear, n_estimators=100;, score=0.937 total time=   0.4s\n",
            "[CV 1/5] END learning_rate=0.001, loss=linear, n_estimators=200;, score=0.941 total time=   0.8s\n",
            "[CV 2/5] END learning_rate=0.001, loss=linear, n_estimators=200;, score=0.935 total time=   0.8s\n",
            "[CV 3/5] END learning_rate=0.001, loss=linear, n_estimators=200;, score=0.944 total time=   0.4s\n",
            "[CV 4/5] END learning_rate=0.001, loss=linear, n_estimators=200;, score=0.936 total time=   0.4s\n",
            "[CV 5/5] END learning_rate=0.001, loss=linear, n_estimators=200;, score=0.938 total time=   0.4s\n",
            "[CV 1/5] END learning_rate=0.001, loss=square, n_estimators=50;, score=0.940 total time=   0.1s\n",
            "[CV 2/5] END learning_rate=0.001, loss=square, n_estimators=50;, score=0.937 total time=   0.1s\n",
            "[CV 3/5] END learning_rate=0.001, loss=square, n_estimators=50;, score=0.944 total time=   0.1s\n",
            "[CV 4/5] END learning_rate=0.001, loss=square, n_estimators=50;, score=0.935 total time=   0.1s\n",
            "[CV 5/5] END learning_rate=0.001, loss=square, n_estimators=50;, score=0.936 total time=   0.1s\n",
            "[CV 1/5] END learning_rate=0.001, loss=square, n_estimators=100;, score=0.941 total time=   0.2s\n",
            "[CV 2/5] END learning_rate=0.001, loss=square, n_estimators=100;, score=0.936 total time=   0.2s\n",
            "[CV 3/5] END learning_rate=0.001, loss=square, n_estimators=100;, score=0.942 total time=   0.3s\n",
            "[CV 4/5] END learning_rate=0.001, loss=square, n_estimators=100;, score=0.936 total time=   0.2s\n",
            "[CV 5/5] END learning_rate=0.001, loss=square, n_estimators=100;, score=0.935 total time=   0.2s\n",
            "[CV 1/5] END learning_rate=0.001, loss=square, n_estimators=200;, score=0.942 total time=   0.4s\n",
            "[CV 2/5] END learning_rate=0.001, loss=square, n_estimators=200;, score=0.935 total time=   0.4s\n",
            "[CV 3/5] END learning_rate=0.001, loss=square, n_estimators=200;, score=0.945 total time=   0.4s\n",
            "[CV 4/5] END learning_rate=0.001, loss=square, n_estimators=200;, score=0.935 total time=   0.4s\n",
            "[CV 5/5] END learning_rate=0.001, loss=square, n_estimators=200;, score=0.936 total time=   0.4s\n",
            "[CV 1/5] END learning_rate=0.1, loss=linear, n_estimators=50;, score=0.950 total time=   0.1s\n",
            "[CV 2/5] END learning_rate=0.1, loss=linear, n_estimators=50;, score=0.945 total time=   0.1s\n",
            "[CV 3/5] END learning_rate=0.1, loss=linear, n_estimators=50;, score=0.954 total time=   0.1s\n",
            "[CV 4/5] END learning_rate=0.1, loss=linear, n_estimators=50;, score=0.944 total time=   0.1s\n",
            "[CV 5/5] END learning_rate=0.1, loss=linear, n_estimators=50;, score=0.941 total time=   0.1s\n",
            "[CV 1/5] END learning_rate=0.1, loss=linear, n_estimators=100;, score=0.955 total time=   0.2s\n",
            "[CV 2/5] END learning_rate=0.1, loss=linear, n_estimators=100;, score=0.946 total time=   0.2s\n",
            "[CV 3/5] END learning_rate=0.1, loss=linear, n_estimators=100;, score=0.957 total time=   0.2s\n",
            "[CV 4/5] END learning_rate=0.1, loss=linear, n_estimators=100;, score=0.947 total time=   0.2s\n",
            "[CV 5/5] END learning_rate=0.1, loss=linear, n_estimators=100;, score=0.946 total time=   0.2s\n",
            "[CV 1/5] END learning_rate=0.1, loss=linear, n_estimators=200;, score=0.960 total time=   0.4s\n",
            "[CV 2/5] END learning_rate=0.1, loss=linear, n_estimators=200;, score=0.947 total time=   0.4s\n",
            "[CV 3/5] END learning_rate=0.1, loss=linear, n_estimators=200;, score=0.961 total time=   0.5s\n",
            "[CV 4/5] END learning_rate=0.1, loss=linear, n_estimators=200;, score=0.950 total time=   0.6s\n",
            "[CV 5/5] END learning_rate=0.1, loss=linear, n_estimators=200;, score=0.953 total time=   0.6s\n",
            "[CV 1/5] END learning_rate=0.1, loss=square, n_estimators=50;, score=0.953 total time=   0.2s\n",
            "[CV 2/5] END learning_rate=0.1, loss=square, n_estimators=50;, score=0.942 total time=   0.2s\n",
            "[CV 3/5] END learning_rate=0.1, loss=square, n_estimators=50;, score=0.953 total time=   0.1s\n",
            "[CV 4/5] END learning_rate=0.1, loss=square, n_estimators=50;, score=0.945 total time=   0.2s\n",
            "[CV 5/5] END learning_rate=0.1, loss=square, n_estimators=50;, score=0.946 total time=   0.2s\n",
            "[CV 1/5] END learning_rate=0.1, loss=square, n_estimators=100;, score=0.958 total time=   0.3s\n",
            "[CV 2/5] END learning_rate=0.1, loss=square, n_estimators=100;, score=0.943 total time=   0.3s\n",
            "[CV 3/5] END learning_rate=0.1, loss=square, n_estimators=100;, score=0.960 total time=   0.3s\n",
            "[CV 4/5] END learning_rate=0.1, loss=square, n_estimators=100;, score=0.949 total time=   0.3s\n",
            "[CV 5/5] END learning_rate=0.1, loss=square, n_estimators=100;, score=0.952 total time=   0.3s\n",
            "[CV 1/5] END learning_rate=0.1, loss=square, n_estimators=200;, score=0.961 total time=   0.4s\n",
            "[CV 2/5] END learning_rate=0.1, loss=square, n_estimators=200;, score=0.948 total time=   0.4s\n",
            "[CV 3/5] END learning_rate=0.1, loss=square, n_estimators=200;, score=0.965 total time=   0.4s\n",
            "[CV 4/5] END learning_rate=0.1, loss=square, n_estimators=200;, score=0.956 total time=   0.4s\n",
            "[CV 5/5] END learning_rate=0.1, loss=square, n_estimators=200;, score=0.958 total time=   0.4s\n",
            "[CV 1/5] END learning_rate=1, loss=linear, n_estimators=50;, score=0.966 total time=   0.1s\n",
            "[CV 2/5] END learning_rate=1, loss=linear, n_estimators=50;, score=0.954 total time=   0.1s\n",
            "[CV 3/5] END learning_rate=1, loss=linear, n_estimators=50;, score=0.970 total time=   0.1s\n",
            "[CV 4/5] END learning_rate=1, loss=linear, n_estimators=50;, score=0.956 total time=   0.1s\n",
            "[CV 5/5] END learning_rate=1, loss=linear, n_estimators=50;, score=0.965 total time=   0.1s\n",
            "[CV 1/5] END learning_rate=1, loss=linear, n_estimators=100;, score=0.965 total time=   0.2s\n",
            "[CV 2/5] END learning_rate=1, loss=linear, n_estimators=100;, score=0.954 total time=   0.1s\n",
            "[CV 3/5] END learning_rate=1, loss=linear, n_estimators=100;, score=0.970 total time=   0.2s\n",
            "[CV 4/5] END learning_rate=1, loss=linear, n_estimators=100;, score=0.961 total time=   0.2s\n",
            "[CV 5/5] END learning_rate=1, loss=linear, n_estimators=100;, score=0.966 total time=   0.2s\n",
            "[CV 1/5] END learning_rate=1, loss=linear, n_estimators=200;, score=0.969 total time=   0.4s\n",
            "[CV 2/5] END learning_rate=1, loss=linear, n_estimators=200;, score=0.960 total time=   0.4s\n",
            "[CV 3/5] END learning_rate=1, loss=linear, n_estimators=200;, score=0.971 total time=   0.3s\n",
            "[CV 4/5] END learning_rate=1, loss=linear, n_estimators=200;, score=0.965 total time=   0.4s\n",
            "[CV 5/5] END learning_rate=1, loss=linear, n_estimators=200;, score=0.967 total time=   0.4s\n",
            "[CV 1/5] END learning_rate=1, loss=square, n_estimators=50;, score=0.967 total time=   0.1s\n",
            "[CV 2/5] END learning_rate=1, loss=square, n_estimators=50;, score=0.958 total time=   0.1s\n",
            "[CV 3/5] END learning_rate=1, loss=square, n_estimators=50;, score=0.971 total time=   0.1s\n",
            "[CV 4/5] END learning_rate=1, loss=square, n_estimators=50;, score=0.959 total time=   0.1s\n",
            "[CV 5/5] END learning_rate=1, loss=square, n_estimators=50;, score=0.964 total time=   0.1s\n",
            "[CV 1/5] END learning_rate=1, loss=square, n_estimators=100;, score=0.972 total time=   0.2s\n",
            "[CV 2/5] END learning_rate=1, loss=square, n_estimators=100;, score=0.962 total time=   0.2s\n",
            "[CV 3/5] END learning_rate=1, loss=square, n_estimators=100;, score=0.973 total time=   0.2s\n",
            "[CV 4/5] END learning_rate=1, loss=square, n_estimators=100;, score=0.962 total time=   0.2s\n",
            "[CV 5/5] END learning_rate=1, loss=square, n_estimators=100;, score=0.968 total time=   0.2s\n",
            "[CV 1/5] END learning_rate=1, loss=square, n_estimators=200;, score=0.971 total time=   0.4s\n",
            "[CV 2/5] END learning_rate=1, loss=square, n_estimators=200;, score=0.959 total time=   0.4s\n",
            "[CV 3/5] END learning_rate=1, loss=square, n_estimators=200;, score=0.973 total time=   0.4s\n",
            "[CV 4/5] END learning_rate=1, loss=square, n_estimators=200;, score=0.968 total time=   0.4s\n",
            "[CV 5/5] END learning_rate=1, loss=square, n_estimators=200;, score=0.970 total time=   0.4s\n",
            "[CV 1/5] END learning_rate=1.5, loss=linear, n_estimators=50;, score=0.965 total time=   0.1s\n",
            "[CV 2/5] END learning_rate=1.5, loss=linear, n_estimators=50;, score=0.956 total time=   0.1s\n",
            "[CV 3/5] END learning_rate=1.5, loss=linear, n_estimators=50;, score=0.971 total time=   0.1s\n",
            "[CV 4/5] END learning_rate=1.5, loss=linear, n_estimators=50;, score=0.965 total time=   0.1s\n",
            "[CV 5/5] END learning_rate=1.5, loss=linear, n_estimators=50;, score=0.966 total time=   0.1s\n",
            "[CV 1/5] END learning_rate=1.5, loss=linear, n_estimators=100;, score=0.967 total time=   0.2s\n",
            "[CV 2/5] END learning_rate=1.5, loss=linear, n_estimators=100;, score=0.961 total time=   0.2s\n",
            "[CV 3/5] END learning_rate=1.5, loss=linear, n_estimators=100;, score=0.973 total time=   0.2s\n",
            "[CV 4/5] END learning_rate=1.5, loss=linear, n_estimators=100;, score=0.966 total time=   0.2s\n",
            "[CV 5/5] END learning_rate=1.5, loss=linear, n_estimators=100;, score=0.967 total time=   0.2s\n",
            "[CV 1/5] END learning_rate=1.5, loss=linear, n_estimators=200;, score=0.969 total time=   0.6s\n",
            "[CV 2/5] END learning_rate=1.5, loss=linear, n_estimators=200;, score=0.960 total time=   0.5s\n",
            "[CV 3/5] END learning_rate=1.5, loss=linear, n_estimators=200;, score=0.974 total time=   0.6s\n",
            "[CV 4/5] END learning_rate=1.5, loss=linear, n_estimators=200;, score=0.967 total time=   0.6s\n",
            "[CV 5/5] END learning_rate=1.5, loss=linear, n_estimators=200;, score=0.968 total time=   0.6s\n",
            "[CV 1/5] END learning_rate=1.5, loss=square, n_estimators=50;, score=0.974 total time=   0.1s\n",
            "[CV 2/5] END learning_rate=1.5, loss=square, n_estimators=50;, score=0.959 total time=   0.2s\n",
            "[CV 3/5] END learning_rate=1.5, loss=square, n_estimators=50;, score=0.975 total time=   0.1s\n",
            "[CV 4/5] END learning_rate=1.5, loss=square, n_estimators=50;, score=0.971 total time=   0.2s\n",
            "[CV 5/5] END learning_rate=1.5, loss=square, n_estimators=50;, score=0.970 total time=   0.2s\n",
            "[CV 1/5] END learning_rate=1.5, loss=square, n_estimators=100;, score=0.974 total time=   0.2s\n",
            "[CV 2/5] END learning_rate=1.5, loss=square, n_estimators=100;, score=0.963 total time=   0.2s\n",
            "[CV 3/5] END learning_rate=1.5, loss=square, n_estimators=100;, score=0.975 total time=   0.2s\n",
            "[CV 4/5] END learning_rate=1.5, loss=square, n_estimators=100;, score=0.966 total time=   0.2s\n",
            "[CV 5/5] END learning_rate=1.5, loss=square, n_estimators=100;, score=0.972 total time=   0.2s\n",
            "[CV 1/5] END learning_rate=1.5, loss=square, n_estimators=200;, score=0.976 total time=   0.3s\n",
            "[CV 2/5] END learning_rate=1.5, loss=square, n_estimators=200;, score=0.964 total time=   0.4s\n",
            "[CV 3/5] END learning_rate=1.5, loss=square, n_estimators=200;, score=0.974 total time=   0.4s\n",
            "[CV 4/5] END learning_rate=1.5, loss=square, n_estimators=200;, score=0.969 total time=   0.4s\n",
            "[CV 5/5] END learning_rate=1.5, loss=square, n_estimators=200;, score=0.972 total time=   0.4s\n",
            "[CV 1/5] END learning_rate=2, loss=linear, n_estimators=50;, score=0.967 total time=   0.1s\n",
            "[CV 2/5] END learning_rate=2, loss=linear, n_estimators=50;, score=0.962 total time=   0.1s\n",
            "[CV 3/5] END learning_rate=2, loss=linear, n_estimators=50;, score=0.973 total time=   0.1s\n",
            "[CV 4/5] END learning_rate=2, loss=linear, n_estimators=50;, score=0.965 total time=   0.1s\n",
            "[CV 5/5] END learning_rate=2, loss=linear, n_estimators=50;, score=0.966 total time=   0.1s\n",
            "[CV 1/5] END learning_rate=2, loss=linear, n_estimators=100;, score=0.971 total time=   0.2s\n",
            "[CV 2/5] END learning_rate=2, loss=linear, n_estimators=100;, score=0.961 total time=   0.2s\n",
            "[CV 3/5] END learning_rate=2, loss=linear, n_estimators=100;, score=0.973 total time=   0.2s\n",
            "[CV 4/5] END learning_rate=2, loss=linear, n_estimators=100;, score=0.967 total time=   0.2s\n",
            "[CV 5/5] END learning_rate=2, loss=linear, n_estimators=100;, score=0.972 total time=   0.2s\n",
            "[CV 1/5] END learning_rate=2, loss=linear, n_estimators=200;, score=0.966 total time=   0.1s\n",
            "[CV 2/5] END learning_rate=2, loss=linear, n_estimators=200;, score=0.961 total time=   0.4s\n",
            "[CV 3/5] END learning_rate=2, loss=linear, n_estimators=200;, score=0.974 total time=   0.4s\n",
            "[CV 4/5] END learning_rate=2, loss=linear, n_estimators=200;, score=0.968 total time=   0.4s\n",
            "[CV 5/5] END learning_rate=2, loss=linear, n_estimators=200;, score=0.970 total time=   0.4s\n",
            "[CV 1/5] END learning_rate=2, loss=square, n_estimators=50;, score=0.973 total time=   0.1s\n",
            "[CV 2/5] END learning_rate=2, loss=square, n_estimators=50;, score=0.969 total time=   0.1s\n",
            "[CV 3/5] END learning_rate=2, loss=square, n_estimators=50;, score=0.968 total time=   0.1s\n",
            "[CV 4/5] END learning_rate=2, loss=square, n_estimators=50;, score=0.966 total time=   0.1s\n",
            "[CV 5/5] END learning_rate=2, loss=square, n_estimators=50;, score=0.947 total time=   0.1s\n",
            "[CV 1/5] END learning_rate=2, loss=square, n_estimators=100;, score=0.970 total time=   0.2s\n",
            "[CV 2/5] END learning_rate=2, loss=square, n_estimators=100;, score=0.953 total time=   0.2s\n",
            "[CV 3/5] END learning_rate=2, loss=square, n_estimators=100;, score=0.975 total time=   0.2s\n",
            "[CV 4/5] END learning_rate=2, loss=square, n_estimators=100;, score=0.949 total time=   0.2s\n",
            "[CV 5/5] END learning_rate=2, loss=square, n_estimators=100;, score=0.965 total time=   0.2s\n",
            "[CV 1/5] END learning_rate=2, loss=square, n_estimators=200;, score=0.974 total time=   0.4s\n",
            "[CV 2/5] END learning_rate=2, loss=square, n_estimators=200;, score=0.910 total time=   0.4s\n",
            "[CV 3/5] END learning_rate=2, loss=square, n_estimators=200;, score=0.955 total time=   0.3s\n",
            "[CV 4/5] END learning_rate=2, loss=square, n_estimators=200;, score=0.968 total time=   0.3s\n",
            "[CV 5/5] END learning_rate=2, loss=square, n_estimators=200;, score=0.964 total time=   0.3s\n",
            "[CV 1/5] END learning_rate=2.5, loss=linear, n_estimators=50;, score=0.972 total time=   0.1s\n",
            "[CV 2/5] END learning_rate=2.5, loss=linear, n_estimators=50;, score=0.959 total time=   0.1s\n",
            "[CV 3/5] END learning_rate=2.5, loss=linear, n_estimators=50;, score=0.973 total time=   0.1s\n",
            "[CV 4/5] END learning_rate=2.5, loss=linear, n_estimators=50;, score=0.966 total time=   0.1s\n",
            "[CV 5/5] END learning_rate=2.5, loss=linear, n_estimators=50;, score=0.967 total time=   0.1s\n",
            "[CV 1/5] END learning_rate=2.5, loss=linear, n_estimators=100;, score=0.973 total time=   0.2s\n",
            "[CV 2/5] END learning_rate=2.5, loss=linear, n_estimators=100;, score=0.962 total time=   0.2s\n",
            "[CV 3/5] END learning_rate=2.5, loss=linear, n_estimators=100;, score=0.975 total time=   0.2s\n",
            "[CV 4/5] END learning_rate=2.5, loss=linear, n_estimators=100;, score=0.967 total time=   0.2s\n",
            "[CV 5/5] END learning_rate=2.5, loss=linear, n_estimators=100;, score=0.970 total time=   0.3s\n",
            "[CV 1/5] END learning_rate=2.5, loss=linear, n_estimators=200;, score=0.974 total time=   0.5s\n",
            "[CV 2/5] END learning_rate=2.5, loss=linear, n_estimators=200;, score=0.962 total time=   0.5s\n",
            "[CV 3/5] END learning_rate=2.5, loss=linear, n_estimators=200;, score=0.974 total time=   0.5s\n",
            "[CV 4/5] END learning_rate=2.5, loss=linear, n_estimators=200;, score=0.969 total time=   0.6s\n",
            "[CV 5/5] END learning_rate=2.5, loss=linear, n_estimators=200;, score=0.972 total time=   0.5s\n",
            "[CV 1/5] END learning_rate=2.5, loss=square, n_estimators=50;, score=0.921 total time=   0.1s\n",
            "[CV 2/5] END learning_rate=2.5, loss=square, n_estimators=50;, score=0.896 total time=   0.1s\n",
            "[CV 3/5] END learning_rate=2.5, loss=square, n_estimators=50;, score=0.348 total time=   0.1s\n",
            "[CV 4/5] END learning_rate=2.5, loss=square, n_estimators=50;, score=0.888 total time=   0.1s\n",
            "[CV 5/5] END learning_rate=2.5, loss=square, n_estimators=50;, score=0.927 total time=   0.1s\n",
            "[CV 1/5] END learning_rate=2.5, loss=square, n_estimators=100;, score=0.916 total time=   0.2s\n",
            "[CV 2/5] END learning_rate=2.5, loss=square, n_estimators=100;, score=0.908 total time=   0.2s\n",
            "[CV 3/5] END learning_rate=2.5, loss=square, n_estimators=100;, score=0.832 total time=   0.2s\n",
            "[CV 4/5] END learning_rate=2.5, loss=square, n_estimators=100;, score=0.805 total time=   0.2s\n",
            "[CV 5/5] END learning_rate=2.5, loss=square, n_estimators=100;, score=0.738 total time=   0.2s\n",
            "[CV 1/5] END learning_rate=2.5, loss=square, n_estimators=200;, score=0.890 total time=   0.3s\n",
            "[CV 2/5] END learning_rate=2.5, loss=square, n_estimators=200;, score=0.809 total time=   0.3s\n",
            "[CV 3/5] END learning_rate=2.5, loss=square, n_estimators=200;, score=0.940 total time=   0.3s\n",
            "[CV 4/5] END learning_rate=2.5, loss=square, n_estimators=200;, score=0.899 total time=   0.3s\n",
            "[CV 5/5] END learning_rate=2.5, loss=square, n_estimators=200;, score=0.892 total time=   0.3s\n"
          ]
        },
        {
          "output_type": "execute_result",
          "data": {
            "text/plain": [
              "GridSearchCV(cv=5, estimator=AdaBoostRegressor(),\n",
              "             param_grid={'learning_rate': [0.001, 0.1, 1, 1.5, 2, 2.5],\n",
              "                         'loss': ['linear', 'square'],\n",
              "                         'n_estimators': [50, 100, 200]},\n",
              "             verbose=3)"
            ],
            "text/html": [
              "<style>#sk-container-id-7 {color: black;}#sk-container-id-7 pre{padding: 0;}#sk-container-id-7 div.sk-toggleable {background-color: white;}#sk-container-id-7 label.sk-toggleable__label {cursor: pointer;display: block;width: 100%;margin-bottom: 0;padding: 0.3em;box-sizing: border-box;text-align: center;}#sk-container-id-7 label.sk-toggleable__label-arrow:before {content: \"▸\";float: left;margin-right: 0.25em;color: #696969;}#sk-container-id-7 label.sk-toggleable__label-arrow:hover:before {color: black;}#sk-container-id-7 div.sk-estimator:hover label.sk-toggleable__label-arrow:before {color: black;}#sk-container-id-7 div.sk-toggleable__content {max-height: 0;max-width: 0;overflow: hidden;text-align: left;background-color: #f0f8ff;}#sk-container-id-7 div.sk-toggleable__content pre {margin: 0.2em;color: black;border-radius: 0.25em;background-color: #f0f8ff;}#sk-container-id-7 input.sk-toggleable__control:checked~div.sk-toggleable__content {max-height: 200px;max-width: 100%;overflow: auto;}#sk-container-id-7 input.sk-toggleable__control:checked~label.sk-toggleable__label-arrow:before {content: \"▾\";}#sk-container-id-7 div.sk-estimator input.sk-toggleable__control:checked~label.sk-toggleable__label {background-color: #d4ebff;}#sk-container-id-7 div.sk-label input.sk-toggleable__control:checked~label.sk-toggleable__label {background-color: #d4ebff;}#sk-container-id-7 input.sk-hidden--visually {border: 0;clip: rect(1px 1px 1px 1px);clip: rect(1px, 1px, 1px, 1px);height: 1px;margin: -1px;overflow: hidden;padding: 0;position: absolute;width: 1px;}#sk-container-id-7 div.sk-estimator {font-family: monospace;background-color: #f0f8ff;border: 1px dotted black;border-radius: 0.25em;box-sizing: border-box;margin-bottom: 0.5em;}#sk-container-id-7 div.sk-estimator:hover {background-color: #d4ebff;}#sk-container-id-7 div.sk-parallel-item::after {content: \"\";width: 100%;border-bottom: 1px solid gray;flex-grow: 1;}#sk-container-id-7 div.sk-label:hover label.sk-toggleable__label {background-color: #d4ebff;}#sk-container-id-7 div.sk-serial::before {content: \"\";position: absolute;border-left: 1px solid gray;box-sizing: border-box;top: 0;bottom: 0;left: 50%;z-index: 0;}#sk-container-id-7 div.sk-serial {display: flex;flex-direction: column;align-items: center;background-color: white;padding-right: 0.2em;padding-left: 0.2em;position: relative;}#sk-container-id-7 div.sk-item {position: relative;z-index: 1;}#sk-container-id-7 div.sk-parallel {display: flex;align-items: stretch;justify-content: center;background-color: white;position: relative;}#sk-container-id-7 div.sk-item::before, #sk-container-id-7 div.sk-parallel-item::before {content: \"\";position: absolute;border-left: 1px solid gray;box-sizing: border-box;top: 0;bottom: 0;left: 50%;z-index: -1;}#sk-container-id-7 div.sk-parallel-item {display: flex;flex-direction: column;z-index: 1;position: relative;background-color: white;}#sk-container-id-7 div.sk-parallel-item:first-child::after {align-self: flex-end;width: 50%;}#sk-container-id-7 div.sk-parallel-item:last-child::after {align-self: flex-start;width: 50%;}#sk-container-id-7 div.sk-parallel-item:only-child::after {width: 0;}#sk-container-id-7 div.sk-dashed-wrapped {border: 1px dashed gray;margin: 0 0.4em 0.5em 0.4em;box-sizing: border-box;padding-bottom: 0.4em;background-color: white;}#sk-container-id-7 div.sk-label label {font-family: monospace;font-weight: bold;display: inline-block;line-height: 1.2em;}#sk-container-id-7 div.sk-label-container {text-align: center;}#sk-container-id-7 div.sk-container {/* jupyter's `normalize.less` sets `[hidden] { display: none; }` but bootstrap.min.css set `[hidden] { display: none !important; }` so we also need the `!important` here to be able to override the default hidden behavior on the sphinx rendered scikit-learn.org. See: https://github.com/scikit-learn/scikit-learn/issues/21755 */display: inline-block !important;position: relative;}#sk-container-id-7 div.sk-text-repr-fallback {display: none;}</style><div id=\"sk-container-id-7\" class=\"sk-top-container\"><div class=\"sk-text-repr-fallback\"><pre>GridSearchCV(cv=5, estimator=AdaBoostRegressor(),\n",
              "             param_grid={&#x27;learning_rate&#x27;: [0.001, 0.1, 1, 1.5, 2, 2.5],\n",
              "                         &#x27;loss&#x27;: [&#x27;linear&#x27;, &#x27;square&#x27;],\n",
              "                         &#x27;n_estimators&#x27;: [50, 100, 200]},\n",
              "             verbose=3)</pre><b>In a Jupyter environment, please rerun this cell to show the HTML representation or trust the notebook. <br />On GitHub, the HTML representation is unable to render, please try loading this page with nbviewer.org.</b></div><div class=\"sk-container\" hidden><div class=\"sk-item sk-dashed-wrapped\"><div class=\"sk-label-container\"><div class=\"sk-label sk-toggleable\"><input class=\"sk-toggleable__control sk-hidden--visually\" id=\"sk-estimator-id-13\" type=\"checkbox\" ><label for=\"sk-estimator-id-13\" class=\"sk-toggleable__label sk-toggleable__label-arrow\">GridSearchCV</label><div class=\"sk-toggleable__content\"><pre>GridSearchCV(cv=5, estimator=AdaBoostRegressor(),\n",
              "             param_grid={&#x27;learning_rate&#x27;: [0.001, 0.1, 1, 1.5, 2, 2.5],\n",
              "                         &#x27;loss&#x27;: [&#x27;linear&#x27;, &#x27;square&#x27;],\n",
              "                         &#x27;n_estimators&#x27;: [50, 100, 200]},\n",
              "             verbose=3)</pre></div></div></div><div class=\"sk-parallel\"><div class=\"sk-parallel-item\"><div class=\"sk-item\"><div class=\"sk-label-container\"><div class=\"sk-label sk-toggleable\"><input class=\"sk-toggleable__control sk-hidden--visually\" id=\"sk-estimator-id-14\" type=\"checkbox\" ><label for=\"sk-estimator-id-14\" class=\"sk-toggleable__label sk-toggleable__label-arrow\">estimator: AdaBoostRegressor</label><div class=\"sk-toggleable__content\"><pre>AdaBoostRegressor()</pre></div></div></div><div class=\"sk-serial\"><div class=\"sk-item\"><div class=\"sk-estimator sk-toggleable\"><input class=\"sk-toggleable__control sk-hidden--visually\" id=\"sk-estimator-id-15\" type=\"checkbox\" ><label for=\"sk-estimator-id-15\" class=\"sk-toggleable__label sk-toggleable__label-arrow\">AdaBoostRegressor</label><div class=\"sk-toggleable__content\"><pre>AdaBoostRegressor()</pre></div></div></div></div></div></div></div></div></div></div>"
            ]
          },
          "metadata": {},
          "execution_count": 27
        }
      ]
    },
    {
      "cell_type": "code",
      "source": [
        "reg.best_params_"
      ],
      "metadata": {
        "colab": {
          "base_uri": "https://localhost:8080/"
        },
        "id": "B9P8QGFf9PtJ",
        "outputId": "bbd27c56-d1f7-41f0-836d-02b5a1bf4199"
      },
      "execution_count": 28,
      "outputs": [
        {
          "output_type": "execute_result",
          "data": {
            "text/plain": [
              "{'learning_rate': 1.5, 'loss': 'square', 'n_estimators': 200}"
            ]
          },
          "metadata": {},
          "execution_count": 28
        }
      ]
    },
    {
      "cell_type": "code",
      "source": [
        "reg.best_score_"
      ],
      "metadata": {
        "colab": {
          "base_uri": "https://localhost:8080/"
        },
        "id": "2nrRex-T9evP",
        "outputId": "69f252c7-05b5-49cf-aee5-b282f71ad17f"
      },
      "execution_count": 29,
      "outputs": [
        {
          "output_type": "execute_result",
          "data": {
            "text/plain": [
              "0.9709750749786134"
            ]
          },
          "metadata": {},
          "execution_count": 29
        }
      ]
    }
  ]
}