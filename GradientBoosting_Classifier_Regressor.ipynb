{
  "nbformat": 4,
  "nbformat_minor": 0,
  "metadata": {
    "colab": {
      "provenance": [],
      "authorship_tag": "ABX9TyOOUfo7ivfrGqeJD9BUTCVZ",
      "include_colab_link": true
    },
    "kernelspec": {
      "name": "python3",
      "display_name": "Python 3"
    },
    "language_info": {
      "name": "python"
    }
  },
  "cells": [
    {
      "cell_type": "markdown",
      "metadata": {
        "id": "view-in-github",
        "colab_type": "text"
      },
      "source": [
        "<a href=\"https://colab.research.google.com/github/Nemit-jindal/ML_Ensemble_models/blob/main/GradientBoosting_Classifier_Regressor.ipynb\" target=\"_parent\"><img src=\"https://colab.research.google.com/assets/colab-badge.svg\" alt=\"Open In Colab\"/></a>"
      ]
    },
    {
      "cell_type": "markdown",
      "source": [
        "**GradientBoosting Classifier**"
      ],
      "metadata": {
        "id": "HUK1bWCWB-xk"
      }
    },
    {
      "cell_type": "code",
      "execution_count": 2,
      "metadata": {
        "id": "tXtllFkp-HSJ"
      },
      "outputs": [],
      "source": [
        "from sklearn.datasets import make_classification\n",
        "from sklearn.model_selection import train_test_split\n",
        "from sklearn.ensemble import GradientBoostingClassifier\n",
        "from sklearn.metrics import accuracy_score,classification_report,confusion_matrix,r2_score\n",
        "\n",
        "import warnings\n",
        "warnings.filterwarnings('ignore')"
      ]
    },
    {
      "cell_type": "code",
      "source": [
        "x,y=make_classification(n_samples=1000,n_features=20,n_classes=2,random_state=1)"
      ],
      "metadata": {
        "id": "3F2H-TbE-gnA"
      },
      "execution_count": 3,
      "outputs": []
    },
    {
      "cell_type": "code",
      "source": [
        "x_train,x_test,y_train,y_test=train_test_split(x,y,test_size=0.33,random_state=1)"
      ],
      "metadata": {
        "id": "vu-RmIW9-rr2"
      },
      "execution_count": 4,
      "outputs": []
    },
    {
      "cell_type": "code",
      "source": [
        "classifier=GradientBoostingClassifier()\n",
        "classifier.fit(x_train,y_train)"
      ],
      "metadata": {
        "colab": {
          "base_uri": "https://localhost:8080/",
          "height": 74
        },
        "id": "jtZ1oRvf-rud",
        "outputId": "c02b9ede-116c-48cc-a01b-87e92ca055c6"
      },
      "execution_count": 5,
      "outputs": [
        {
          "output_type": "execute_result",
          "data": {
            "text/plain": [
              "GradientBoostingClassifier()"
            ],
            "text/html": [
              "<style>#sk-container-id-1 {color: black;}#sk-container-id-1 pre{padding: 0;}#sk-container-id-1 div.sk-toggleable {background-color: white;}#sk-container-id-1 label.sk-toggleable__label {cursor: pointer;display: block;width: 100%;margin-bottom: 0;padding: 0.3em;box-sizing: border-box;text-align: center;}#sk-container-id-1 label.sk-toggleable__label-arrow:before {content: \"▸\";float: left;margin-right: 0.25em;color: #696969;}#sk-container-id-1 label.sk-toggleable__label-arrow:hover:before {color: black;}#sk-container-id-1 div.sk-estimator:hover label.sk-toggleable__label-arrow:before {color: black;}#sk-container-id-1 div.sk-toggleable__content {max-height: 0;max-width: 0;overflow: hidden;text-align: left;background-color: #f0f8ff;}#sk-container-id-1 div.sk-toggleable__content pre {margin: 0.2em;color: black;border-radius: 0.25em;background-color: #f0f8ff;}#sk-container-id-1 input.sk-toggleable__control:checked~div.sk-toggleable__content {max-height: 200px;max-width: 100%;overflow: auto;}#sk-container-id-1 input.sk-toggleable__control:checked~label.sk-toggleable__label-arrow:before {content: \"▾\";}#sk-container-id-1 div.sk-estimator input.sk-toggleable__control:checked~label.sk-toggleable__label {background-color: #d4ebff;}#sk-container-id-1 div.sk-label input.sk-toggleable__control:checked~label.sk-toggleable__label {background-color: #d4ebff;}#sk-container-id-1 input.sk-hidden--visually {border: 0;clip: rect(1px 1px 1px 1px);clip: rect(1px, 1px, 1px, 1px);height: 1px;margin: -1px;overflow: hidden;padding: 0;position: absolute;width: 1px;}#sk-container-id-1 div.sk-estimator {font-family: monospace;background-color: #f0f8ff;border: 1px dotted black;border-radius: 0.25em;box-sizing: border-box;margin-bottom: 0.5em;}#sk-container-id-1 div.sk-estimator:hover {background-color: #d4ebff;}#sk-container-id-1 div.sk-parallel-item::after {content: \"\";width: 100%;border-bottom: 1px solid gray;flex-grow: 1;}#sk-container-id-1 div.sk-label:hover label.sk-toggleable__label {background-color: #d4ebff;}#sk-container-id-1 div.sk-serial::before {content: \"\";position: absolute;border-left: 1px solid gray;box-sizing: border-box;top: 0;bottom: 0;left: 50%;z-index: 0;}#sk-container-id-1 div.sk-serial {display: flex;flex-direction: column;align-items: center;background-color: white;padding-right: 0.2em;padding-left: 0.2em;position: relative;}#sk-container-id-1 div.sk-item {position: relative;z-index: 1;}#sk-container-id-1 div.sk-parallel {display: flex;align-items: stretch;justify-content: center;background-color: white;position: relative;}#sk-container-id-1 div.sk-item::before, #sk-container-id-1 div.sk-parallel-item::before {content: \"\";position: absolute;border-left: 1px solid gray;box-sizing: border-box;top: 0;bottom: 0;left: 50%;z-index: -1;}#sk-container-id-1 div.sk-parallel-item {display: flex;flex-direction: column;z-index: 1;position: relative;background-color: white;}#sk-container-id-1 div.sk-parallel-item:first-child::after {align-self: flex-end;width: 50%;}#sk-container-id-1 div.sk-parallel-item:last-child::after {align-self: flex-start;width: 50%;}#sk-container-id-1 div.sk-parallel-item:only-child::after {width: 0;}#sk-container-id-1 div.sk-dashed-wrapped {border: 1px dashed gray;margin: 0 0.4em 0.5em 0.4em;box-sizing: border-box;padding-bottom: 0.4em;background-color: white;}#sk-container-id-1 div.sk-label label {font-family: monospace;font-weight: bold;display: inline-block;line-height: 1.2em;}#sk-container-id-1 div.sk-label-container {text-align: center;}#sk-container-id-1 div.sk-container {/* jupyter's `normalize.less` sets `[hidden] { display: none; }` but bootstrap.min.css set `[hidden] { display: none !important; }` so we also need the `!important` here to be able to override the default hidden behavior on the sphinx rendered scikit-learn.org. See: https://github.com/scikit-learn/scikit-learn/issues/21755 */display: inline-block !important;position: relative;}#sk-container-id-1 div.sk-text-repr-fallback {display: none;}</style><div id=\"sk-container-id-1\" class=\"sk-top-container\"><div class=\"sk-text-repr-fallback\"><pre>GradientBoostingClassifier()</pre><b>In a Jupyter environment, please rerun this cell to show the HTML representation or trust the notebook. <br />On GitHub, the HTML representation is unable to render, please try loading this page with nbviewer.org.</b></div><div class=\"sk-container\" hidden><div class=\"sk-item\"><div class=\"sk-estimator sk-toggleable\"><input class=\"sk-toggleable__control sk-hidden--visually\" id=\"sk-estimator-id-1\" type=\"checkbox\" checked><label for=\"sk-estimator-id-1\" class=\"sk-toggleable__label sk-toggleable__label-arrow\">GradientBoostingClassifier</label><div class=\"sk-toggleable__content\"><pre>GradientBoostingClassifier()</pre></div></div></div></div></div>"
            ]
          },
          "metadata": {},
          "execution_count": 5
        }
      ]
    },
    {
      "cell_type": "code",
      "source": [
        "y_pred=classifier.predict(x_test)\n",
        "print(\"accuracy\",accuracy_score(y_test,y_pred))\n",
        "print(\"clf_report\",classification_report(y_test,y_pred))\n",
        "print(\"confu_mat\",confusion_matrix(y_test,y_pred))"
      ],
      "metadata": {
        "colab": {
          "base_uri": "https://localhost:8080/"
        },
        "id": "vJcxGoa9-rxJ",
        "outputId": "9cbe866c-6701-4925-96d6-a10c47bbdfdd"
      },
      "execution_count": 6,
      "outputs": [
        {
          "output_type": "stream",
          "name": "stdout",
          "text": [
            "accuracy 0.8515151515151516\n",
            "clf_report               precision    recall  f1-score   support\n",
            "\n",
            "           0       0.83      0.85      0.84       154\n",
            "           1       0.87      0.85      0.86       176\n",
            "\n",
            "    accuracy                           0.85       330\n",
            "   macro avg       0.85      0.85      0.85       330\n",
            "weighted avg       0.85      0.85      0.85       330\n",
            "\n",
            "confu_mat [[131  23]\n",
            " [ 26 150]]\n"
          ]
        }
      ]
    },
    {
      "cell_type": "code",
      "source": [
        "from sklearn.model_selection import GridSearchCV\n",
        "param_grid={\"n_estimators\":[50,100,200],\n",
        "            \"learning_rate\":[0.001,0.1,1,1.5,2,2.5],\n",
        "            \"ccp_alpha\":[1,2]}\n",
        "gdc=GradientBoostingClassifier()\n",
        "\n",
        "clf=GridSearchCV(estimator=gdc,param_grid=param_grid,cv=5,verbose=3)\n",
        "clf"
      ],
      "metadata": {
        "colab": {
          "base_uri": "https://localhost:8080/",
          "height": 117
        },
        "id": "QGyobU1j-r0t",
        "outputId": "8ef7cd64-b361-4510-8172-b5dc0bc05971"
      },
      "execution_count": 9,
      "outputs": [
        {
          "output_type": "execute_result",
          "data": {
            "text/plain": [
              "GridSearchCV(cv=5, estimator=GradientBoostingClassifier(),\n",
              "             param_grid={'ccp_alpha': [1, 2],\n",
              "                         'learning_rate': [0.001, 0.1, 1, 1.5, 2, 2.5],\n",
              "                         'n_estimators': [50, 100, 200]},\n",
              "             verbose=3)"
            ],
            "text/html": [
              "<style>#sk-container-id-4 {color: black;}#sk-container-id-4 pre{padding: 0;}#sk-container-id-4 div.sk-toggleable {background-color: white;}#sk-container-id-4 label.sk-toggleable__label {cursor: pointer;display: block;width: 100%;margin-bottom: 0;padding: 0.3em;box-sizing: border-box;text-align: center;}#sk-container-id-4 label.sk-toggleable__label-arrow:before {content: \"▸\";float: left;margin-right: 0.25em;color: #696969;}#sk-container-id-4 label.sk-toggleable__label-arrow:hover:before {color: black;}#sk-container-id-4 div.sk-estimator:hover label.sk-toggleable__label-arrow:before {color: black;}#sk-container-id-4 div.sk-toggleable__content {max-height: 0;max-width: 0;overflow: hidden;text-align: left;background-color: #f0f8ff;}#sk-container-id-4 div.sk-toggleable__content pre {margin: 0.2em;color: black;border-radius: 0.25em;background-color: #f0f8ff;}#sk-container-id-4 input.sk-toggleable__control:checked~div.sk-toggleable__content {max-height: 200px;max-width: 100%;overflow: auto;}#sk-container-id-4 input.sk-toggleable__control:checked~label.sk-toggleable__label-arrow:before {content: \"▾\";}#sk-container-id-4 div.sk-estimator input.sk-toggleable__control:checked~label.sk-toggleable__label {background-color: #d4ebff;}#sk-container-id-4 div.sk-label input.sk-toggleable__control:checked~label.sk-toggleable__label {background-color: #d4ebff;}#sk-container-id-4 input.sk-hidden--visually {border: 0;clip: rect(1px 1px 1px 1px);clip: rect(1px, 1px, 1px, 1px);height: 1px;margin: -1px;overflow: hidden;padding: 0;position: absolute;width: 1px;}#sk-container-id-4 div.sk-estimator {font-family: monospace;background-color: #f0f8ff;border: 1px dotted black;border-radius: 0.25em;box-sizing: border-box;margin-bottom: 0.5em;}#sk-container-id-4 div.sk-estimator:hover {background-color: #d4ebff;}#sk-container-id-4 div.sk-parallel-item::after {content: \"\";width: 100%;border-bottom: 1px solid gray;flex-grow: 1;}#sk-container-id-4 div.sk-label:hover label.sk-toggleable__label {background-color: #d4ebff;}#sk-container-id-4 div.sk-serial::before {content: \"\";position: absolute;border-left: 1px solid gray;box-sizing: border-box;top: 0;bottom: 0;left: 50%;z-index: 0;}#sk-container-id-4 div.sk-serial {display: flex;flex-direction: column;align-items: center;background-color: white;padding-right: 0.2em;padding-left: 0.2em;position: relative;}#sk-container-id-4 div.sk-item {position: relative;z-index: 1;}#sk-container-id-4 div.sk-parallel {display: flex;align-items: stretch;justify-content: center;background-color: white;position: relative;}#sk-container-id-4 div.sk-item::before, #sk-container-id-4 div.sk-parallel-item::before {content: \"\";position: absolute;border-left: 1px solid gray;box-sizing: border-box;top: 0;bottom: 0;left: 50%;z-index: -1;}#sk-container-id-4 div.sk-parallel-item {display: flex;flex-direction: column;z-index: 1;position: relative;background-color: white;}#sk-container-id-4 div.sk-parallel-item:first-child::after {align-self: flex-end;width: 50%;}#sk-container-id-4 div.sk-parallel-item:last-child::after {align-self: flex-start;width: 50%;}#sk-container-id-4 div.sk-parallel-item:only-child::after {width: 0;}#sk-container-id-4 div.sk-dashed-wrapped {border: 1px dashed gray;margin: 0 0.4em 0.5em 0.4em;box-sizing: border-box;padding-bottom: 0.4em;background-color: white;}#sk-container-id-4 div.sk-label label {font-family: monospace;font-weight: bold;display: inline-block;line-height: 1.2em;}#sk-container-id-4 div.sk-label-container {text-align: center;}#sk-container-id-4 div.sk-container {/* jupyter's `normalize.less` sets `[hidden] { display: none; }` but bootstrap.min.css set `[hidden] { display: none !important; }` so we also need the `!important` here to be able to override the default hidden behavior on the sphinx rendered scikit-learn.org. See: https://github.com/scikit-learn/scikit-learn/issues/21755 */display: inline-block !important;position: relative;}#sk-container-id-4 div.sk-text-repr-fallback {display: none;}</style><div id=\"sk-container-id-4\" class=\"sk-top-container\"><div class=\"sk-text-repr-fallback\"><pre>GridSearchCV(cv=5, estimator=GradientBoostingClassifier(),\n",
              "             param_grid={&#x27;ccp_alpha&#x27;: [1, 2],\n",
              "                         &#x27;learning_rate&#x27;: [0.001, 0.1, 1, 1.5, 2, 2.5],\n",
              "                         &#x27;n_estimators&#x27;: [50, 100, 200]},\n",
              "             verbose=3)</pre><b>In a Jupyter environment, please rerun this cell to show the HTML representation or trust the notebook. <br />On GitHub, the HTML representation is unable to render, please try loading this page with nbviewer.org.</b></div><div class=\"sk-container\" hidden><div class=\"sk-item sk-dashed-wrapped\"><div class=\"sk-label-container\"><div class=\"sk-label sk-toggleable\"><input class=\"sk-toggleable__control sk-hidden--visually\" id=\"sk-estimator-id-8\" type=\"checkbox\" ><label for=\"sk-estimator-id-8\" class=\"sk-toggleable__label sk-toggleable__label-arrow\">GridSearchCV</label><div class=\"sk-toggleable__content\"><pre>GridSearchCV(cv=5, estimator=GradientBoostingClassifier(),\n",
              "             param_grid={&#x27;ccp_alpha&#x27;: [1, 2],\n",
              "                         &#x27;learning_rate&#x27;: [0.001, 0.1, 1, 1.5, 2, 2.5],\n",
              "                         &#x27;n_estimators&#x27;: [50, 100, 200]},\n",
              "             verbose=3)</pre></div></div></div><div class=\"sk-parallel\"><div class=\"sk-parallel-item\"><div class=\"sk-item\"><div class=\"sk-label-container\"><div class=\"sk-label sk-toggleable\"><input class=\"sk-toggleable__control sk-hidden--visually\" id=\"sk-estimator-id-9\" type=\"checkbox\" ><label for=\"sk-estimator-id-9\" class=\"sk-toggleable__label sk-toggleable__label-arrow\">estimator: GradientBoostingClassifier</label><div class=\"sk-toggleable__content\"><pre>GradientBoostingClassifier()</pre></div></div></div><div class=\"sk-serial\"><div class=\"sk-item\"><div class=\"sk-estimator sk-toggleable\"><input class=\"sk-toggleable__control sk-hidden--visually\" id=\"sk-estimator-id-10\" type=\"checkbox\" ><label for=\"sk-estimator-id-10\" class=\"sk-toggleable__label sk-toggleable__label-arrow\">GradientBoostingClassifier</label><div class=\"sk-toggleable__content\"><pre>GradientBoostingClassifier()</pre></div></div></div></div></div></div></div></div></div></div>"
            ]
          },
          "metadata": {},
          "execution_count": 9
        }
      ]
    },
    {
      "cell_type": "code",
      "source": [
        "clf.fit(x_train,y_train)"
      ],
      "metadata": {
        "colab": {
          "base_uri": "https://localhost:8080/",
          "height": 1000
        },
        "id": "8zWsxxdNAtCX",
        "outputId": "0b8935ad-98ee-4634-e28d-80c185705d6f"
      },
      "execution_count": 10,
      "outputs": [
        {
          "output_type": "stream",
          "name": "stdout",
          "text": [
            "Fitting 5 folds for each of 36 candidates, totalling 180 fits\n",
            "[CV 1/5] END ccp_alpha=1, learning_rate=0.001, n_estimators=50;, score=0.515 total time=   0.3s\n",
            "[CV 2/5] END ccp_alpha=1, learning_rate=0.001, n_estimators=50;, score=0.515 total time=   0.3s\n",
            "[CV 3/5] END ccp_alpha=1, learning_rate=0.001, n_estimators=50;, score=0.515 total time=   0.3s\n",
            "[CV 4/5] END ccp_alpha=1, learning_rate=0.001, n_estimators=50;, score=0.522 total time=   0.3s\n",
            "[CV 5/5] END ccp_alpha=1, learning_rate=0.001, n_estimators=50;, score=0.522 total time=   0.3s\n",
            "[CV 1/5] END ccp_alpha=1, learning_rate=0.001, n_estimators=100;, score=0.515 total time=   0.8s\n",
            "[CV 2/5] END ccp_alpha=1, learning_rate=0.001, n_estimators=100;, score=0.515 total time=   0.7s\n",
            "[CV 3/5] END ccp_alpha=1, learning_rate=0.001, n_estimators=100;, score=0.515 total time=   0.7s\n",
            "[CV 4/5] END ccp_alpha=1, learning_rate=0.001, n_estimators=100;, score=0.522 total time=   0.7s\n",
            "[CV 5/5] END ccp_alpha=1, learning_rate=0.001, n_estimators=100;, score=0.522 total time=   0.7s\n",
            "[CV 1/5] END ccp_alpha=1, learning_rate=0.001, n_estimators=200;, score=0.515 total time=   1.1s\n",
            "[CV 2/5] END ccp_alpha=1, learning_rate=0.001, n_estimators=200;, score=0.515 total time=   1.1s\n",
            "[CV 3/5] END ccp_alpha=1, learning_rate=0.001, n_estimators=200;, score=0.515 total time=   1.1s\n",
            "[CV 4/5] END ccp_alpha=1, learning_rate=0.001, n_estimators=200;, score=0.522 total time=   1.1s\n",
            "[CV 5/5] END ccp_alpha=1, learning_rate=0.001, n_estimators=200;, score=0.522 total time=   1.1s\n",
            "[CV 1/5] END ccp_alpha=1, learning_rate=0.1, n_estimators=50;, score=0.515 total time=   0.3s\n",
            "[CV 2/5] END ccp_alpha=1, learning_rate=0.1, n_estimators=50;, score=0.515 total time=   0.3s\n",
            "[CV 3/5] END ccp_alpha=1, learning_rate=0.1, n_estimators=50;, score=0.515 total time=   0.3s\n",
            "[CV 4/5] END ccp_alpha=1, learning_rate=0.1, n_estimators=50;, score=0.522 total time=   0.3s\n",
            "[CV 5/5] END ccp_alpha=1, learning_rate=0.1, n_estimators=50;, score=0.522 total time=   0.3s\n",
            "[CV 1/5] END ccp_alpha=1, learning_rate=0.1, n_estimators=100;, score=0.515 total time=   0.6s\n",
            "[CV 2/5] END ccp_alpha=1, learning_rate=0.1, n_estimators=100;, score=0.515 total time=   0.6s\n",
            "[CV 3/5] END ccp_alpha=1, learning_rate=0.1, n_estimators=100;, score=0.515 total time=   0.6s\n",
            "[CV 4/5] END ccp_alpha=1, learning_rate=0.1, n_estimators=100;, score=0.522 total time=   0.6s\n",
            "[CV 5/5] END ccp_alpha=1, learning_rate=0.1, n_estimators=100;, score=0.522 total time=   0.6s\n",
            "[CV 1/5] END ccp_alpha=1, learning_rate=0.1, n_estimators=200;, score=0.515 total time=   1.4s\n",
            "[CV 2/5] END ccp_alpha=1, learning_rate=0.1, n_estimators=200;, score=0.515 total time=   1.5s\n",
            "[CV 3/5] END ccp_alpha=1, learning_rate=0.1, n_estimators=200;, score=0.515 total time=   1.2s\n",
            "[CV 4/5] END ccp_alpha=1, learning_rate=0.1, n_estimators=200;, score=0.522 total time=   1.1s\n",
            "[CV 5/5] END ccp_alpha=1, learning_rate=0.1, n_estimators=200;, score=0.522 total time=   1.1s\n",
            "[CV 1/5] END ccp_alpha=1, learning_rate=1, n_estimators=50;, score=0.515 total time=   0.3s\n",
            "[CV 2/5] END ccp_alpha=1, learning_rate=1, n_estimators=50;, score=0.515 total time=   0.3s\n",
            "[CV 3/5] END ccp_alpha=1, learning_rate=1, n_estimators=50;, score=0.515 total time=   0.3s\n",
            "[CV 4/5] END ccp_alpha=1, learning_rate=1, n_estimators=50;, score=0.522 total time=   0.3s\n",
            "[CV 5/5] END ccp_alpha=1, learning_rate=1, n_estimators=50;, score=0.522 total time=   0.3s\n",
            "[CV 1/5] END ccp_alpha=1, learning_rate=1, n_estimators=100;, score=0.515 total time=   0.5s\n",
            "[CV 2/5] END ccp_alpha=1, learning_rate=1, n_estimators=100;, score=0.515 total time=   0.6s\n",
            "[CV 3/5] END ccp_alpha=1, learning_rate=1, n_estimators=100;, score=0.515 total time=   0.5s\n",
            "[CV 4/5] END ccp_alpha=1, learning_rate=1, n_estimators=100;, score=0.522 total time=   0.6s\n",
            "[CV 5/5] END ccp_alpha=1, learning_rate=1, n_estimators=100;, score=0.522 total time=   0.6s\n",
            "[CV 1/5] END ccp_alpha=1, learning_rate=1, n_estimators=200;, score=0.515 total time=   1.1s\n",
            "[CV 2/5] END ccp_alpha=1, learning_rate=1, n_estimators=200;, score=0.515 total time=   1.1s\n",
            "[CV 3/5] END ccp_alpha=1, learning_rate=1, n_estimators=200;, score=0.515 total time=   1.3s\n",
            "[CV 4/5] END ccp_alpha=1, learning_rate=1, n_estimators=200;, score=0.522 total time=   1.4s\n",
            "[CV 5/5] END ccp_alpha=1, learning_rate=1, n_estimators=200;, score=0.522 total time=   1.4s\n",
            "[CV 1/5] END ccp_alpha=1, learning_rate=1.5, n_estimators=50;, score=0.515 total time=   0.3s\n",
            "[CV 2/5] END ccp_alpha=1, learning_rate=1.5, n_estimators=50;, score=0.515 total time=   0.3s\n",
            "[CV 3/5] END ccp_alpha=1, learning_rate=1.5, n_estimators=50;, score=0.515 total time=   0.3s\n",
            "[CV 4/5] END ccp_alpha=1, learning_rate=1.5, n_estimators=50;, score=0.522 total time=   0.3s\n",
            "[CV 5/5] END ccp_alpha=1, learning_rate=1.5, n_estimators=50;, score=0.522 total time=   0.3s\n",
            "[CV 1/5] END ccp_alpha=1, learning_rate=1.5, n_estimators=100;, score=0.515 total time=   0.6s\n",
            "[CV 2/5] END ccp_alpha=1, learning_rate=1.5, n_estimators=100;, score=0.515 total time=   0.6s\n",
            "[CV 3/5] END ccp_alpha=1, learning_rate=1.5, n_estimators=100;, score=0.515 total time=   0.6s\n",
            "[CV 4/5] END ccp_alpha=1, learning_rate=1.5, n_estimators=100;, score=0.522 total time=   0.6s\n",
            "[CV 5/5] END ccp_alpha=1, learning_rate=1.5, n_estimators=100;, score=0.522 total time=   0.6s\n",
            "[CV 1/5] END ccp_alpha=1, learning_rate=1.5, n_estimators=200;, score=0.515 total time=   1.1s\n",
            "[CV 2/5] END ccp_alpha=1, learning_rate=1.5, n_estimators=200;, score=0.515 total time=   1.1s\n",
            "[CV 3/5] END ccp_alpha=1, learning_rate=1.5, n_estimators=200;, score=0.515 total time=   1.2s\n",
            "[CV 4/5] END ccp_alpha=1, learning_rate=1.5, n_estimators=200;, score=0.522 total time=   1.1s\n",
            "[CV 5/5] END ccp_alpha=1, learning_rate=1.5, n_estimators=200;, score=0.522 total time=   1.1s\n",
            "[CV 1/5] END ccp_alpha=1, learning_rate=2, n_estimators=50;, score=0.515 total time=   0.4s\n",
            "[CV 2/5] END ccp_alpha=1, learning_rate=2, n_estimators=50;, score=0.515 total time=   0.3s\n",
            "[CV 3/5] END ccp_alpha=1, learning_rate=2, n_estimators=50;, score=0.515 total time=   0.3s\n",
            "[CV 4/5] END ccp_alpha=1, learning_rate=2, n_estimators=50;, score=0.522 total time=   0.4s\n",
            "[CV 5/5] END ccp_alpha=1, learning_rate=2, n_estimators=50;, score=0.522 total time=   0.4s\n",
            "[CV 1/5] END ccp_alpha=1, learning_rate=2, n_estimators=100;, score=0.515 total time=   0.7s\n",
            "[CV 2/5] END ccp_alpha=1, learning_rate=2, n_estimators=100;, score=0.515 total time=   0.7s\n",
            "[CV 3/5] END ccp_alpha=1, learning_rate=2, n_estimators=100;, score=0.515 total time=   0.5s\n",
            "[CV 4/5] END ccp_alpha=1, learning_rate=2, n_estimators=100;, score=0.522 total time=   0.6s\n",
            "[CV 5/5] END ccp_alpha=1, learning_rate=2, n_estimators=100;, score=0.522 total time=   0.6s\n",
            "[CV 1/5] END ccp_alpha=1, learning_rate=2, n_estimators=200;, score=0.515 total time=   1.1s\n",
            "[CV 2/5] END ccp_alpha=1, learning_rate=2, n_estimators=200;, score=0.515 total time=   1.1s\n",
            "[CV 3/5] END ccp_alpha=1, learning_rate=2, n_estimators=200;, score=0.515 total time=   1.1s\n",
            "[CV 4/5] END ccp_alpha=1, learning_rate=2, n_estimators=200;, score=0.522 total time=   1.1s\n",
            "[CV 5/5] END ccp_alpha=1, learning_rate=2, n_estimators=200;, score=0.522 total time=   1.1s\n",
            "[CV 1/5] END ccp_alpha=1, learning_rate=2.5, n_estimators=50;, score=0.515 total time=   0.3s\n",
            "[CV 2/5] END ccp_alpha=1, learning_rate=2.5, n_estimators=50;, score=0.515 total time=   0.3s\n",
            "[CV 3/5] END ccp_alpha=1, learning_rate=2.5, n_estimators=50;, score=0.515 total time=   0.3s\n",
            "[CV 4/5] END ccp_alpha=1, learning_rate=2.5, n_estimators=50;, score=0.522 total time=   0.3s\n",
            "[CV 5/5] END ccp_alpha=1, learning_rate=2.5, n_estimators=50;, score=0.522 total time=   0.3s\n",
            "[CV 1/5] END ccp_alpha=1, learning_rate=2.5, n_estimators=100;, score=0.485 total time=   0.5s\n",
            "[CV 2/5] END ccp_alpha=1, learning_rate=2.5, n_estimators=100;, score=0.485 total time=   0.5s\n",
            "[CV 3/5] END ccp_alpha=1, learning_rate=2.5, n_estimators=100;, score=0.485 total time=   0.6s\n",
            "[CV 4/5] END ccp_alpha=1, learning_rate=2.5, n_estimators=100;, score=0.478 total time=   0.7s\n",
            "[CV 5/5] END ccp_alpha=1, learning_rate=2.5, n_estimators=100;, score=0.478 total time=   0.7s\n",
            "[CV 1/5] END ccp_alpha=1, learning_rate=2.5, n_estimators=200;, score=0.485 total time=   1.4s\n",
            "[CV 2/5] END ccp_alpha=1, learning_rate=2.5, n_estimators=200;, score=0.485 total time=   1.2s\n",
            "[CV 3/5] END ccp_alpha=1, learning_rate=2.5, n_estimators=200;, score=0.485 total time=   1.1s\n",
            "[CV 4/5] END ccp_alpha=1, learning_rate=2.5, n_estimators=200;, score=0.478 total time=   1.1s\n",
            "[CV 5/5] END ccp_alpha=1, learning_rate=2.5, n_estimators=200;, score=0.478 total time=   1.1s\n",
            "[CV 1/5] END ccp_alpha=2, learning_rate=0.001, n_estimators=50;, score=0.515 total time=   0.3s\n",
            "[CV 2/5] END ccp_alpha=2, learning_rate=0.001, n_estimators=50;, score=0.515 total time=   0.3s\n",
            "[CV 3/5] END ccp_alpha=2, learning_rate=0.001, n_estimators=50;, score=0.515 total time=   0.3s\n",
            "[CV 4/5] END ccp_alpha=2, learning_rate=0.001, n_estimators=50;, score=0.522 total time=   0.3s\n",
            "[CV 5/5] END ccp_alpha=2, learning_rate=0.001, n_estimators=50;, score=0.522 total time=   0.3s\n",
            "[CV 1/5] END ccp_alpha=2, learning_rate=0.001, n_estimators=100;, score=0.515 total time=   0.5s\n",
            "[CV 2/5] END ccp_alpha=2, learning_rate=0.001, n_estimators=100;, score=0.515 total time=   0.5s\n",
            "[CV 3/5] END ccp_alpha=2, learning_rate=0.001, n_estimators=100;, score=0.515 total time=   0.5s\n",
            "[CV 4/5] END ccp_alpha=2, learning_rate=0.001, n_estimators=100;, score=0.522 total time=   0.6s\n",
            "[CV 5/5] END ccp_alpha=2, learning_rate=0.001, n_estimators=100;, score=0.522 total time=   0.5s\n",
            "[CV 1/5] END ccp_alpha=2, learning_rate=0.001, n_estimators=200;, score=0.515 total time=   1.1s\n",
            "[CV 2/5] END ccp_alpha=2, learning_rate=0.001, n_estimators=200;, score=0.515 total time=   1.2s\n",
            "[CV 3/5] END ccp_alpha=2, learning_rate=0.001, n_estimators=200;, score=0.515 total time=   1.4s\n",
            "[CV 4/5] END ccp_alpha=2, learning_rate=0.001, n_estimators=200;, score=0.522 total time=   1.5s\n",
            "[CV 5/5] END ccp_alpha=2, learning_rate=0.001, n_estimators=200;, score=0.522 total time=   1.1s\n",
            "[CV 1/5] END ccp_alpha=2, learning_rate=0.1, n_estimators=50;, score=0.515 total time=   0.3s\n",
            "[CV 2/5] END ccp_alpha=2, learning_rate=0.1, n_estimators=50;, score=0.515 total time=   0.3s\n",
            "[CV 3/5] END ccp_alpha=2, learning_rate=0.1, n_estimators=50;, score=0.515 total time=   0.3s\n",
            "[CV 4/5] END ccp_alpha=2, learning_rate=0.1, n_estimators=50;, score=0.522 total time=   0.3s\n",
            "[CV 5/5] END ccp_alpha=2, learning_rate=0.1, n_estimators=50;, score=0.522 total time=   0.3s\n",
            "[CV 1/5] END ccp_alpha=2, learning_rate=0.1, n_estimators=100;, score=0.515 total time=   0.6s\n",
            "[CV 2/5] END ccp_alpha=2, learning_rate=0.1, n_estimators=100;, score=0.515 total time=   0.6s\n",
            "[CV 3/5] END ccp_alpha=2, learning_rate=0.1, n_estimators=100;, score=0.515 total time=   0.6s\n",
            "[CV 4/5] END ccp_alpha=2, learning_rate=0.1, n_estimators=100;, score=0.522 total time=   0.6s\n",
            "[CV 5/5] END ccp_alpha=2, learning_rate=0.1, n_estimators=100;, score=0.522 total time=   0.6s\n",
            "[CV 1/5] END ccp_alpha=2, learning_rate=0.1, n_estimators=200;, score=0.515 total time=   1.1s\n",
            "[CV 2/5] END ccp_alpha=2, learning_rate=0.1, n_estimators=200;, score=0.515 total time=   1.3s\n",
            "[CV 3/5] END ccp_alpha=2, learning_rate=0.1, n_estimators=200;, score=0.515 total time=   1.4s\n",
            "[CV 4/5] END ccp_alpha=2, learning_rate=0.1, n_estimators=200;, score=0.522 total time=   1.3s\n",
            "[CV 5/5] END ccp_alpha=2, learning_rate=0.1, n_estimators=200;, score=0.522 total time=   1.7s\n",
            "[CV 1/5] END ccp_alpha=2, learning_rate=1, n_estimators=50;, score=0.515 total time=   0.4s\n",
            "[CV 2/5] END ccp_alpha=2, learning_rate=1, n_estimators=50;, score=0.515 total time=   0.4s\n",
            "[CV 3/5] END ccp_alpha=2, learning_rate=1, n_estimators=50;, score=0.515 total time=   0.5s\n",
            "[CV 4/5] END ccp_alpha=2, learning_rate=1, n_estimators=50;, score=0.522 total time=   0.4s\n",
            "[CV 5/5] END ccp_alpha=2, learning_rate=1, n_estimators=50;, score=0.522 total time=   0.5s\n",
            "[CV 1/5] END ccp_alpha=2, learning_rate=1, n_estimators=100;, score=0.515 total time=   0.6s\n",
            "[CV 2/5] END ccp_alpha=2, learning_rate=1, n_estimators=100;, score=0.515 total time=   0.6s\n",
            "[CV 3/5] END ccp_alpha=2, learning_rate=1, n_estimators=100;, score=0.515 total time=   0.7s\n",
            "[CV 4/5] END ccp_alpha=2, learning_rate=1, n_estimators=100;, score=0.522 total time=   0.7s\n",
            "[CV 5/5] END ccp_alpha=2, learning_rate=1, n_estimators=100;, score=0.522 total time=   0.7s\n",
            "[CV 1/5] END ccp_alpha=2, learning_rate=1, n_estimators=200;, score=0.515 total time=   1.5s\n",
            "[CV 2/5] END ccp_alpha=2, learning_rate=1, n_estimators=200;, score=0.515 total time=   1.2s\n",
            "[CV 3/5] END ccp_alpha=2, learning_rate=1, n_estimators=200;, score=0.515 total time=   1.1s\n",
            "[CV 4/5] END ccp_alpha=2, learning_rate=1, n_estimators=200;, score=0.522 total time=   1.1s\n",
            "[CV 5/5] END ccp_alpha=2, learning_rate=1, n_estimators=200;, score=0.522 total time=   1.1s\n",
            "[CV 1/5] END ccp_alpha=2, learning_rate=1.5, n_estimators=50;, score=0.515 total time=   0.3s\n",
            "[CV 2/5] END ccp_alpha=2, learning_rate=1.5, n_estimators=50;, score=0.515 total time=   0.3s\n",
            "[CV 3/5] END ccp_alpha=2, learning_rate=1.5, n_estimators=50;, score=0.515 total time=   0.3s\n",
            "[CV 4/5] END ccp_alpha=2, learning_rate=1.5, n_estimators=50;, score=0.522 total time=   0.4s\n",
            "[CV 5/5] END ccp_alpha=2, learning_rate=1.5, n_estimators=50;, score=0.522 total time=   0.4s\n",
            "[CV 1/5] END ccp_alpha=2, learning_rate=1.5, n_estimators=100;, score=0.515 total time=   0.7s\n",
            "[CV 2/5] END ccp_alpha=2, learning_rate=1.5, n_estimators=100;, score=0.515 total time=   0.7s\n",
            "[CV 3/5] END ccp_alpha=2, learning_rate=1.5, n_estimators=100;, score=0.515 total time=   0.7s\n",
            "[CV 4/5] END ccp_alpha=2, learning_rate=1.5, n_estimators=100;, score=0.522 total time=   0.6s\n",
            "[CV 5/5] END ccp_alpha=2, learning_rate=1.5, n_estimators=100;, score=0.522 total time=   0.6s\n",
            "[CV 1/5] END ccp_alpha=2, learning_rate=1.5, n_estimators=200;, score=0.515 total time=   1.2s\n",
            "[CV 2/5] END ccp_alpha=2, learning_rate=1.5, n_estimators=200;, score=0.515 total time=   1.1s\n",
            "[CV 3/5] END ccp_alpha=2, learning_rate=1.5, n_estimators=200;, score=0.515 total time=   1.1s\n",
            "[CV 4/5] END ccp_alpha=2, learning_rate=1.5, n_estimators=200;, score=0.522 total time=   1.1s\n",
            "[CV 5/5] END ccp_alpha=2, learning_rate=1.5, n_estimators=200;, score=0.522 total time=   1.1s\n",
            "[CV 1/5] END ccp_alpha=2, learning_rate=2, n_estimators=50;, score=0.515 total time=   0.3s\n",
            "[CV 2/5] END ccp_alpha=2, learning_rate=2, n_estimators=50;, score=0.515 total time=   0.3s\n",
            "[CV 3/5] END ccp_alpha=2, learning_rate=2, n_estimators=50;, score=0.515 total time=   0.3s\n",
            "[CV 4/5] END ccp_alpha=2, learning_rate=2, n_estimators=50;, score=0.522 total time=   0.3s\n",
            "[CV 5/5] END ccp_alpha=2, learning_rate=2, n_estimators=50;, score=0.522 total time=   0.3s\n",
            "[CV 1/5] END ccp_alpha=2, learning_rate=2, n_estimators=100;, score=0.515 total time=   0.6s\n",
            "[CV 2/5] END ccp_alpha=2, learning_rate=2, n_estimators=100;, score=0.515 total time=   0.5s\n",
            "[CV 3/5] END ccp_alpha=2, learning_rate=2, n_estimators=100;, score=0.515 total time=   0.6s\n",
            "[CV 4/5] END ccp_alpha=2, learning_rate=2, n_estimators=100;, score=0.522 total time=   0.6s\n",
            "[CV 5/5] END ccp_alpha=2, learning_rate=2, n_estimators=100;, score=0.522 total time=   0.7s\n",
            "[CV 1/5] END ccp_alpha=2, learning_rate=2, n_estimators=200;, score=0.515 total time=   1.4s\n",
            "[CV 2/5] END ccp_alpha=2, learning_rate=2, n_estimators=200;, score=0.515 total time=   1.4s\n",
            "[CV 3/5] END ccp_alpha=2, learning_rate=2, n_estimators=200;, score=0.515 total time=   1.1s\n",
            "[CV 4/5] END ccp_alpha=2, learning_rate=2, n_estimators=200;, score=0.522 total time=   1.1s\n",
            "[CV 5/5] END ccp_alpha=2, learning_rate=2, n_estimators=200;, score=0.522 total time=   1.2s\n",
            "[CV 1/5] END ccp_alpha=2, learning_rate=2.5, n_estimators=50;, score=0.515 total time=   0.3s\n",
            "[CV 2/5] END ccp_alpha=2, learning_rate=2.5, n_estimators=50;, score=0.515 total time=   0.3s\n",
            "[CV 3/5] END ccp_alpha=2, learning_rate=2.5, n_estimators=50;, score=0.515 total time=   0.3s\n",
            "[CV 4/5] END ccp_alpha=2, learning_rate=2.5, n_estimators=50;, score=0.522 total time=   0.3s\n",
            "[CV 5/5] END ccp_alpha=2, learning_rate=2.5, n_estimators=50;, score=0.522 total time=   0.3s\n",
            "[CV 1/5] END ccp_alpha=2, learning_rate=2.5, n_estimators=100;, score=0.485 total time=   0.6s\n",
            "[CV 2/5] END ccp_alpha=2, learning_rate=2.5, n_estimators=100;, score=0.485 total time=   0.6s\n",
            "[CV 3/5] END ccp_alpha=2, learning_rate=2.5, n_estimators=100;, score=0.485 total time=   0.6s\n",
            "[CV 4/5] END ccp_alpha=2, learning_rate=2.5, n_estimators=100;, score=0.478 total time=   0.6s\n",
            "[CV 5/5] END ccp_alpha=2, learning_rate=2.5, n_estimators=100;, score=0.478 total time=   0.6s\n",
            "[CV 1/5] END ccp_alpha=2, learning_rate=2.5, n_estimators=200;, score=0.485 total time=   1.1s\n",
            "[CV 2/5] END ccp_alpha=2, learning_rate=2.5, n_estimators=200;, score=0.485 total time=   1.2s\n",
            "[CV 3/5] END ccp_alpha=2, learning_rate=2.5, n_estimators=200;, score=0.485 total time=   1.5s\n",
            "[CV 4/5] END ccp_alpha=2, learning_rate=2.5, n_estimators=200;, score=0.478 total time=   1.5s\n",
            "[CV 5/5] END ccp_alpha=2, learning_rate=2.5, n_estimators=200;, score=0.478 total time=   1.2s\n"
          ]
        },
        {
          "output_type": "execute_result",
          "data": {
            "text/plain": [
              "GridSearchCV(cv=5, estimator=GradientBoostingClassifier(),\n",
              "             param_grid={'ccp_alpha': [1, 2],\n",
              "                         'learning_rate': [0.001, 0.1, 1, 1.5, 2, 2.5],\n",
              "                         'n_estimators': [50, 100, 200]},\n",
              "             verbose=3)"
            ],
            "text/html": [
              "<style>#sk-container-id-5 {color: black;}#sk-container-id-5 pre{padding: 0;}#sk-container-id-5 div.sk-toggleable {background-color: white;}#sk-container-id-5 label.sk-toggleable__label {cursor: pointer;display: block;width: 100%;margin-bottom: 0;padding: 0.3em;box-sizing: border-box;text-align: center;}#sk-container-id-5 label.sk-toggleable__label-arrow:before {content: \"▸\";float: left;margin-right: 0.25em;color: #696969;}#sk-container-id-5 label.sk-toggleable__label-arrow:hover:before {color: black;}#sk-container-id-5 div.sk-estimator:hover label.sk-toggleable__label-arrow:before {color: black;}#sk-container-id-5 div.sk-toggleable__content {max-height: 0;max-width: 0;overflow: hidden;text-align: left;background-color: #f0f8ff;}#sk-container-id-5 div.sk-toggleable__content pre {margin: 0.2em;color: black;border-radius: 0.25em;background-color: #f0f8ff;}#sk-container-id-5 input.sk-toggleable__control:checked~div.sk-toggleable__content {max-height: 200px;max-width: 100%;overflow: auto;}#sk-container-id-5 input.sk-toggleable__control:checked~label.sk-toggleable__label-arrow:before {content: \"▾\";}#sk-container-id-5 div.sk-estimator input.sk-toggleable__control:checked~label.sk-toggleable__label {background-color: #d4ebff;}#sk-container-id-5 div.sk-label input.sk-toggleable__control:checked~label.sk-toggleable__label {background-color: #d4ebff;}#sk-container-id-5 input.sk-hidden--visually {border: 0;clip: rect(1px 1px 1px 1px);clip: rect(1px, 1px, 1px, 1px);height: 1px;margin: -1px;overflow: hidden;padding: 0;position: absolute;width: 1px;}#sk-container-id-5 div.sk-estimator {font-family: monospace;background-color: #f0f8ff;border: 1px dotted black;border-radius: 0.25em;box-sizing: border-box;margin-bottom: 0.5em;}#sk-container-id-5 div.sk-estimator:hover {background-color: #d4ebff;}#sk-container-id-5 div.sk-parallel-item::after {content: \"\";width: 100%;border-bottom: 1px solid gray;flex-grow: 1;}#sk-container-id-5 div.sk-label:hover label.sk-toggleable__label {background-color: #d4ebff;}#sk-container-id-5 div.sk-serial::before {content: \"\";position: absolute;border-left: 1px solid gray;box-sizing: border-box;top: 0;bottom: 0;left: 50%;z-index: 0;}#sk-container-id-5 div.sk-serial {display: flex;flex-direction: column;align-items: center;background-color: white;padding-right: 0.2em;padding-left: 0.2em;position: relative;}#sk-container-id-5 div.sk-item {position: relative;z-index: 1;}#sk-container-id-5 div.sk-parallel {display: flex;align-items: stretch;justify-content: center;background-color: white;position: relative;}#sk-container-id-5 div.sk-item::before, #sk-container-id-5 div.sk-parallel-item::before {content: \"\";position: absolute;border-left: 1px solid gray;box-sizing: border-box;top: 0;bottom: 0;left: 50%;z-index: -1;}#sk-container-id-5 div.sk-parallel-item {display: flex;flex-direction: column;z-index: 1;position: relative;background-color: white;}#sk-container-id-5 div.sk-parallel-item:first-child::after {align-self: flex-end;width: 50%;}#sk-container-id-5 div.sk-parallel-item:last-child::after {align-self: flex-start;width: 50%;}#sk-container-id-5 div.sk-parallel-item:only-child::after {width: 0;}#sk-container-id-5 div.sk-dashed-wrapped {border: 1px dashed gray;margin: 0 0.4em 0.5em 0.4em;box-sizing: border-box;padding-bottom: 0.4em;background-color: white;}#sk-container-id-5 div.sk-label label {font-family: monospace;font-weight: bold;display: inline-block;line-height: 1.2em;}#sk-container-id-5 div.sk-label-container {text-align: center;}#sk-container-id-5 div.sk-container {/* jupyter's `normalize.less` sets `[hidden] { display: none; }` but bootstrap.min.css set `[hidden] { display: none !important; }` so we also need the `!important` here to be able to override the default hidden behavior on the sphinx rendered scikit-learn.org. See: https://github.com/scikit-learn/scikit-learn/issues/21755 */display: inline-block !important;position: relative;}#sk-container-id-5 div.sk-text-repr-fallback {display: none;}</style><div id=\"sk-container-id-5\" class=\"sk-top-container\"><div class=\"sk-text-repr-fallback\"><pre>GridSearchCV(cv=5, estimator=GradientBoostingClassifier(),\n",
              "             param_grid={&#x27;ccp_alpha&#x27;: [1, 2],\n",
              "                         &#x27;learning_rate&#x27;: [0.001, 0.1, 1, 1.5, 2, 2.5],\n",
              "                         &#x27;n_estimators&#x27;: [50, 100, 200]},\n",
              "             verbose=3)</pre><b>In a Jupyter environment, please rerun this cell to show the HTML representation or trust the notebook. <br />On GitHub, the HTML representation is unable to render, please try loading this page with nbviewer.org.</b></div><div class=\"sk-container\" hidden><div class=\"sk-item sk-dashed-wrapped\"><div class=\"sk-label-container\"><div class=\"sk-label sk-toggleable\"><input class=\"sk-toggleable__control sk-hidden--visually\" id=\"sk-estimator-id-11\" type=\"checkbox\" ><label for=\"sk-estimator-id-11\" class=\"sk-toggleable__label sk-toggleable__label-arrow\">GridSearchCV</label><div class=\"sk-toggleable__content\"><pre>GridSearchCV(cv=5, estimator=GradientBoostingClassifier(),\n",
              "             param_grid={&#x27;ccp_alpha&#x27;: [1, 2],\n",
              "                         &#x27;learning_rate&#x27;: [0.001, 0.1, 1, 1.5, 2, 2.5],\n",
              "                         &#x27;n_estimators&#x27;: [50, 100, 200]},\n",
              "             verbose=3)</pre></div></div></div><div class=\"sk-parallel\"><div class=\"sk-parallel-item\"><div class=\"sk-item\"><div class=\"sk-label-container\"><div class=\"sk-label sk-toggleable\"><input class=\"sk-toggleable__control sk-hidden--visually\" id=\"sk-estimator-id-12\" type=\"checkbox\" ><label for=\"sk-estimator-id-12\" class=\"sk-toggleable__label sk-toggleable__label-arrow\">estimator: GradientBoostingClassifier</label><div class=\"sk-toggleable__content\"><pre>GradientBoostingClassifier()</pre></div></div></div><div class=\"sk-serial\"><div class=\"sk-item\"><div class=\"sk-estimator sk-toggleable\"><input class=\"sk-toggleable__control sk-hidden--visually\" id=\"sk-estimator-id-13\" type=\"checkbox\" ><label for=\"sk-estimator-id-13\" class=\"sk-toggleable__label sk-toggleable__label-arrow\">GradientBoostingClassifier</label><div class=\"sk-toggleable__content\"><pre>GradientBoostingClassifier()</pre></div></div></div></div></div></div></div></div></div></div>"
            ]
          },
          "metadata": {},
          "execution_count": 10
        }
      ]
    },
    {
      "cell_type": "code",
      "source": [
        "clf.best_params_"
      ],
      "metadata": {
        "colab": {
          "base_uri": "https://localhost:8080/"
        },
        "id": "h-BNlTWvAyqE",
        "outputId": "a43bd200-6062-40fa-d07d-76a18f466ec0"
      },
      "execution_count": 11,
      "outputs": [
        {
          "output_type": "execute_result",
          "data": {
            "text/plain": [
              "{'ccp_alpha': 1, 'learning_rate': 0.001, 'n_estimators': 50}"
            ]
          },
          "metadata": {},
          "execution_count": 11
        }
      ]
    },
    {
      "cell_type": "code",
      "source": [
        "clf.best_score_"
      ],
      "metadata": {
        "colab": {
          "base_uri": "https://localhost:8080/"
        },
        "id": "1K8TbOcQBxQc",
        "outputId": "bbade824-57a9-4e46-876c-9759f688d1b5"
      },
      "execution_count": 12,
      "outputs": [
        {
          "output_type": "execute_result",
          "data": {
            "text/plain": [
              "0.5179104477611941"
            ]
          },
          "metadata": {},
          "execution_count": 12
        }
      ]
    },
    {
      "cell_type": "code",
      "source": [
        "best_model=clf.best_estimator_\n",
        "y_pred=best_model.predict(x_test)"
      ],
      "metadata": {
        "id": "DZfbcm4-BxTQ"
      },
      "execution_count": 13,
      "outputs": []
    },
    {
      "cell_type": "code",
      "source": [
        "accuracy_score(y_test,y_pred)"
      ],
      "metadata": {
        "colab": {
          "base_uri": "https://localhost:8080/"
        },
        "id": "ld6-7ZKxBxV3",
        "outputId": "0784db27-3ef4-4117-f5af-12158ebc3477"
      },
      "execution_count": 14,
      "outputs": [
        {
          "output_type": "execute_result",
          "data": {
            "text/plain": [
              "0.4666666666666667"
            ]
          },
          "metadata": {},
          "execution_count": 14
        }
      ]
    },
    {
      "cell_type": "markdown",
      "source": [
        "**GradientBoosting Regressor**"
      ],
      "metadata": {
        "id": "akBOhWASCIqE"
      }
    },
    {
      "cell_type": "code",
      "source": [
        "from sklearn.datasets import make_regression\n",
        "from sklearn.model_selection import train_test_split\n",
        "from sklearn.ensemble import GradientBoostingRegressor"
      ],
      "metadata": {
        "id": "DmrlZRh1BxYo"
      },
      "execution_count": 15,
      "outputs": []
    },
    {
      "cell_type": "code",
      "source": [
        "x,y=make_regression(n_samples=1000,n_features=2,noise=10,random_state=1)"
      ],
      "metadata": {
        "id": "TEzKzRC3Bxbf"
      },
      "execution_count": 16,
      "outputs": []
    },
    {
      "cell_type": "code",
      "source": [
        "x_train,x_test,y_train,y_test=train_test_split(x,y,test_size=0.33,random_state=1)"
      ],
      "metadata": {
        "id": "NsuXmLMWBxey"
      },
      "execution_count": 17,
      "outputs": []
    },
    {
      "cell_type": "code",
      "source": [
        "reg=GradientBoostingRegressor()\n",
        "reg"
      ],
      "metadata": {
        "colab": {
          "base_uri": "https://localhost:8080/",
          "height": 74
        },
        "id": "yLhL4EmeCgG_",
        "outputId": "a1bc0361-ec75-4868-c3d4-dc7c249d0de3"
      },
      "execution_count": 18,
      "outputs": [
        {
          "output_type": "execute_result",
          "data": {
            "text/plain": [
              "GradientBoostingRegressor()"
            ],
            "text/html": [
              "<style>#sk-container-id-6 {color: black;}#sk-container-id-6 pre{padding: 0;}#sk-container-id-6 div.sk-toggleable {background-color: white;}#sk-container-id-6 label.sk-toggleable__label {cursor: pointer;display: block;width: 100%;margin-bottom: 0;padding: 0.3em;box-sizing: border-box;text-align: center;}#sk-container-id-6 label.sk-toggleable__label-arrow:before {content: \"▸\";float: left;margin-right: 0.25em;color: #696969;}#sk-container-id-6 label.sk-toggleable__label-arrow:hover:before {color: black;}#sk-container-id-6 div.sk-estimator:hover label.sk-toggleable__label-arrow:before {color: black;}#sk-container-id-6 div.sk-toggleable__content {max-height: 0;max-width: 0;overflow: hidden;text-align: left;background-color: #f0f8ff;}#sk-container-id-6 div.sk-toggleable__content pre {margin: 0.2em;color: black;border-radius: 0.25em;background-color: #f0f8ff;}#sk-container-id-6 input.sk-toggleable__control:checked~div.sk-toggleable__content {max-height: 200px;max-width: 100%;overflow: auto;}#sk-container-id-6 input.sk-toggleable__control:checked~label.sk-toggleable__label-arrow:before {content: \"▾\";}#sk-container-id-6 div.sk-estimator input.sk-toggleable__control:checked~label.sk-toggleable__label {background-color: #d4ebff;}#sk-container-id-6 div.sk-label input.sk-toggleable__control:checked~label.sk-toggleable__label {background-color: #d4ebff;}#sk-container-id-6 input.sk-hidden--visually {border: 0;clip: rect(1px 1px 1px 1px);clip: rect(1px, 1px, 1px, 1px);height: 1px;margin: -1px;overflow: hidden;padding: 0;position: absolute;width: 1px;}#sk-container-id-6 div.sk-estimator {font-family: monospace;background-color: #f0f8ff;border: 1px dotted black;border-radius: 0.25em;box-sizing: border-box;margin-bottom: 0.5em;}#sk-container-id-6 div.sk-estimator:hover {background-color: #d4ebff;}#sk-container-id-6 div.sk-parallel-item::after {content: \"\";width: 100%;border-bottom: 1px solid gray;flex-grow: 1;}#sk-container-id-6 div.sk-label:hover label.sk-toggleable__label {background-color: #d4ebff;}#sk-container-id-6 div.sk-serial::before {content: \"\";position: absolute;border-left: 1px solid gray;box-sizing: border-box;top: 0;bottom: 0;left: 50%;z-index: 0;}#sk-container-id-6 div.sk-serial {display: flex;flex-direction: column;align-items: center;background-color: white;padding-right: 0.2em;padding-left: 0.2em;position: relative;}#sk-container-id-6 div.sk-item {position: relative;z-index: 1;}#sk-container-id-6 div.sk-parallel {display: flex;align-items: stretch;justify-content: center;background-color: white;position: relative;}#sk-container-id-6 div.sk-item::before, #sk-container-id-6 div.sk-parallel-item::before {content: \"\";position: absolute;border-left: 1px solid gray;box-sizing: border-box;top: 0;bottom: 0;left: 50%;z-index: -1;}#sk-container-id-6 div.sk-parallel-item {display: flex;flex-direction: column;z-index: 1;position: relative;background-color: white;}#sk-container-id-6 div.sk-parallel-item:first-child::after {align-self: flex-end;width: 50%;}#sk-container-id-6 div.sk-parallel-item:last-child::after {align-self: flex-start;width: 50%;}#sk-container-id-6 div.sk-parallel-item:only-child::after {width: 0;}#sk-container-id-6 div.sk-dashed-wrapped {border: 1px dashed gray;margin: 0 0.4em 0.5em 0.4em;box-sizing: border-box;padding-bottom: 0.4em;background-color: white;}#sk-container-id-6 div.sk-label label {font-family: monospace;font-weight: bold;display: inline-block;line-height: 1.2em;}#sk-container-id-6 div.sk-label-container {text-align: center;}#sk-container-id-6 div.sk-container {/* jupyter's `normalize.less` sets `[hidden] { display: none; }` but bootstrap.min.css set `[hidden] { display: none !important; }` so we also need the `!important` here to be able to override the default hidden behavior on the sphinx rendered scikit-learn.org. See: https://github.com/scikit-learn/scikit-learn/issues/21755 */display: inline-block !important;position: relative;}#sk-container-id-6 div.sk-text-repr-fallback {display: none;}</style><div id=\"sk-container-id-6\" class=\"sk-top-container\"><div class=\"sk-text-repr-fallback\"><pre>GradientBoostingRegressor()</pre><b>In a Jupyter environment, please rerun this cell to show the HTML representation or trust the notebook. <br />On GitHub, the HTML representation is unable to render, please try loading this page with nbviewer.org.</b></div><div class=\"sk-container\" hidden><div class=\"sk-item\"><div class=\"sk-estimator sk-toggleable\"><input class=\"sk-toggleable__control sk-hidden--visually\" id=\"sk-estimator-id-14\" type=\"checkbox\" checked><label for=\"sk-estimator-id-14\" class=\"sk-toggleable__label sk-toggleable__label-arrow\">GradientBoostingRegressor</label><div class=\"sk-toggleable__content\"><pre>GradientBoostingRegressor()</pre></div></div></div></div></div>"
            ]
          },
          "metadata": {},
          "execution_count": 18
        }
      ]
    },
    {
      "cell_type": "code",
      "source": [
        "reg.fit(x_train,y_train)"
      ],
      "metadata": {
        "colab": {
          "base_uri": "https://localhost:8080/",
          "height": 74
        },
        "id": "Xo-Kemw2CwIU",
        "outputId": "45b73f25-c0d9-4c91-c9a9-c177bd7a32d1"
      },
      "execution_count": 20,
      "outputs": [
        {
          "output_type": "execute_result",
          "data": {
            "text/plain": [
              "GradientBoostingRegressor()"
            ],
            "text/html": [
              "<style>#sk-container-id-7 {color: black;}#sk-container-id-7 pre{padding: 0;}#sk-container-id-7 div.sk-toggleable {background-color: white;}#sk-container-id-7 label.sk-toggleable__label {cursor: pointer;display: block;width: 100%;margin-bottom: 0;padding: 0.3em;box-sizing: border-box;text-align: center;}#sk-container-id-7 label.sk-toggleable__label-arrow:before {content: \"▸\";float: left;margin-right: 0.25em;color: #696969;}#sk-container-id-7 label.sk-toggleable__label-arrow:hover:before {color: black;}#sk-container-id-7 div.sk-estimator:hover label.sk-toggleable__label-arrow:before {color: black;}#sk-container-id-7 div.sk-toggleable__content {max-height: 0;max-width: 0;overflow: hidden;text-align: left;background-color: #f0f8ff;}#sk-container-id-7 div.sk-toggleable__content pre {margin: 0.2em;color: black;border-radius: 0.25em;background-color: #f0f8ff;}#sk-container-id-7 input.sk-toggleable__control:checked~div.sk-toggleable__content {max-height: 200px;max-width: 100%;overflow: auto;}#sk-container-id-7 input.sk-toggleable__control:checked~label.sk-toggleable__label-arrow:before {content: \"▾\";}#sk-container-id-7 div.sk-estimator input.sk-toggleable__control:checked~label.sk-toggleable__label {background-color: #d4ebff;}#sk-container-id-7 div.sk-label input.sk-toggleable__control:checked~label.sk-toggleable__label {background-color: #d4ebff;}#sk-container-id-7 input.sk-hidden--visually {border: 0;clip: rect(1px 1px 1px 1px);clip: rect(1px, 1px, 1px, 1px);height: 1px;margin: -1px;overflow: hidden;padding: 0;position: absolute;width: 1px;}#sk-container-id-7 div.sk-estimator {font-family: monospace;background-color: #f0f8ff;border: 1px dotted black;border-radius: 0.25em;box-sizing: border-box;margin-bottom: 0.5em;}#sk-container-id-7 div.sk-estimator:hover {background-color: #d4ebff;}#sk-container-id-7 div.sk-parallel-item::after {content: \"\";width: 100%;border-bottom: 1px solid gray;flex-grow: 1;}#sk-container-id-7 div.sk-label:hover label.sk-toggleable__label {background-color: #d4ebff;}#sk-container-id-7 div.sk-serial::before {content: \"\";position: absolute;border-left: 1px solid gray;box-sizing: border-box;top: 0;bottom: 0;left: 50%;z-index: 0;}#sk-container-id-7 div.sk-serial {display: flex;flex-direction: column;align-items: center;background-color: white;padding-right: 0.2em;padding-left: 0.2em;position: relative;}#sk-container-id-7 div.sk-item {position: relative;z-index: 1;}#sk-container-id-7 div.sk-parallel {display: flex;align-items: stretch;justify-content: center;background-color: white;position: relative;}#sk-container-id-7 div.sk-item::before, #sk-container-id-7 div.sk-parallel-item::before {content: \"\";position: absolute;border-left: 1px solid gray;box-sizing: border-box;top: 0;bottom: 0;left: 50%;z-index: -1;}#sk-container-id-7 div.sk-parallel-item {display: flex;flex-direction: column;z-index: 1;position: relative;background-color: white;}#sk-container-id-7 div.sk-parallel-item:first-child::after {align-self: flex-end;width: 50%;}#sk-container-id-7 div.sk-parallel-item:last-child::after {align-self: flex-start;width: 50%;}#sk-container-id-7 div.sk-parallel-item:only-child::after {width: 0;}#sk-container-id-7 div.sk-dashed-wrapped {border: 1px dashed gray;margin: 0 0.4em 0.5em 0.4em;box-sizing: border-box;padding-bottom: 0.4em;background-color: white;}#sk-container-id-7 div.sk-label label {font-family: monospace;font-weight: bold;display: inline-block;line-height: 1.2em;}#sk-container-id-7 div.sk-label-container {text-align: center;}#sk-container-id-7 div.sk-container {/* jupyter's `normalize.less` sets `[hidden] { display: none; }` but bootstrap.min.css set `[hidden] { display: none !important; }` so we also need the `!important` here to be able to override the default hidden behavior on the sphinx rendered scikit-learn.org. See: https://github.com/scikit-learn/scikit-learn/issues/21755 */display: inline-block !important;position: relative;}#sk-container-id-7 div.sk-text-repr-fallback {display: none;}</style><div id=\"sk-container-id-7\" class=\"sk-top-container\"><div class=\"sk-text-repr-fallback\"><pre>GradientBoostingRegressor()</pre><b>In a Jupyter environment, please rerun this cell to show the HTML representation or trust the notebook. <br />On GitHub, the HTML representation is unable to render, please try loading this page with nbviewer.org.</b></div><div class=\"sk-container\" hidden><div class=\"sk-item\"><div class=\"sk-estimator sk-toggleable\"><input class=\"sk-toggleable__control sk-hidden--visually\" id=\"sk-estimator-id-15\" type=\"checkbox\" checked><label for=\"sk-estimator-id-15\" class=\"sk-toggleable__label sk-toggleable__label-arrow\">GradientBoostingRegressor</label><div class=\"sk-toggleable__content\"><pre>GradientBoostingRegressor()</pre></div></div></div></div></div>"
            ]
          },
          "metadata": {},
          "execution_count": 20
        }
      ]
    },
    {
      "cell_type": "code",
      "source": [
        "y_pred=reg.predict(x_test)"
      ],
      "metadata": {
        "id": "V_eDkBq6CkNA"
      },
      "execution_count": 21,
      "outputs": []
    },
    {
      "cell_type": "code",
      "source": [
        "r2_score(y_test,y_pred)"
      ],
      "metadata": {
        "colab": {
          "base_uri": "https://localhost:8080/"
        },
        "id": "BRiRbwIiCpOK",
        "outputId": "ad0a6e50-c5c5-42f9-eaab-7db832994833"
      },
      "execution_count": 22,
      "outputs": [
        {
          "output_type": "execute_result",
          "data": {
            "text/plain": [
              "0.9823407875002308"
            ]
          },
          "metadata": {},
          "execution_count": 22
        }
      ]
    },
    {
      "cell_type": "code",
      "source": [
        "from sklearn.model_selection import GridSearchCV\n",
        "param_grid={\"n_estimators\":[50,100,200],\n",
        "            \"learning_rate\":[0.001,0.1,1,1.5,2,2.5],\n",
        "            }\n",
        "\n",
        "adr=GradientBoostingRegressor()\n",
        "reg=GridSearchCV(estimator=adr,param_grid=param_grid,cv=5,verbose=3)\n",
        "reg"
      ],
      "metadata": {
        "colab": {
          "base_uri": "https://localhost:8080/",
          "height": 117
        },
        "id": "0QtIeNQ1C1sM",
        "outputId": "1439000a-5925-42e4-e14f-2993acde078d"
      },
      "execution_count": 23,
      "outputs": [
        {
          "output_type": "execute_result",
          "data": {
            "text/plain": [
              "GridSearchCV(cv=5, estimator=GradientBoostingRegressor(),\n",
              "             param_grid={'learning_rate': [0.001, 0.1, 1, 1.5, 2, 2.5],\n",
              "                         'n_estimators': [50, 100, 200]},\n",
              "             verbose=3)"
            ],
            "text/html": [
              "<style>#sk-container-id-8 {color: black;}#sk-container-id-8 pre{padding: 0;}#sk-container-id-8 div.sk-toggleable {background-color: white;}#sk-container-id-8 label.sk-toggleable__label {cursor: pointer;display: block;width: 100%;margin-bottom: 0;padding: 0.3em;box-sizing: border-box;text-align: center;}#sk-container-id-8 label.sk-toggleable__label-arrow:before {content: \"▸\";float: left;margin-right: 0.25em;color: #696969;}#sk-container-id-8 label.sk-toggleable__label-arrow:hover:before {color: black;}#sk-container-id-8 div.sk-estimator:hover label.sk-toggleable__label-arrow:before {color: black;}#sk-container-id-8 div.sk-toggleable__content {max-height: 0;max-width: 0;overflow: hidden;text-align: left;background-color: #f0f8ff;}#sk-container-id-8 div.sk-toggleable__content pre {margin: 0.2em;color: black;border-radius: 0.25em;background-color: #f0f8ff;}#sk-container-id-8 input.sk-toggleable__control:checked~div.sk-toggleable__content {max-height: 200px;max-width: 100%;overflow: auto;}#sk-container-id-8 input.sk-toggleable__control:checked~label.sk-toggleable__label-arrow:before {content: \"▾\";}#sk-container-id-8 div.sk-estimator input.sk-toggleable__control:checked~label.sk-toggleable__label {background-color: #d4ebff;}#sk-container-id-8 div.sk-label input.sk-toggleable__control:checked~label.sk-toggleable__label {background-color: #d4ebff;}#sk-container-id-8 input.sk-hidden--visually {border: 0;clip: rect(1px 1px 1px 1px);clip: rect(1px, 1px, 1px, 1px);height: 1px;margin: -1px;overflow: hidden;padding: 0;position: absolute;width: 1px;}#sk-container-id-8 div.sk-estimator {font-family: monospace;background-color: #f0f8ff;border: 1px dotted black;border-radius: 0.25em;box-sizing: border-box;margin-bottom: 0.5em;}#sk-container-id-8 div.sk-estimator:hover {background-color: #d4ebff;}#sk-container-id-8 div.sk-parallel-item::after {content: \"\";width: 100%;border-bottom: 1px solid gray;flex-grow: 1;}#sk-container-id-8 div.sk-label:hover label.sk-toggleable__label {background-color: #d4ebff;}#sk-container-id-8 div.sk-serial::before {content: \"\";position: absolute;border-left: 1px solid gray;box-sizing: border-box;top: 0;bottom: 0;left: 50%;z-index: 0;}#sk-container-id-8 div.sk-serial {display: flex;flex-direction: column;align-items: center;background-color: white;padding-right: 0.2em;padding-left: 0.2em;position: relative;}#sk-container-id-8 div.sk-item {position: relative;z-index: 1;}#sk-container-id-8 div.sk-parallel {display: flex;align-items: stretch;justify-content: center;background-color: white;position: relative;}#sk-container-id-8 div.sk-item::before, #sk-container-id-8 div.sk-parallel-item::before {content: \"\";position: absolute;border-left: 1px solid gray;box-sizing: border-box;top: 0;bottom: 0;left: 50%;z-index: -1;}#sk-container-id-8 div.sk-parallel-item {display: flex;flex-direction: column;z-index: 1;position: relative;background-color: white;}#sk-container-id-8 div.sk-parallel-item:first-child::after {align-self: flex-end;width: 50%;}#sk-container-id-8 div.sk-parallel-item:last-child::after {align-self: flex-start;width: 50%;}#sk-container-id-8 div.sk-parallel-item:only-child::after {width: 0;}#sk-container-id-8 div.sk-dashed-wrapped {border: 1px dashed gray;margin: 0 0.4em 0.5em 0.4em;box-sizing: border-box;padding-bottom: 0.4em;background-color: white;}#sk-container-id-8 div.sk-label label {font-family: monospace;font-weight: bold;display: inline-block;line-height: 1.2em;}#sk-container-id-8 div.sk-label-container {text-align: center;}#sk-container-id-8 div.sk-container {/* jupyter's `normalize.less` sets `[hidden] { display: none; }` but bootstrap.min.css set `[hidden] { display: none !important; }` so we also need the `!important` here to be able to override the default hidden behavior on the sphinx rendered scikit-learn.org. See: https://github.com/scikit-learn/scikit-learn/issues/21755 */display: inline-block !important;position: relative;}#sk-container-id-8 div.sk-text-repr-fallback {display: none;}</style><div id=\"sk-container-id-8\" class=\"sk-top-container\"><div class=\"sk-text-repr-fallback\"><pre>GridSearchCV(cv=5, estimator=GradientBoostingRegressor(),\n",
              "             param_grid={&#x27;learning_rate&#x27;: [0.001, 0.1, 1, 1.5, 2, 2.5],\n",
              "                         &#x27;n_estimators&#x27;: [50, 100, 200]},\n",
              "             verbose=3)</pre><b>In a Jupyter environment, please rerun this cell to show the HTML representation or trust the notebook. <br />On GitHub, the HTML representation is unable to render, please try loading this page with nbviewer.org.</b></div><div class=\"sk-container\" hidden><div class=\"sk-item sk-dashed-wrapped\"><div class=\"sk-label-container\"><div class=\"sk-label sk-toggleable\"><input class=\"sk-toggleable__control sk-hidden--visually\" id=\"sk-estimator-id-16\" type=\"checkbox\" ><label for=\"sk-estimator-id-16\" class=\"sk-toggleable__label sk-toggleable__label-arrow\">GridSearchCV</label><div class=\"sk-toggleable__content\"><pre>GridSearchCV(cv=5, estimator=GradientBoostingRegressor(),\n",
              "             param_grid={&#x27;learning_rate&#x27;: [0.001, 0.1, 1, 1.5, 2, 2.5],\n",
              "                         &#x27;n_estimators&#x27;: [50, 100, 200]},\n",
              "             verbose=3)</pre></div></div></div><div class=\"sk-parallel\"><div class=\"sk-parallel-item\"><div class=\"sk-item\"><div class=\"sk-label-container\"><div class=\"sk-label sk-toggleable\"><input class=\"sk-toggleable__control sk-hidden--visually\" id=\"sk-estimator-id-17\" type=\"checkbox\" ><label for=\"sk-estimator-id-17\" class=\"sk-toggleable__label sk-toggleable__label-arrow\">estimator: GradientBoostingRegressor</label><div class=\"sk-toggleable__content\"><pre>GradientBoostingRegressor()</pre></div></div></div><div class=\"sk-serial\"><div class=\"sk-item\"><div class=\"sk-estimator sk-toggleable\"><input class=\"sk-toggleable__control sk-hidden--visually\" id=\"sk-estimator-id-18\" type=\"checkbox\" ><label for=\"sk-estimator-id-18\" class=\"sk-toggleable__label sk-toggleable__label-arrow\">GradientBoostingRegressor</label><div class=\"sk-toggleable__content\"><pre>GradientBoostingRegressor()</pre></div></div></div></div></div></div></div></div></div></div>"
            ]
          },
          "metadata": {},
          "execution_count": 23
        }
      ]
    },
    {
      "cell_type": "code",
      "source": [
        "reg.fit(x_train,y_train)"
      ],
      "metadata": {
        "colab": {
          "base_uri": "https://localhost:8080/",
          "height": 1000
        },
        "id": "oC-KMgDFFyCb",
        "outputId": "d633dc7d-5c89-4d8f-d8a9-cb27611c8929"
      },
      "execution_count": 24,
      "outputs": [
        {
          "output_type": "stream",
          "name": "stdout",
          "text": [
            "Fitting 5 folds for each of 18 candidates, totalling 90 fits\n",
            "[CV 1/5] END learning_rate=0.001, n_estimators=50;, score=0.058 total time=   0.1s\n",
            "[CV 2/5] END learning_rate=0.001, n_estimators=50;, score=0.054 total time=   0.1s\n",
            "[CV 3/5] END learning_rate=0.001, n_estimators=50;, score=0.093 total time=   0.1s\n",
            "[CV 4/5] END learning_rate=0.001, n_estimators=50;, score=0.088 total time=   0.1s\n",
            "[CV 5/5] END learning_rate=0.001, n_estimators=50;, score=0.085 total time=   0.1s\n",
            "[CV 1/5] END learning_rate=0.001, n_estimators=100;, score=0.139 total time=   0.1s\n",
            "[CV 2/5] END learning_rate=0.001, n_estimators=100;, score=0.135 total time=   0.2s\n",
            "[CV 3/5] END learning_rate=0.001, n_estimators=100;, score=0.176 total time=   0.1s\n",
            "[CV 4/5] END learning_rate=0.001, n_estimators=100;, score=0.170 total time=   0.1s\n",
            "[CV 5/5] END learning_rate=0.001, n_estimators=100;, score=0.166 total time=   0.1s\n",
            "[CV 1/5] END learning_rate=0.001, n_estimators=200;, score=0.278 total time=   0.2s\n",
            "[CV 2/5] END learning_rate=0.001, n_estimators=200;, score=0.277 total time=   0.2s\n",
            "[CV 3/5] END learning_rate=0.001, n_estimators=200;, score=0.317 total time=   0.2s\n",
            "[CV 4/5] END learning_rate=0.001, n_estimators=200;, score=0.309 total time=   0.2s\n",
            "[CV 5/5] END learning_rate=0.001, n_estimators=200;, score=0.307 total time=   0.2s\n",
            "[CV 1/5] END learning_rate=0.1, n_estimators=50;, score=0.984 total time=   0.1s\n",
            "[CV 2/5] END learning_rate=0.1, n_estimators=50;, score=0.978 total time=   0.1s\n",
            "[CV 3/5] END learning_rate=0.1, n_estimators=50;, score=0.986 total time=   0.1s\n",
            "[CV 4/5] END learning_rate=0.1, n_estimators=50;, score=0.984 total time=   0.1s\n",
            "[CV 5/5] END learning_rate=0.1, n_estimators=50;, score=0.982 total time=   0.1s\n",
            "[CV 1/5] END learning_rate=0.1, n_estimators=100;, score=0.985 total time=   0.1s\n",
            "[CV 2/5] END learning_rate=0.1, n_estimators=100;, score=0.979 total time=   0.1s\n",
            "[CV 3/5] END learning_rate=0.1, n_estimators=100;, score=0.986 total time=   0.1s\n",
            "[CV 4/5] END learning_rate=0.1, n_estimators=100;, score=0.984 total time=   0.1s\n",
            "[CV 5/5] END learning_rate=0.1, n_estimators=100;, score=0.984 total time=   0.1s\n",
            "[CV 1/5] END learning_rate=0.1, n_estimators=200;, score=0.984 total time=   0.2s\n",
            "[CV 2/5] END learning_rate=0.1, n_estimators=200;, score=0.979 total time=   0.2s\n",
            "[CV 3/5] END learning_rate=0.1, n_estimators=200;, score=0.986 total time=   0.2s\n",
            "[CV 4/5] END learning_rate=0.1, n_estimators=200;, score=0.982 total time=   0.2s\n",
            "[CV 5/5] END learning_rate=0.1, n_estimators=200;, score=0.984 total time=   0.2s\n",
            "[CV 1/5] END ..learning_rate=1, n_estimators=50;, score=0.974 total time=   0.1s\n",
            "[CV 2/5] END ..learning_rate=1, n_estimators=50;, score=0.975 total time=   0.1s\n",
            "[CV 3/5] END ..learning_rate=1, n_estimators=50;, score=0.971 total time=   0.1s\n",
            "[CV 4/5] END ..learning_rate=1, n_estimators=50;, score=0.969 total time=   0.1s\n",
            "[CV 5/5] END ..learning_rate=1, n_estimators=50;, score=0.974 total time=   0.1s\n",
            "[CV 1/5] END .learning_rate=1, n_estimators=100;, score=0.974 total time=   0.1s\n",
            "[CV 2/5] END .learning_rate=1, n_estimators=100;, score=0.975 total time=   0.1s\n",
            "[CV 3/5] END .learning_rate=1, n_estimators=100;, score=0.973 total time=   0.1s\n",
            "[CV 4/5] END .learning_rate=1, n_estimators=100;, score=0.967 total time=   0.1s\n",
            "[CV 5/5] END .learning_rate=1, n_estimators=100;, score=0.974 total time=   0.1s\n",
            "[CV 1/5] END .learning_rate=1, n_estimators=200;, score=0.974 total time=   0.2s\n",
            "[CV 2/5] END .learning_rate=1, n_estimators=200;, score=0.974 total time=   0.2s\n",
            "[CV 3/5] END .learning_rate=1, n_estimators=200;, score=0.973 total time=   0.2s\n",
            "[CV 4/5] END .learning_rate=1, n_estimators=200;, score=0.967 total time=   0.2s\n",
            "[CV 5/5] END .learning_rate=1, n_estimators=200;, score=0.972 total time=   0.2s\n",
            "[CV 1/5] END learning_rate=1.5, n_estimators=50;, score=0.950 total time=   0.1s\n",
            "[CV 2/5] END learning_rate=1.5, n_estimators=50;, score=0.942 total time=   0.1s\n",
            "[CV 3/5] END learning_rate=1.5, n_estimators=50;, score=0.959 total time=   0.1s\n",
            "[CV 4/5] END learning_rate=1.5, n_estimators=50;, score=0.955 total time=   0.1s\n",
            "[CV 5/5] END learning_rate=1.5, n_estimators=50;, score=0.951 total time=   0.1s\n",
            "[CV 1/5] END learning_rate=1.5, n_estimators=100;, score=0.947 total time=   0.1s\n",
            "[CV 2/5] END learning_rate=1.5, n_estimators=100;, score=0.938 total time=   0.1s\n",
            "[CV 3/5] END learning_rate=1.5, n_estimators=100;, score=0.952 total time=   0.1s\n",
            "[CV 4/5] END learning_rate=1.5, n_estimators=100;, score=0.952 total time=   0.1s\n",
            "[CV 5/5] END learning_rate=1.5, n_estimators=100;, score=0.947 total time=   0.1s\n",
            "[CV 1/5] END learning_rate=1.5, n_estimators=200;, score=0.940 total time=   0.2s\n",
            "[CV 2/5] END learning_rate=1.5, n_estimators=200;, score=0.936 total time=   0.2s\n",
            "[CV 3/5] END learning_rate=1.5, n_estimators=200;, score=0.952 total time=   0.2s\n",
            "[CV 4/5] END learning_rate=1.5, n_estimators=200;, score=0.947 total time=   0.2s\n",
            "[CV 5/5] END learning_rate=1.5, n_estimators=200;, score=0.947 total time=   0.2s\n",
            "[CV 1/5] END .learning_rate=2, n_estimators=50;, score=-0.027 total time=   0.1s\n",
            "[CV 2/5] END .learning_rate=2, n_estimators=50;, score=-0.036 total time=   0.1s\n",
            "[CV 3/5] END ..learning_rate=2, n_estimators=50;, score=0.001 total time=   0.1s\n",
            "[CV 4/5] END ..learning_rate=2, n_estimators=50;, score=0.007 total time=   0.1s\n",
            "[CV 5/5] END .learning_rate=2, n_estimators=50;, score=-0.000 total time=   0.1s\n",
            "[CV 1/5] END learning_rate=2, n_estimators=100;, score=-0.027 total time=   0.1s\n",
            "[CV 2/5] END learning_rate=2, n_estimators=100;, score=-0.036 total time=   0.1s\n",
            "[CV 3/5] END .learning_rate=2, n_estimators=100;, score=0.001 total time=   0.1s\n",
            "[CV 4/5] END .learning_rate=2, n_estimators=100;, score=0.007 total time=   0.1s\n",
            "[CV 5/5] END learning_rate=2, n_estimators=100;, score=-0.000 total time=   0.1s\n",
            "[CV 1/5] END learning_rate=2, n_estimators=200;, score=-0.027 total time=   0.2s\n",
            "[CV 2/5] END learning_rate=2, n_estimators=200;, score=-0.036 total time=   0.2s\n",
            "[CV 3/5] END .learning_rate=2, n_estimators=200;, score=0.001 total time=   0.2s\n",
            "[CV 4/5] END .learning_rate=2, n_estimators=200;, score=0.007 total time=   0.2s\n",
            "[CV 5/5] END learning_rate=2, n_estimators=200;, score=-0.000 total time=   0.2s\n",
            "[CV 1/5] END learning_rate=2.5, n_estimators=50;, score=-364903960723196032.000 total time=   0.1s\n",
            "[CV 2/5] END learning_rate=2.5, n_estimators=50;, score=-379120536746205376.000 total time=   0.1s\n",
            "[CV 3/5] END learning_rate=2.5, n_estimators=50;, score=-411847014153722112.000 total time=   0.1s\n",
            "[CV 4/5] END learning_rate=2.5, n_estimators=50;, score=-397006825561691456.000 total time=   0.1s\n",
            "[CV 5/5] END learning_rate=2.5, n_estimators=50;, score=-382846189893360320.000 total time=   0.1s\n",
            "[CV 1/5] END learning_rate=2.5, n_estimators=100;, score=-148355783941673536036474417575886848.000 total time=   0.1s\n",
            "[CV 2/5] END learning_rate=2.5, n_estimators=100;, score=-154135691840108247055624865872609280.000 total time=   0.1s\n",
            "[CV 3/5] END learning_rate=2.5, n_estimators=100;, score=-167441007059150153259524549114855424.000 total time=   0.1s\n",
            "[CV 4/5] END learning_rate=2.5, n_estimators=100;, score=-161407562502944932970015447047995392.000 total time=   0.1s\n",
            "[CV 5/5] END learning_rate=2.5, n_estimators=100;, score=-155650397782911305329291261015752704.000 total time=   0.1s\n",
            "[CV 1/5] END learning_rate=2.5, n_estimators=200;, score=-24522022915778078232934614740810807451761144941471836550479443803504640.000 total time=   0.2s\n",
            "[CV 2/5] END learning_rate=2.5, n_estimators=200;, score=-25477395400562386634125837009853572729319270644960403447400658087444480.000 total time=   0.3s\n",
            "[CV 3/5] END learning_rate=2.5, n_estimators=200;, score=-27676657445050644672663036864100991691304949143219138520505795330703360.000 total time=   0.3s\n",
            "[CV 4/5] END learning_rate=2.5, n_estimators=200;, score=-26679377381290448730784354498106098749540692150051549396078096793206784.000 total time=   0.3s\n",
            "[CV 5/5] END learning_rate=2.5, n_estimators=200;, score=-25727764161747712126652679467794489226957465511473846837665860488790016.000 total time=   0.3s\n"
          ]
        },
        {
          "output_type": "execute_result",
          "data": {
            "text/plain": [
              "GridSearchCV(cv=5, estimator=GradientBoostingRegressor(),\n",
              "             param_grid={'learning_rate': [0.001, 0.1, 1, 1.5, 2, 2.5],\n",
              "                         'n_estimators': [50, 100, 200]},\n",
              "             verbose=3)"
            ],
            "text/html": [
              "<style>#sk-container-id-9 {color: black;}#sk-container-id-9 pre{padding: 0;}#sk-container-id-9 div.sk-toggleable {background-color: white;}#sk-container-id-9 label.sk-toggleable__label {cursor: pointer;display: block;width: 100%;margin-bottom: 0;padding: 0.3em;box-sizing: border-box;text-align: center;}#sk-container-id-9 label.sk-toggleable__label-arrow:before {content: \"▸\";float: left;margin-right: 0.25em;color: #696969;}#sk-container-id-9 label.sk-toggleable__label-arrow:hover:before {color: black;}#sk-container-id-9 div.sk-estimator:hover label.sk-toggleable__label-arrow:before {color: black;}#sk-container-id-9 div.sk-toggleable__content {max-height: 0;max-width: 0;overflow: hidden;text-align: left;background-color: #f0f8ff;}#sk-container-id-9 div.sk-toggleable__content pre {margin: 0.2em;color: black;border-radius: 0.25em;background-color: #f0f8ff;}#sk-container-id-9 input.sk-toggleable__control:checked~div.sk-toggleable__content {max-height: 200px;max-width: 100%;overflow: auto;}#sk-container-id-9 input.sk-toggleable__control:checked~label.sk-toggleable__label-arrow:before {content: \"▾\";}#sk-container-id-9 div.sk-estimator input.sk-toggleable__control:checked~label.sk-toggleable__label {background-color: #d4ebff;}#sk-container-id-9 div.sk-label input.sk-toggleable__control:checked~label.sk-toggleable__label {background-color: #d4ebff;}#sk-container-id-9 input.sk-hidden--visually {border: 0;clip: rect(1px 1px 1px 1px);clip: rect(1px, 1px, 1px, 1px);height: 1px;margin: -1px;overflow: hidden;padding: 0;position: absolute;width: 1px;}#sk-container-id-9 div.sk-estimator {font-family: monospace;background-color: #f0f8ff;border: 1px dotted black;border-radius: 0.25em;box-sizing: border-box;margin-bottom: 0.5em;}#sk-container-id-9 div.sk-estimator:hover {background-color: #d4ebff;}#sk-container-id-9 div.sk-parallel-item::after {content: \"\";width: 100%;border-bottom: 1px solid gray;flex-grow: 1;}#sk-container-id-9 div.sk-label:hover label.sk-toggleable__label {background-color: #d4ebff;}#sk-container-id-9 div.sk-serial::before {content: \"\";position: absolute;border-left: 1px solid gray;box-sizing: border-box;top: 0;bottom: 0;left: 50%;z-index: 0;}#sk-container-id-9 div.sk-serial {display: flex;flex-direction: column;align-items: center;background-color: white;padding-right: 0.2em;padding-left: 0.2em;position: relative;}#sk-container-id-9 div.sk-item {position: relative;z-index: 1;}#sk-container-id-9 div.sk-parallel {display: flex;align-items: stretch;justify-content: center;background-color: white;position: relative;}#sk-container-id-9 div.sk-item::before, #sk-container-id-9 div.sk-parallel-item::before {content: \"\";position: absolute;border-left: 1px solid gray;box-sizing: border-box;top: 0;bottom: 0;left: 50%;z-index: -1;}#sk-container-id-9 div.sk-parallel-item {display: flex;flex-direction: column;z-index: 1;position: relative;background-color: white;}#sk-container-id-9 div.sk-parallel-item:first-child::after {align-self: flex-end;width: 50%;}#sk-container-id-9 div.sk-parallel-item:last-child::after {align-self: flex-start;width: 50%;}#sk-container-id-9 div.sk-parallel-item:only-child::after {width: 0;}#sk-container-id-9 div.sk-dashed-wrapped {border: 1px dashed gray;margin: 0 0.4em 0.5em 0.4em;box-sizing: border-box;padding-bottom: 0.4em;background-color: white;}#sk-container-id-9 div.sk-label label {font-family: monospace;font-weight: bold;display: inline-block;line-height: 1.2em;}#sk-container-id-9 div.sk-label-container {text-align: center;}#sk-container-id-9 div.sk-container {/* jupyter's `normalize.less` sets `[hidden] { display: none; }` but bootstrap.min.css set `[hidden] { display: none !important; }` so we also need the `!important` here to be able to override the default hidden behavior on the sphinx rendered scikit-learn.org. See: https://github.com/scikit-learn/scikit-learn/issues/21755 */display: inline-block !important;position: relative;}#sk-container-id-9 div.sk-text-repr-fallback {display: none;}</style><div id=\"sk-container-id-9\" class=\"sk-top-container\"><div class=\"sk-text-repr-fallback\"><pre>GridSearchCV(cv=5, estimator=GradientBoostingRegressor(),\n",
              "             param_grid={&#x27;learning_rate&#x27;: [0.001, 0.1, 1, 1.5, 2, 2.5],\n",
              "                         &#x27;n_estimators&#x27;: [50, 100, 200]},\n",
              "             verbose=3)</pre><b>In a Jupyter environment, please rerun this cell to show the HTML representation or trust the notebook. <br />On GitHub, the HTML representation is unable to render, please try loading this page with nbviewer.org.</b></div><div class=\"sk-container\" hidden><div class=\"sk-item sk-dashed-wrapped\"><div class=\"sk-label-container\"><div class=\"sk-label sk-toggleable\"><input class=\"sk-toggleable__control sk-hidden--visually\" id=\"sk-estimator-id-19\" type=\"checkbox\" ><label for=\"sk-estimator-id-19\" class=\"sk-toggleable__label sk-toggleable__label-arrow\">GridSearchCV</label><div class=\"sk-toggleable__content\"><pre>GridSearchCV(cv=5, estimator=GradientBoostingRegressor(),\n",
              "             param_grid={&#x27;learning_rate&#x27;: [0.001, 0.1, 1, 1.5, 2, 2.5],\n",
              "                         &#x27;n_estimators&#x27;: [50, 100, 200]},\n",
              "             verbose=3)</pre></div></div></div><div class=\"sk-parallel\"><div class=\"sk-parallel-item\"><div class=\"sk-item\"><div class=\"sk-label-container\"><div class=\"sk-label sk-toggleable\"><input class=\"sk-toggleable__control sk-hidden--visually\" id=\"sk-estimator-id-20\" type=\"checkbox\" ><label for=\"sk-estimator-id-20\" class=\"sk-toggleable__label sk-toggleable__label-arrow\">estimator: GradientBoostingRegressor</label><div class=\"sk-toggleable__content\"><pre>GradientBoostingRegressor()</pre></div></div></div><div class=\"sk-serial\"><div class=\"sk-item\"><div class=\"sk-estimator sk-toggleable\"><input class=\"sk-toggleable__control sk-hidden--visually\" id=\"sk-estimator-id-21\" type=\"checkbox\" ><label for=\"sk-estimator-id-21\" class=\"sk-toggleable__label sk-toggleable__label-arrow\">GradientBoostingRegressor</label><div class=\"sk-toggleable__content\"><pre>GradientBoostingRegressor()</pre></div></div></div></div></div></div></div></div></div></div>"
            ]
          },
          "metadata": {},
          "execution_count": 24
        }
      ]
    },
    {
      "cell_type": "code",
      "source": [
        "reg.best_params_"
      ],
      "metadata": {
        "colab": {
          "base_uri": "https://localhost:8080/"
        },
        "id": "XHN-o4BdF_BH",
        "outputId": "b22a0170-41e8-4232-f7cf-9d1342199e8f"
      },
      "execution_count": 26,
      "outputs": [
        {
          "output_type": "execute_result",
          "data": {
            "text/plain": [
              "{'learning_rate': 0.1, 'n_estimators': 100}"
            ]
          },
          "metadata": {},
          "execution_count": 26
        }
      ]
    },
    {
      "cell_type": "code",
      "source": [
        "reg.best_score_"
      ],
      "metadata": {
        "colab": {
          "base_uri": "https://localhost:8080/"
        },
        "id": "8miICOUGGCf0",
        "outputId": "e64e4b99-b5b2-47f7-a59c-9961abadd314"
      },
      "execution_count": 27,
      "outputs": [
        {
          "output_type": "execute_result",
          "data": {
            "text/plain": [
              "0.9835522073854334"
            ]
          },
          "metadata": {},
          "execution_count": 27
        }
      ]
    }
  ]
}