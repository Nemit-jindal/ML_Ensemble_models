{
  "nbformat": 4,
  "nbformat_minor": 0,
  "metadata": {
    "colab": {
      "provenance": [],
      "authorship_tag": "ABX9TyPoDbyvZ1hUVR7mOWhOmlyT",
      "include_colab_link": true
    },
    "kernelspec": {
      "name": "python3",
      "display_name": "Python 3"
    },
    "language_info": {
      "name": "python"
    }
  },
  "cells": [
    {
      "cell_type": "markdown",
      "metadata": {
        "id": "view-in-github",
        "colab_type": "text"
      },
      "source": [
        "<a href=\"https://colab.research.google.com/github/Nemit-jindal/ML_Ensemble_models/blob/main/ensemble_custom_bagging_Regression.ipynb\" target=\"_parent\"><img src=\"https://colab.research.google.com/assets/colab-badge.svg\" alt=\"Open In Colab\"/></a>"
      ]
    },
    {
      "cell_type": "code",
      "execution_count": 1,
      "metadata": {
        "id": "w9DOU_O7Bgoy"
      },
      "outputs": [],
      "source": [
        "from sklearn.datasets import make_regression\n",
        "from sklearn.model_selection import train_test_split\n",
        "\n",
        "X,y=make_regression(n_samples=1000,n_features=10,noise=0.1,random_state=1)"
      ]
    },
    {
      "cell_type": "code",
      "source": [
        "X"
      ],
      "metadata": {
        "colab": {
          "base_uri": "https://localhost:8080/"
        },
        "id": "tabIxMN1Cjxl",
        "outputId": "1608cd5f-2962-4647-d67a-49ab56dcd17d"
      },
      "execution_count": 2,
      "outputs": [
        {
          "output_type": "execute_result",
          "data": {
            "text/plain": [
              "array([[-1.24634541, -2.3575232 ,  0.60972409, ..., -1.25935848,\n",
              "        -0.11048061,  0.46983129],\n",
              "       [-0.68085157, -1.06787658,  0.57296273, ..., -0.01781755,\n",
              "         0.45794708, -0.6001388 ],\n",
              "       [-0.14894123,  1.16533544, -0.63259014, ...,  1.89716069,\n",
              "        -0.20984695, -1.38139115],\n",
              "       ...,\n",
              "       [ 1.32960903, -1.08278525,  0.44347873, ..., -0.48363166,\n",
              "         0.01880501,  0.56264832],\n",
              "       [ 1.03703898,  0.67261975,  1.00568668, ...,  0.61472628,\n",
              "         0.35356722, -0.34898419],\n",
              "       [ 0.438562  ,  0.92781985,  0.72667997, ..., -1.09330391,\n",
              "        -0.37195994,  0.22445073]])"
            ]
          },
          "metadata": {},
          "execution_count": 2
        }
      ]
    },
    {
      "cell_type": "code",
      "source": [
        "y"
      ],
      "metadata": {
        "colab": {
          "base_uri": "https://localhost:8080/"
        },
        "id": "wBVy3ZjHCku0",
        "outputId": "2148a887-99eb-4cbc-bbbd-4414039cb4d1"
      },
      "execution_count": 3,
      "outputs": [
        {
          "output_type": "execute_result",
          "data": {
            "text/plain": [
              "array([-1.29703788e+02, -1.80999622e+01, -2.48373532e+02, -5.47790773e+01,\n",
              "        2.53389312e+01,  1.64353500e+01, -1.62379961e+02,  8.68801965e+01,\n",
              "       -3.03384035e+01, -1.99726617e+02, -1.13506241e+02, -1.90063912e+02,\n",
              "       -1.87538897e+02,  1.72228819e+02,  6.16386076e+01, -3.56835616e+02,\n",
              "        8.24251916e+01,  1.61358017e+02,  1.52957393e+02,  5.00424227e+02,\n",
              "        1.21062317e+02,  4.95831180e+01, -1.77278355e+02, -2.49458193e+01,\n",
              "       -1.65450348e+02,  4.18445290e+01, -6.76893860e+01, -6.46220878e+01,\n",
              "       -1.11488894e+02,  2.30651763e+02,  2.56645774e+02, -1.84174552e+02,\n",
              "        2.98886683e+02, -2.73732404e+01,  4.17040920e+02,  1.01523419e+02,\n",
              "       -1.23009941e+02,  3.56833517e+02, -1.71822143e+02,  3.61894176e+02,\n",
              "        1.97745189e+02, -1.85490215e+02,  1.36198413e+02, -3.26485048e+02,\n",
              "       -1.14069731e+02,  4.77747550e+01,  1.62640400e+02,  9.41057983e+01,\n",
              "       -4.16816637e+01, -5.20442942e+01,  3.44121608e+02,  1.04900656e+02,\n",
              "       -2.01206138e+02, -6.18739502e+01, -1.26832746e+02,  3.35722721e+01,\n",
              "       -6.75223743e+01, -6.33169264e+01, -1.47269862e+02, -3.25345400e+01,\n",
              "        1.03721542e+02,  2.96901495e+02,  7.32408196e+01, -1.12217626e+02,\n",
              "       -1.48522737e+02, -1.26649552e+02, -1.46111353e+02, -2.37932880e+02,\n",
              "        3.22497616e+01, -9.24138147e+01, -1.31153721e+02,  1.92480420e+02,\n",
              "        1.20199779e+02,  9.05112381e+01,  1.07212245e+02, -7.67602158e+01,\n",
              "       -1.33113584e+02, -1.12027716e+02,  4.93214843e+01, -1.38549166e+01,\n",
              "        2.25687409e+02,  3.14536339e+01, -2.26388220e+02, -1.93188643e+02,\n",
              "       -1.47505863e+02, -1.30876630e+02, -1.32053337e+01,  9.06060018e+01,\n",
              "       -1.31517609e+02, -1.23708083e+02,  1.02052952e+02, -1.63036261e+02,\n",
              "        9.26584501e+01,  3.66588313e+01,  5.72789464e+01, -2.28195681e+02,\n",
              "       -9.28374670e+00,  1.31446834e+02, -1.18007420e+02,  1.24812753e+01,\n",
              "       -1.19977823e+02, -2.24045020e+02,  2.06901509e+02,  1.01491012e+01,\n",
              "       -3.32584229e+02,  2.02285184e+02,  3.06028973e+01, -2.10848052e+02,\n",
              "        3.50870254e+02,  2.18851281e+02, -2.60652390e+02, -1.27614829e+02,\n",
              "       -2.09113701e+02,  8.77812492e+01, -1.20855684e+02, -1.02351777e+02,\n",
              "       -1.04730019e+02,  1.83251540e+02,  2.85644532e+02,  1.89514243e+02,\n",
              "       -2.21030872e+02,  9.18625417e+01, -1.00014437e+02,  2.58262719e+02,\n",
              "        1.90621362e+02, -3.99900418e+02, -5.27354993e+01,  2.74929281e+01,\n",
              "        4.25256708e+01, -3.16102147e+02, -1.05362829e+02, -1.93005336e+02,\n",
              "        6.00118267e+01, -1.52292735e+02, -1.48637110e+02,  5.90016708e+01,\n",
              "        1.10109476e+02, -2.39309434e+02,  1.29424070e+02,  2.74783131e+01,\n",
              "       -1.36416783e+02,  2.90527797e+02,  2.72536576e+01,  2.32762920e+01,\n",
              "       -5.16296848e+01,  1.56435542e+02,  5.34008842e+00,  3.15400425e+00,\n",
              "       -5.07603241e+01, -1.29036275e+02, -2.19680386e+01, -1.56697886e+02,\n",
              "        2.60882607e+02,  2.42580519e+02, -1.09644276e+02, -3.12832213e+02,\n",
              "       -5.41699794e+01,  9.54842037e+01,  2.24783031e+02,  3.92895225e+02,\n",
              "        2.26013235e+01, -1.29655603e+02,  7.92670626e+01, -1.21766454e+02,\n",
              "        1.11885823e+02,  8.96370914e+01,  1.96457071e+02,  3.54778192e+02,\n",
              "       -2.14494990e+01,  4.16115274e+01,  9.00992506e+01,  2.68336871e+02,\n",
              "        1.62517688e+02,  9.17310373e+01, -8.96443942e+00, -2.35420083e+00,\n",
              "       -5.07033362e+01, -2.59918629e+02,  6.65011723e+01, -3.43414941e+02,\n",
              "       -1.82664460e+02, -4.74294827e+02,  1.92636218e+02,  1.33434193e+02,\n",
              "       -1.14205038e+01,  1.32866466e+02, -5.86100736e+01,  1.15132557e+02,\n",
              "        1.43322655e+02, -2.08881333e+02,  7.46345951e+01, -8.19911494e+01,\n",
              "       -3.84264103e+02, -1.53338209e+02,  2.14591224e+02,  1.08340996e+02,\n",
              "       -1.25461389e+02,  2.54199584e+01,  3.80048333e+02,  4.98868140e+01,\n",
              "        1.02825606e+01, -4.88941302e+01, -2.50757005e+02, -1.14168170e+02,\n",
              "       -3.80522004e+02,  3.48999851e+00, -1.25714112e+02, -1.93763647e+02,\n",
              "       -1.07070159e+02,  1.84375543e+02,  2.10926105e+02, -5.48240777e+01,\n",
              "       -4.87744483e+02, -2.48586371e+02, -1.36055174e+02,  1.63412537e+02,\n",
              "        2.70069680e+01,  2.44595854e+02, -6.30056901e+01, -1.95465439e+02,\n",
              "        1.09539897e+02,  1.57618367e+02,  1.44201075e+02,  2.77756689e+01,\n",
              "       -1.18590028e+02, -4.18439678e+02, -3.90778492e+02,  1.61965008e+02,\n",
              "       -2.94560723e+02,  1.97666046e+02, -5.09957918e+01,  4.16477744e+02,\n",
              "       -2.59065264e+02,  1.27965295e+02,  5.46375950e+01, -7.22844550e+01,\n",
              "       -1.70646266e+01,  1.38200773e+02, -5.03008394e+02,  1.63296227e+02,\n",
              "       -8.06829055e+01, -2.59664788e+01,  5.59579428e+02, -2.75883631e+00,\n",
              "       -3.17496965e+01,  6.56530828e+01,  1.08658196e+02,  2.40800525e+02,\n",
              "        1.10880420e+02,  9.74918163e+01, -1.42097378e+02, -2.30892969e+02,\n",
              "       -2.41578766e+00, -4.16125922e+02,  2.10947415e+02, -9.47296754e+01,\n",
              "       -1.67330918e+02, -2.11708528e+02,  1.27405526e+02,  1.11132625e+02,\n",
              "       -3.50997799e+01,  2.32790590e+01,  7.03070221e+01, -1.67706543e+02,\n",
              "       -4.92960769e+02,  2.72758180e+01,  2.77430105e+02, -2.61591804e+01,\n",
              "        2.87551236e+00,  3.30274427e+02,  2.33704331e+02,  2.04220364e+02,\n",
              "        3.14291827e+02,  2.79701775e+02,  1.23425336e+02, -4.73428753e+02,\n",
              "       -7.67394927e+01,  2.58925149e+02,  1.31056777e+02, -2.11232815e+02,\n",
              "        5.81205522e+01, -1.67080108e+02, -9.98407255e+01,  8.00052171e+01,\n",
              "        7.84395399e+01,  4.11640145e+01,  1.73366262e+02, -1.74788083e+02,\n",
              "       -2.27665896e+02, -1.22102655e+02,  1.36718637e+02,  1.29145241e+01,\n",
              "        2.93180355e+02, -4.10321003e+02,  3.05793187e+02, -7.17747716e+01,\n",
              "       -1.07211266e+02,  8.33831223e+01,  4.56804294e+01, -4.55515370e+01,\n",
              "       -2.37321865e+01,  2.69642902e+02, -3.24629833e+02,  4.15892468e+01,\n",
              "       -2.84366868e+02, -2.90676957e+01,  6.32227396e+01,  5.02053761e+01,\n",
              "       -3.84720174e+02,  7.29045089e+01,  1.39510799e+02,  2.72773446e+02,\n",
              "       -2.28647848e+01, -8.46538003e+01, -1.96099448e+02,  1.80823007e+02,\n",
              "        3.34395201e+02,  1.03817390e+02, -5.72219133e+01,  3.21263114e+01,\n",
              "       -3.42712587e+01,  9.43676370e+01, -2.38505268e+02,  6.20250439e+01,\n",
              "       -4.10043513e+02,  9.62947290e+01,  1.73563006e+02, -1.56425785e+02,\n",
              "        3.48648163e+02, -2.71146185e+02,  6.15046419e+01,  4.01855995e+01,\n",
              "        1.54513314e+02,  9.36356870e+01, -2.21217365e+02, -1.24426112e+02,\n",
              "       -4.77839893e+01, -2.55262116e+02,  1.70123223e+02,  7.89280954e+01,\n",
              "       -1.72022246e+02,  3.46447353e+02, -5.06769208e+01, -7.55881783e+01,\n",
              "        8.51174892e+01, -1.15132172e+02,  3.29584537e+02, -2.32721114e+01,\n",
              "       -1.07402346e+01, -1.89682078e+01, -6.33839685e+01,  3.07605460e+02,\n",
              "        4.77545187e+01,  2.95501544e+02,  3.14579483e+02,  2.13946299e+02,\n",
              "        1.67742784e+02,  1.32562137e+02,  1.20220318e+02, -1.98806989e+02,\n",
              "        1.09948274e+02, -3.64473545e+02, -1.65027131e+02, -2.80659115e+02,\n",
              "       -1.13321616e+02, -6.71195311e+01,  5.71564455e+02, -1.22513378e+02,\n",
              "       -4.14167533e+01,  1.40296110e+02,  1.50450249e+01,  2.03722158e+01,\n",
              "       -6.34081824e+01,  2.09596462e+02,  7.95732878e+01, -2.39899543e+01,\n",
              "       -9.41704285e+01,  1.58364381e+02,  9.85887492e+01,  2.29074159e+02,\n",
              "        1.82397980e+02, -1.21042261e+01,  2.29585195e+01,  6.45742039e+01,\n",
              "       -4.41558235e+01, -1.02659784e+02,  3.23579543e+01,  4.15606924e+02,\n",
              "        2.30855975e+02, -6.53891014e+01,  8.96569874e+01, -6.93712514e+01,\n",
              "       -7.51087621e+01,  3.54492479e+02,  9.36925926e+01,  4.46631477e+02,\n",
              "        1.47935167e+02,  8.35262821e+01, -1.70156323e+02,  1.96367761e+01,\n",
              "       -2.04706370e+02,  4.58275597e+02, -1.05584552e+01, -1.41844148e+02,\n",
              "        1.51426806e+02,  6.05466699e+01, -2.11119500e+02, -3.05030411e+02,\n",
              "        1.47882490e+02, -3.66880110e+02, -1.70188108e+01, -6.64489037e+01,\n",
              "        2.08087277e+02, -1.91857486e+02,  8.70618275e+01,  1.08561172e+02,\n",
              "       -1.29109799e+02,  2.32318536e+02,  2.21520961e+02, -1.12162357e+02,\n",
              "        2.17917716e+02,  1.99047898e+02, -1.11980673e+02,  9.94113724e+01,\n",
              "       -3.40880632e+01,  3.12481116e+02, -2.48390267e+01,  5.75061542e+01,\n",
              "       -3.35148282e+02, -1.28692641e+02,  1.49825549e+01,  2.85823162e+02,\n",
              "       -1.37097390e+02,  4.44181026e+01, -2.96003122e+00, -3.17221173e+02,\n",
              "        2.83618424e+02, -1.75510015e+02, -2.23029277e+02,  1.93808777e+02,\n",
              "       -7.04917413e+01, -1.82237306e+02, -7.18691778e+01,  6.11762813e+01,\n",
              "        1.27034818e+02, -1.62650057e+02, -8.30637687e+01,  6.69198684e+01,\n",
              "        1.51861046e+02,  3.28912631e-01,  2.83397613e+02, -3.25414095e+01,\n",
              "       -1.69245448e+02,  1.67393138e+02, -2.24417894e+02,  6.16611524e+01,\n",
              "        2.45700501e+01,  1.55431041e+02,  4.30081428e+02, -6.42545298e+01,\n",
              "        4.25967229e+02,  1.41222400e+02,  2.86890054e+02,  4.52852480e+01,\n",
              "       -6.51871629e+01, -1.67876393e+02,  2.48305148e+01, -2.77372575e+02,\n",
              "        4.98110065e+01, -1.57862906e+02,  2.61189226e+01,  2.99532932e+01,\n",
              "       -1.42791536e+02, -1.19466609e+02, -5.17761285e+01,  3.24879240e+02,\n",
              "        1.59695165e+02,  1.26913254e+02, -1.12878943e+02, -2.00452534e+02,\n",
              "        1.06823212e+02, -2.00725474e+02, -1.01741331e+02, -1.76995165e+01,\n",
              "       -6.70432130e+01, -1.48933239e+02,  7.02921812e+01,  1.98358950e+02,\n",
              "        3.78181890e+02, -2.08417938e+02,  2.06578546e+02, -2.06599609e+01,\n",
              "        2.39548481e+02,  1.69144372e+02,  2.62021086e+02,  8.43971107e+01,\n",
              "       -1.16119918e+02, -8.21598983e+00,  1.75031936e+02, -1.09425134e+02,\n",
              "       -2.17551301e+00, -1.52760427e+02, -1.43585758e+02,  1.65464384e+02,\n",
              "        1.67263690e+02, -1.61140949e+02, -1.97193381e+02,  7.05342553e+01,\n",
              "        3.26378812e+02, -1.61871976e+02,  1.33806400e+02, -1.08924146e+02,\n",
              "        2.26249385e+02,  2.87673502e+02, -2.07642741e+02,  5.10072064e+00,\n",
              "        1.19011707e+02, -2.95914201e+01,  3.07554503e+02, -4.42267701e+00,\n",
              "       -1.36459083e+02, -1.97126079e+02, -3.30572415e+02, -7.10009881e+00,\n",
              "        8.54048815e+01,  5.90152283e+01, -7.85267309e+01, -9.43246215e+01,\n",
              "       -9.89259406e+01, -1.08357388e+02,  7.71758750e+01,  4.35368347e+01,\n",
              "        4.81785098e+01,  7.15394122e+01,  2.81765898e+02,  1.91251755e+02,\n",
              "        1.80282761e+02,  2.36851312e+02, -5.71067948e+01, -6.60020247e+01,\n",
              "        2.43356050e+02, -3.29673343e+02,  6.69035299e+01, -2.27842649e+02,\n",
              "        1.65941213e+02, -3.83957111e+01, -1.03335486e+02, -1.29584322e+02,\n",
              "        1.89999825e+02, -1.81348627e+02,  3.52320571e+02,  6.31580698e+01,\n",
              "        2.27347854e+02,  4.21136796e+02, -1.53378491e+02,  7.47634437e+01,\n",
              "       -3.70825765e+02, -2.22744789e+02, -1.29870770e+02,  3.47021382e+02,\n",
              "       -2.63208525e+02, -3.11417619e+01, -5.52778782e+01, -2.16062246e+01,\n",
              "        1.09198744e+02, -2.39972120e+02, -6.69104321e+01, -4.90883228e+01,\n",
              "        6.65108917e+00,  1.50309442e+02, -8.63058819e+01, -2.48357426e+02,\n",
              "        2.64215346e+01,  8.62572568e+01,  5.82479106e+01, -2.10305138e+02,\n",
              "        2.49328539e+02,  9.32996728e+01, -6.19512054e+01, -2.67598104e+02,\n",
              "        8.81270500e+01, -9.95686524e+01,  3.86823667e+02, -1.79327533e+02,\n",
              "       -1.76590480e+01, -4.07305813e+01,  5.59902015e+01,  1.47661474e+02,\n",
              "       -2.31055895e+02, -1.31073611e+02,  1.24301723e+02,  1.98382694e+02,\n",
              "       -1.85826710e+02, -1.18794686e+02, -5.59265731e+01, -3.33959802e+02,\n",
              "       -5.10314887e+02, -9.76123535e+01,  3.33326450e+02, -1.35119027e+02,\n",
              "       -1.18218254e+01, -9.63210136e+00, -8.25597850e+01,  3.06977584e+01,\n",
              "       -2.02991644e+02, -2.23013326e+02, -3.01997016e+02,  1.49087598e+02,\n",
              "       -1.61014375e+02,  3.61529773e+01,  1.82827133e+02, -3.82931719e+02,\n",
              "       -1.49448623e+02, -9.72098758e+01, -1.19335518e+02,  2.06307069e+01,\n",
              "        3.05031372e+01,  2.31446779e+02,  3.42777043e+02, -1.45714893e+02,\n",
              "       -1.99867350e+02, -4.05234296e+01,  2.51221381e+02,  4.24050670e+01,\n",
              "       -1.74400216e+01,  1.96165742e+02,  4.53715415e+01, -9.72855588e+01,\n",
              "        4.33963600e+00, -1.46732347e+02, -1.31789767e+02,  3.09322591e+02,\n",
              "       -1.59723327e+02, -1.28873102e+02,  1.62371656e+02,  3.37254883e+01,\n",
              "        3.70453237e+00, -4.42517106e+02,  2.69251880e+01, -2.55186904e+02,\n",
              "        1.53552108e+02, -1.58755074e+02,  6.01160166e+01, -1.52478514e+02,\n",
              "       -2.07188346e+02,  1.79579099e+02, -7.41497966e+01,  9.07416595e+01,\n",
              "        1.64346935e+02,  6.18567024e+01,  3.64718922e+01,  6.95377755e+01,\n",
              "       -5.69438279e+01, -2.59831390e+02, -3.08957774e+02, -5.34894940e+01,\n",
              "        2.52108623e+01,  3.69216897e+02, -1.51220708e+02,  6.05723239e+01,\n",
              "       -2.21491073e+02, -5.06042124e+01, -1.31267137e+02, -1.67124255e+01,\n",
              "        2.45509992e+02, -7.37971860e+00, -1.75808669e+02,  3.94050931e+02,\n",
              "       -8.35063572e+01,  2.71015139e+02, -2.60933896e+02,  3.18170112e+01,\n",
              "       -4.84459075e+01, -4.14589132e+01, -1.27233368e+02, -2.50010365e+01,\n",
              "       -2.28060220e+02,  5.01258714e+01,  1.79720137e+02,  7.20269546e+01,\n",
              "       -5.30071250e+01, -7.54761819e+01,  4.27712821e+01,  9.28065006e+01,\n",
              "       -8.65825621e+01,  5.37761658e+01, -4.93982000e+02,  8.28867257e+01,\n",
              "       -1.36007364e+02,  5.89384461e+01, -1.74005493e+02, -6.98224597e+01,\n",
              "       -1.55004472e+02, -2.34101775e+02, -1.44055657e+02, -2.21779841e+02,\n",
              "        1.64649595e+02, -5.19039462e+01,  6.16810666e+01,  3.57263864e+02,\n",
              "        3.53242387e+02, -1.71083506e+02, -5.07835400e+01,  4.34054742e+01,\n",
              "       -2.06841053e+02,  2.83711499e+01,  8.65282135e+01,  1.27198974e+01,\n",
              "       -1.38262073e+02,  5.30099963e+02, -1.68962931e+02, -1.66300006e+02,\n",
              "        2.96705633e+02,  2.71588865e+02, -1.49201559e+02, -1.73125243e+02,\n",
              "       -2.51067333e+02,  1.45295055e+02,  2.90933552e+02,  1.07384022e+02,\n",
              "        3.02713148e+01, -3.98139517e+02, -1.08203688e+02, -6.37529328e+00,\n",
              "       -1.63625920e+01, -5.21229879e+01, -2.77996141e+01, -1.91512423e+02,\n",
              "        1.54286198e+01,  7.13941172e+01, -1.14081513e+02, -7.36076644e+01,\n",
              "       -1.72324085e+02, -1.97429569e+02,  1.77380367e+02, -1.22347652e+02,\n",
              "       -2.60920838e+02, -7.07441453e+01,  8.21932742e+01,  2.83813114e+02,\n",
              "       -1.99929642e+02,  1.55424073e+02,  2.00239356e+02,  1.83620599e+02,\n",
              "        1.55845164e+02, -1.65427471e+02, -5.46354393e+01, -1.08894226e+02,\n",
              "        1.64101866e+02,  6.01956517e+01,  1.00655107e+02,  1.57878749e+02,\n",
              "       -1.92659286e+02,  2.12961187e+02,  2.51988105e+02, -1.58149198e+02,\n",
              "       -4.64380333e+01,  8.86467689e+01, -1.78087946e+02,  1.28635368e+02,\n",
              "        1.27711330e+02,  3.50773709e+01,  9.87308655e+00,  2.58971357e+01,\n",
              "       -2.29255094e+02,  1.23069783e+02, -8.81274308e+01,  1.71568900e+01,\n",
              "       -1.38797130e+02,  1.27645392e+02,  3.11097685e+02, -2.99683677e+02,\n",
              "        7.69974912e+01,  2.74445212e+01,  2.40433649e+02,  1.20419585e+02,\n",
              "        1.30178149e+02,  3.89770643e+02,  1.39831558e+02,  6.42268907e+01,\n",
              "        6.24558137e+01, -2.11072051e+02,  6.91071117e+01,  1.60560860e+02,\n",
              "        1.43912059e+02, -9.26981656e+01, -1.54100785e+02, -5.32939764e+01,\n",
              "       -1.03760373e+02, -3.11334379e+02,  1.26376302e+02,  7.90802826e+01,\n",
              "        3.26150315e+02, -2.73444190e+02, -1.54492656e+02, -9.01926149e+01,\n",
              "       -3.28281511e+02, -2.23914432e+02, -2.53396580e+02, -4.96861969e+02,\n",
              "        1.46995874e+02, -2.14365761e+02, -5.32684137e+00,  5.59262467e+01,\n",
              "        1.47986661e+02, -2.23225166e+02,  1.33929285e+01, -2.12067186e+02,\n",
              "       -1.77135770e+02, -1.88209389e+02,  3.21353569e+01,  3.34095534e+01,\n",
              "       -2.01532255e+02,  2.85672924e+02, -1.47939015e+02, -2.46556328e+02,\n",
              "        2.94381003e+01, -1.90333654e+01,  8.66071390e+01, -3.95088062e+02,\n",
              "        2.89127719e+02, -5.25858495e+01, -9.02006815e-01,  3.30758741e+02,\n",
              "        1.39754313e+02, -9.43213393e+01,  3.90567579e+01,  2.88353645e+02,\n",
              "        7.00958245e+01, -6.06320470e+01,  3.87432538e+01,  4.47325828e+01,\n",
              "       -1.87000077e+02,  1.15901855e+02, -6.74600232e+01, -1.94651081e+02,\n",
              "       -1.86659099e+02,  2.06542848e+02,  7.14818406e+01, -1.75041843e+01,\n",
              "        3.41976223e+01, -2.65250039e+02,  6.75409392e+01, -9.32739213e+01,\n",
              "        9.02797884e+01, -2.84832070e+02,  9.59118334e+01,  8.16696593e+01,\n",
              "        1.39232560e+02, -2.24502764e+02, -9.98994427e+01, -1.90227226e+02,\n",
              "        2.59498683e+02,  2.50597552e+02, -1.43566230e+02, -4.23931794e+01,\n",
              "        2.40167423e+02, -2.00658335e+02,  1.94002932e+02,  1.60240703e+01,\n",
              "        5.50766411e+01, -2.92261161e+01,  5.91495140e+00,  8.60193446e+01,\n",
              "        4.95564054e+01, -2.18961371e+02,  1.76306793e+02, -9.73561720e+01,\n",
              "        4.16400150e+02, -2.64225858e+02,  1.45331896e+02, -6.54131804e+01,\n",
              "        2.43097244e+01,  1.25625666e+02,  3.99081017e+01, -8.22824856e+01,\n",
              "        2.17953062e+02,  9.21470093e+01,  2.93691243e+02,  8.35906170e+01,\n",
              "       -9.58401666e+01,  1.75587524e+02, -1.35912401e+02,  2.03177595e+02,\n",
              "       -1.72031337e+02,  2.10724255e+02, -2.58516528e+02, -5.93320131e+01,\n",
              "        2.88157653e+02, -1.57070239e+02,  3.12952110e+02,  1.69002405e+02,\n",
              "        1.42354376e+02,  6.80960498e+01,  6.65602817e+01,  2.74734191e+02,\n",
              "       -1.44546710e+02, -2.33357333e+02, -1.06707292e+02, -1.04189672e+02,\n",
              "       -1.33397402e+02, -1.37251502e+02,  1.75872240e+02, -1.34064793e+02,\n",
              "       -4.94847230e+02, -1.74153252e+02, -1.80348491e+01,  2.34950097e+01,\n",
              "        2.76718444e+02,  1.30671011e+02,  4.72652462e+01,  1.27844586e+02,\n",
              "        9.60987333e+01, -5.25989678e+01,  5.00756646e+01, -5.34237145e+01,\n",
              "        9.10545201e+01, -1.66484510e+01, -5.01379141e+01,  3.86541604e+01,\n",
              "       -1.77184954e+02,  1.80834026e+02,  1.55951050e+02,  2.41621456e+01,\n",
              "       -7.13652643e+01, -2.37989550e+02,  1.92221401e+02,  1.27313679e+02,\n",
              "       -6.83241448e+01,  2.80490472e+02,  1.60452556e+02,  3.91926771e+00,\n",
              "       -1.03586968e+02, -1.56919292e+00, -1.82016315e+02, -3.50676095e+02,\n",
              "        1.20456814e+02, -2.62653032e+02,  4.04767712e+02,  1.31460896e+02,\n",
              "        1.20948485e+02,  2.67833163e+02,  9.67077527e+01,  7.45622127e+01,\n",
              "        7.68281386e+01,  2.07734161e+02, -3.35809110e+02,  1.85437763e+02,\n",
              "        1.31388627e+02, -8.12711546e+01, -1.15283063e+02, -1.01135107e+02,\n",
              "       -1.41306280e+02, -2.49877313e+02, -5.63492240e+01,  9.35681387e+01,\n",
              "        2.57448506e+02,  1.86188097e+02, -2.04264632e+02, -7.38695465e+01,\n",
              "       -7.98472616e+01,  1.25276410e+02, -1.66145484e+00,  9.08627599e+01,\n",
              "       -5.98416942e+01,  1.17410671e+02,  5.36649139e+01, -2.23544950e+00,\n",
              "       -1.56779096e+02,  1.72870550e+02,  1.25984604e+02, -3.78793904e+02,\n",
              "       -1.06100677e+02, -9.90811464e+01,  9.84869490e+01,  2.70145173e+02,\n",
              "       -1.35097251e+01,  2.36674150e+02,  8.74617308e+00,  1.92662549e+00,\n",
              "       -3.19370601e+01,  1.18351776e+01, -1.33358008e+02, -1.76959207e+02,\n",
              "       -1.08347972e+02, -2.47486350e+02, -3.15462727e+02,  1.68823831e+01,\n",
              "        6.23506605e+01,  1.31902581e+02,  5.34485232e+00, -4.04803209e+00,\n",
              "        2.00587481e+02, -5.54848565e+00,  3.35311017e+01, -3.21534364e+02,\n",
              "        1.33637463e+02,  1.36286550e+01,  2.27442849e+02,  1.01112137e+02])"
            ]
          },
          "metadata": {},
          "execution_count": 3
        }
      ]
    },
    {
      "cell_type": "code",
      "source": [
        "X_train,X_test,y_train,y_test=train_test_split(X,y,test_size=0.2,random_state=1)"
      ],
      "metadata": {
        "id": "-_F_zNdiClIK"
      },
      "execution_count": 4,
      "outputs": []
    },
    {
      "cell_type": "code",
      "source": [
        "from sklearn.linear_model import LinearRegression\n",
        "from sklearn.tree import DecisionTreeRegressor\n",
        "from sklearn.svm import SVR"
      ],
      "metadata": {
        "id": "EflL9w3EC26W"
      },
      "execution_count": 7,
      "outputs": []
    },
    {
      "cell_type": "code",
      "source": [
        "lr=LinearRegression()\n",
        "dtr=DecisionTreeRegressor()\n",
        "svr=SVR(kernel=\"linear\")"
      ],
      "metadata": {
        "id": "vRXV0xHwDJfm"
      },
      "execution_count": 8,
      "outputs": []
    },
    {
      "cell_type": "code",
      "source": [
        "from sklearn.ensemble import VotingRegressor\n",
        "ensemble_regressor=VotingRegressor(estimators=[('mlr',lr),(\"dtr\",dtr),(\"svr\",svr)])"
      ],
      "metadata": {
        "id": "gOKo3k9wDX_y"
      },
      "execution_count": 9,
      "outputs": []
    },
    {
      "cell_type": "code",
      "source": [
        "ensemble_regressor"
      ],
      "metadata": {
        "colab": {
          "base_uri": "https://localhost:8080/",
          "height": 109
        },
        "id": "h7PkTdwjDxPi",
        "outputId": "aef949c5-9750-42cd-be87-9f812475fe06"
      },
      "execution_count": 10,
      "outputs": [
        {
          "output_type": "execute_result",
          "data": {
            "text/plain": [
              "VotingRegressor(estimators=[('mlr', LinearRegression()),\n",
              "                            ('dtr', DecisionTreeRegressor()),\n",
              "                            ('svr', SVR(kernel='linear'))])"
            ],
            "text/html": [
              "<style>#sk-container-id-1 {color: black;}#sk-container-id-1 pre{padding: 0;}#sk-container-id-1 div.sk-toggleable {background-color: white;}#sk-container-id-1 label.sk-toggleable__label {cursor: pointer;display: block;width: 100%;margin-bottom: 0;padding: 0.3em;box-sizing: border-box;text-align: center;}#sk-container-id-1 label.sk-toggleable__label-arrow:before {content: \"▸\";float: left;margin-right: 0.25em;color: #696969;}#sk-container-id-1 label.sk-toggleable__label-arrow:hover:before {color: black;}#sk-container-id-1 div.sk-estimator:hover label.sk-toggleable__label-arrow:before {color: black;}#sk-container-id-1 div.sk-toggleable__content {max-height: 0;max-width: 0;overflow: hidden;text-align: left;background-color: #f0f8ff;}#sk-container-id-1 div.sk-toggleable__content pre {margin: 0.2em;color: black;border-radius: 0.25em;background-color: #f0f8ff;}#sk-container-id-1 input.sk-toggleable__control:checked~div.sk-toggleable__content {max-height: 200px;max-width: 100%;overflow: auto;}#sk-container-id-1 input.sk-toggleable__control:checked~label.sk-toggleable__label-arrow:before {content: \"▾\";}#sk-container-id-1 div.sk-estimator input.sk-toggleable__control:checked~label.sk-toggleable__label {background-color: #d4ebff;}#sk-container-id-1 div.sk-label input.sk-toggleable__control:checked~label.sk-toggleable__label {background-color: #d4ebff;}#sk-container-id-1 input.sk-hidden--visually {border: 0;clip: rect(1px 1px 1px 1px);clip: rect(1px, 1px, 1px, 1px);height: 1px;margin: -1px;overflow: hidden;padding: 0;position: absolute;width: 1px;}#sk-container-id-1 div.sk-estimator {font-family: monospace;background-color: #f0f8ff;border: 1px dotted black;border-radius: 0.25em;box-sizing: border-box;margin-bottom: 0.5em;}#sk-container-id-1 div.sk-estimator:hover {background-color: #d4ebff;}#sk-container-id-1 div.sk-parallel-item::after {content: \"\";width: 100%;border-bottom: 1px solid gray;flex-grow: 1;}#sk-container-id-1 div.sk-label:hover label.sk-toggleable__label {background-color: #d4ebff;}#sk-container-id-1 div.sk-serial::before {content: \"\";position: absolute;border-left: 1px solid gray;box-sizing: border-box;top: 0;bottom: 0;left: 50%;z-index: 0;}#sk-container-id-1 div.sk-serial {display: flex;flex-direction: column;align-items: center;background-color: white;padding-right: 0.2em;padding-left: 0.2em;position: relative;}#sk-container-id-1 div.sk-item {position: relative;z-index: 1;}#sk-container-id-1 div.sk-parallel {display: flex;align-items: stretch;justify-content: center;background-color: white;position: relative;}#sk-container-id-1 div.sk-item::before, #sk-container-id-1 div.sk-parallel-item::before {content: \"\";position: absolute;border-left: 1px solid gray;box-sizing: border-box;top: 0;bottom: 0;left: 50%;z-index: -1;}#sk-container-id-1 div.sk-parallel-item {display: flex;flex-direction: column;z-index: 1;position: relative;background-color: white;}#sk-container-id-1 div.sk-parallel-item:first-child::after {align-self: flex-end;width: 50%;}#sk-container-id-1 div.sk-parallel-item:last-child::after {align-self: flex-start;width: 50%;}#sk-container-id-1 div.sk-parallel-item:only-child::after {width: 0;}#sk-container-id-1 div.sk-dashed-wrapped {border: 1px dashed gray;margin: 0 0.4em 0.5em 0.4em;box-sizing: border-box;padding-bottom: 0.4em;background-color: white;}#sk-container-id-1 div.sk-label label {font-family: monospace;font-weight: bold;display: inline-block;line-height: 1.2em;}#sk-container-id-1 div.sk-label-container {text-align: center;}#sk-container-id-1 div.sk-container {/* jupyter's `normalize.less` sets `[hidden] { display: none; }` but bootstrap.min.css set `[hidden] { display: none !important; }` so we also need the `!important` here to be able to override the default hidden behavior on the sphinx rendered scikit-learn.org. See: https://github.com/scikit-learn/scikit-learn/issues/21755 */display: inline-block !important;position: relative;}#sk-container-id-1 div.sk-text-repr-fallback {display: none;}</style><div id=\"sk-container-id-1\" class=\"sk-top-container\"><div class=\"sk-text-repr-fallback\"><pre>VotingRegressor(estimators=[(&#x27;mlr&#x27;, LinearRegression()),\n",
              "                            (&#x27;dtr&#x27;, DecisionTreeRegressor()),\n",
              "                            (&#x27;svr&#x27;, SVR(kernel=&#x27;linear&#x27;))])</pre><b>In a Jupyter environment, please rerun this cell to show the HTML representation or trust the notebook. <br />On GitHub, the HTML representation is unable to render, please try loading this page with nbviewer.org.</b></div><div class=\"sk-container\" hidden><div class=\"sk-item sk-dashed-wrapped\"><div class=\"sk-label-container\"><div class=\"sk-label sk-toggleable\"><input class=\"sk-toggleable__control sk-hidden--visually\" id=\"sk-estimator-id-1\" type=\"checkbox\" ><label for=\"sk-estimator-id-1\" class=\"sk-toggleable__label sk-toggleable__label-arrow\">VotingRegressor</label><div class=\"sk-toggleable__content\"><pre>VotingRegressor(estimators=[(&#x27;mlr&#x27;, LinearRegression()),\n",
              "                            (&#x27;dtr&#x27;, DecisionTreeRegressor()),\n",
              "                            (&#x27;svr&#x27;, SVR(kernel=&#x27;linear&#x27;))])</pre></div></div></div><div class=\"sk-parallel\"><div class=\"sk-parallel-item\"><div class=\"sk-item\"><div class=\"sk-label-container\"><div class=\"sk-label sk-toggleable\"><label>mlr</label></div></div><div class=\"sk-serial\"><div class=\"sk-item\"><div class=\"sk-estimator sk-toggleable\"><input class=\"sk-toggleable__control sk-hidden--visually\" id=\"sk-estimator-id-2\" type=\"checkbox\" ><label for=\"sk-estimator-id-2\" class=\"sk-toggleable__label sk-toggleable__label-arrow\">LinearRegression</label><div class=\"sk-toggleable__content\"><pre>LinearRegression()</pre></div></div></div></div></div></div><div class=\"sk-parallel-item\"><div class=\"sk-item\"><div class=\"sk-label-container\"><div class=\"sk-label sk-toggleable\"><label>dtr</label></div></div><div class=\"sk-serial\"><div class=\"sk-item\"><div class=\"sk-estimator sk-toggleable\"><input class=\"sk-toggleable__control sk-hidden--visually\" id=\"sk-estimator-id-3\" type=\"checkbox\" ><label for=\"sk-estimator-id-3\" class=\"sk-toggleable__label sk-toggleable__label-arrow\">DecisionTreeRegressor</label><div class=\"sk-toggleable__content\"><pre>DecisionTreeRegressor()</pre></div></div></div></div></div></div><div class=\"sk-parallel-item\"><div class=\"sk-item\"><div class=\"sk-label-container\"><div class=\"sk-label sk-toggleable\"><label>svr</label></div></div><div class=\"sk-serial\"><div class=\"sk-item\"><div class=\"sk-estimator sk-toggleable\"><input class=\"sk-toggleable__control sk-hidden--visually\" id=\"sk-estimator-id-4\" type=\"checkbox\" ><label for=\"sk-estimator-id-4\" class=\"sk-toggleable__label sk-toggleable__label-arrow\">SVR</label><div class=\"sk-toggleable__content\"><pre>SVR(kernel=&#x27;linear&#x27;)</pre></div></div></div></div></div></div></div></div></div></div>"
            ]
          },
          "metadata": {},
          "execution_count": 10
        }
      ]
    },
    {
      "cell_type": "code",
      "source": [
        "ensemble_regressor.fit(X_train,y_train)"
      ],
      "metadata": {
        "colab": {
          "base_uri": "https://localhost:8080/",
          "height": 109
        },
        "id": "ZNKCeaHkD0I9",
        "outputId": "c477941e-a47d-4c21-ad3d-e4c671bafb17"
      },
      "execution_count": 11,
      "outputs": [
        {
          "output_type": "execute_result",
          "data": {
            "text/plain": [
              "VotingRegressor(estimators=[('mlr', LinearRegression()),\n",
              "                            ('dtr', DecisionTreeRegressor()),\n",
              "                            ('svr', SVR(kernel='linear'))])"
            ],
            "text/html": [
              "<style>#sk-container-id-2 {color: black;}#sk-container-id-2 pre{padding: 0;}#sk-container-id-2 div.sk-toggleable {background-color: white;}#sk-container-id-2 label.sk-toggleable__label {cursor: pointer;display: block;width: 100%;margin-bottom: 0;padding: 0.3em;box-sizing: border-box;text-align: center;}#sk-container-id-2 label.sk-toggleable__label-arrow:before {content: \"▸\";float: left;margin-right: 0.25em;color: #696969;}#sk-container-id-2 label.sk-toggleable__label-arrow:hover:before {color: black;}#sk-container-id-2 div.sk-estimator:hover label.sk-toggleable__label-arrow:before {color: black;}#sk-container-id-2 div.sk-toggleable__content {max-height: 0;max-width: 0;overflow: hidden;text-align: left;background-color: #f0f8ff;}#sk-container-id-2 div.sk-toggleable__content pre {margin: 0.2em;color: black;border-radius: 0.25em;background-color: #f0f8ff;}#sk-container-id-2 input.sk-toggleable__control:checked~div.sk-toggleable__content {max-height: 200px;max-width: 100%;overflow: auto;}#sk-container-id-2 input.sk-toggleable__control:checked~label.sk-toggleable__label-arrow:before {content: \"▾\";}#sk-container-id-2 div.sk-estimator input.sk-toggleable__control:checked~label.sk-toggleable__label {background-color: #d4ebff;}#sk-container-id-2 div.sk-label input.sk-toggleable__control:checked~label.sk-toggleable__label {background-color: #d4ebff;}#sk-container-id-2 input.sk-hidden--visually {border: 0;clip: rect(1px 1px 1px 1px);clip: rect(1px, 1px, 1px, 1px);height: 1px;margin: -1px;overflow: hidden;padding: 0;position: absolute;width: 1px;}#sk-container-id-2 div.sk-estimator {font-family: monospace;background-color: #f0f8ff;border: 1px dotted black;border-radius: 0.25em;box-sizing: border-box;margin-bottom: 0.5em;}#sk-container-id-2 div.sk-estimator:hover {background-color: #d4ebff;}#sk-container-id-2 div.sk-parallel-item::after {content: \"\";width: 100%;border-bottom: 1px solid gray;flex-grow: 1;}#sk-container-id-2 div.sk-label:hover label.sk-toggleable__label {background-color: #d4ebff;}#sk-container-id-2 div.sk-serial::before {content: \"\";position: absolute;border-left: 1px solid gray;box-sizing: border-box;top: 0;bottom: 0;left: 50%;z-index: 0;}#sk-container-id-2 div.sk-serial {display: flex;flex-direction: column;align-items: center;background-color: white;padding-right: 0.2em;padding-left: 0.2em;position: relative;}#sk-container-id-2 div.sk-item {position: relative;z-index: 1;}#sk-container-id-2 div.sk-parallel {display: flex;align-items: stretch;justify-content: center;background-color: white;position: relative;}#sk-container-id-2 div.sk-item::before, #sk-container-id-2 div.sk-parallel-item::before {content: \"\";position: absolute;border-left: 1px solid gray;box-sizing: border-box;top: 0;bottom: 0;left: 50%;z-index: -1;}#sk-container-id-2 div.sk-parallel-item {display: flex;flex-direction: column;z-index: 1;position: relative;background-color: white;}#sk-container-id-2 div.sk-parallel-item:first-child::after {align-self: flex-end;width: 50%;}#sk-container-id-2 div.sk-parallel-item:last-child::after {align-self: flex-start;width: 50%;}#sk-container-id-2 div.sk-parallel-item:only-child::after {width: 0;}#sk-container-id-2 div.sk-dashed-wrapped {border: 1px dashed gray;margin: 0 0.4em 0.5em 0.4em;box-sizing: border-box;padding-bottom: 0.4em;background-color: white;}#sk-container-id-2 div.sk-label label {font-family: monospace;font-weight: bold;display: inline-block;line-height: 1.2em;}#sk-container-id-2 div.sk-label-container {text-align: center;}#sk-container-id-2 div.sk-container {/* jupyter's `normalize.less` sets `[hidden] { display: none; }` but bootstrap.min.css set `[hidden] { display: none !important; }` so we also need the `!important` here to be able to override the default hidden behavior on the sphinx rendered scikit-learn.org. See: https://github.com/scikit-learn/scikit-learn/issues/21755 */display: inline-block !important;position: relative;}#sk-container-id-2 div.sk-text-repr-fallback {display: none;}</style><div id=\"sk-container-id-2\" class=\"sk-top-container\"><div class=\"sk-text-repr-fallback\"><pre>VotingRegressor(estimators=[(&#x27;mlr&#x27;, LinearRegression()),\n",
              "                            (&#x27;dtr&#x27;, DecisionTreeRegressor()),\n",
              "                            (&#x27;svr&#x27;, SVR(kernel=&#x27;linear&#x27;))])</pre><b>In a Jupyter environment, please rerun this cell to show the HTML representation or trust the notebook. <br />On GitHub, the HTML representation is unable to render, please try loading this page with nbviewer.org.</b></div><div class=\"sk-container\" hidden><div class=\"sk-item sk-dashed-wrapped\"><div class=\"sk-label-container\"><div class=\"sk-label sk-toggleable\"><input class=\"sk-toggleable__control sk-hidden--visually\" id=\"sk-estimator-id-5\" type=\"checkbox\" ><label for=\"sk-estimator-id-5\" class=\"sk-toggleable__label sk-toggleable__label-arrow\">VotingRegressor</label><div class=\"sk-toggleable__content\"><pre>VotingRegressor(estimators=[(&#x27;mlr&#x27;, LinearRegression()),\n",
              "                            (&#x27;dtr&#x27;, DecisionTreeRegressor()),\n",
              "                            (&#x27;svr&#x27;, SVR(kernel=&#x27;linear&#x27;))])</pre></div></div></div><div class=\"sk-parallel\"><div class=\"sk-parallel-item\"><div class=\"sk-item\"><div class=\"sk-label-container\"><div class=\"sk-label sk-toggleable\"><label>mlr</label></div></div><div class=\"sk-serial\"><div class=\"sk-item\"><div class=\"sk-estimator sk-toggleable\"><input class=\"sk-toggleable__control sk-hidden--visually\" id=\"sk-estimator-id-6\" type=\"checkbox\" ><label for=\"sk-estimator-id-6\" class=\"sk-toggleable__label sk-toggleable__label-arrow\">LinearRegression</label><div class=\"sk-toggleable__content\"><pre>LinearRegression()</pre></div></div></div></div></div></div><div class=\"sk-parallel-item\"><div class=\"sk-item\"><div class=\"sk-label-container\"><div class=\"sk-label sk-toggleable\"><label>dtr</label></div></div><div class=\"sk-serial\"><div class=\"sk-item\"><div class=\"sk-estimator sk-toggleable\"><input class=\"sk-toggleable__control sk-hidden--visually\" id=\"sk-estimator-id-7\" type=\"checkbox\" ><label for=\"sk-estimator-id-7\" class=\"sk-toggleable__label sk-toggleable__label-arrow\">DecisionTreeRegressor</label><div class=\"sk-toggleable__content\"><pre>DecisionTreeRegressor()</pre></div></div></div></div></div></div><div class=\"sk-parallel-item\"><div class=\"sk-item\"><div class=\"sk-label-container\"><div class=\"sk-label sk-toggleable\"><label>svr</label></div></div><div class=\"sk-serial\"><div class=\"sk-item\"><div class=\"sk-estimator sk-toggleable\"><input class=\"sk-toggleable__control sk-hidden--visually\" id=\"sk-estimator-id-8\" type=\"checkbox\" ><label for=\"sk-estimator-id-8\" class=\"sk-toggleable__label sk-toggleable__label-arrow\">SVR</label><div class=\"sk-toggleable__content\"><pre>SVR(kernel=&#x27;linear&#x27;)</pre></div></div></div></div></div></div></div></div></div></div>"
            ]
          },
          "metadata": {},
          "execution_count": 11
        }
      ]
    },
    {
      "cell_type": "code",
      "source": [
        "y_pred=ensemble_regressor.predict(X_test)"
      ],
      "metadata": {
        "id": "c7KwbgS6D9NN"
      },
      "execution_count": 13,
      "outputs": []
    },
    {
      "cell_type": "code",
      "source": [
        "y_pred"
      ],
      "metadata": {
        "colab": {
          "base_uri": "https://localhost:8080/"
        },
        "id": "Lb4cUTBlESHM",
        "outputId": "f4cd4444-92fa-4aa6-a7a0-bc842a511273"
      },
      "execution_count": 14,
      "outputs": [
        {
          "output_type": "execute_result",
          "data": {
            "text/plain": [
              "array([  59.91158544,   40.84457857, -166.97270984,  -41.09712046,\n",
              "        503.07435753,  325.50344599,   45.5226995 ,  -41.24089368,\n",
              "        -94.04829307,  -66.20891468, -100.76669527,   40.71796631,\n",
              "        -74.46848343, -141.02499848, -311.55125961, -145.45365535,\n",
              "       -288.00715565, -163.33857005,  -29.35579152, -187.5724345 ,\n",
              "        -47.63050775, -139.13258858,  302.53249562, -155.07788943,\n",
              "          4.43576336,  187.04567054,  237.17596557,   58.05584608,\n",
              "        -66.79627324,  112.84731007,   19.99512045,  245.5369679 ,\n",
              "        133.77866601,  273.59571139,  121.53350892,  103.05992915,\n",
              "         62.79038637, -397.0630257 , -187.87662545, -107.75828082,\n",
              "         47.44785859,  -67.58709119,   56.63360582, -132.66115906,\n",
              "         88.27725653,   27.88364075,  178.34780768, -125.05876281,\n",
              "        155.26197652, -291.28181732,  224.82575383,  372.39246327,\n",
              "       -229.08421669,   77.88087229,  -41.05039087,  121.25482668,\n",
              "        184.32945339,   86.87200653,   39.56063747,   78.94406464,\n",
              "         63.47018548, -427.85410469,  415.92043944,  140.43515006,\n",
              "         21.64731939, -171.72289606,  -33.23547835,    2.84538883,\n",
              "        -83.13738116,  159.0645922 ,  447.9115578 ,   54.60997512,\n",
              "        -31.1775236 ,  -76.01639023,  155.47217983, -144.10118691,\n",
              "        -56.79516963,   40.50637788,    3.20073129,   13.42729295,\n",
              "        -97.27284001,  164.67863507, -113.86583718,   51.06165578,\n",
              "       -119.84321213,  177.91151267,   32.40943486, -112.48844982,\n",
              "         19.69651588,  -89.94535947, -223.09678849, -227.28850722,\n",
              "        -20.62323543,  164.49617775,  135.03218156,   41.86166368,\n",
              "        336.09507979,  -93.84858945,  107.99483854, -118.50321616,\n",
              "       -132.6811166 ,  211.54765887,  117.66536467,   -8.44168508,\n",
              "       -269.15438771,  159.11133259,   -2.21159736,  -73.76592016,\n",
              "         40.59639487,   59.97080782, -176.76382772,  -56.10056941,\n",
              "       -152.87587564,  -29.22536335,  408.92375788,   25.98354466,\n",
              "       -156.05630636,   70.48644564, -181.3922919 , -185.53048976,\n",
              "       -135.69949752,  190.87594591, -101.72605388,  187.09982591,\n",
              "       -183.31522965,  115.05165531, -406.0929741 ,  -87.38753439,\n",
              "        206.08233602, -145.08190691,   24.26295273,   84.02423216,\n",
              "         88.2254065 , -302.34699391,  -34.14966736,   25.07135473,\n",
              "        102.74123257, -208.65811709,   88.29617175,  127.24178059,\n",
              "         88.07709979,  199.12016869,  381.14752162,  204.45705926,\n",
              "       -118.94886388, -154.98750584,  177.13495992,   62.94455728,\n",
              "         79.70131368,  188.54904201,  281.10158258,  175.5762606 ,\n",
              "         -0.87335534,  -98.93874057,  -66.09183522,  156.40669637,\n",
              "         41.20268277,   69.44792678, -123.0239396 , -335.93058046,\n",
              "        356.47667741,  -38.43797022, -424.44778174,  -89.38480911,\n",
              "        -71.92127983, -138.19890608,  -25.67716711,  -76.48715324,\n",
              "       -194.78504147,  115.12022541, -209.05001755,  -11.56991966,\n",
              "        -88.29129673,    6.82904571,  -76.82932148,  -99.45773693,\n",
              "        -89.53583317,  125.66533675,  -33.34044559,  -44.6732423 ,\n",
              "         -3.45906731,  299.67536678,  176.25720709,   12.20594816,\n",
              "         15.10292064, -173.98394469,   29.15580578,  -25.47997581,\n",
              "        208.64110296, -161.00682179,  248.22667478,   38.87300985,\n",
              "        148.6292996 ,    4.83945322,   51.6387289 ,   48.62174263,\n",
              "        102.31489244,  329.49133621, -173.69292604, -102.82565856])"
            ]
          },
          "metadata": {},
          "execution_count": 14
        }
      ]
    },
    {
      "cell_type": "code",
      "source": [
        "from sklearn.metrics import r2_score\n",
        "r2_score(y_test,y_pred)"
      ],
      "metadata": {
        "colab": {
          "base_uri": "https://localhost:8080/"
        },
        "id": "1n5MopbXEB3n",
        "outputId": "b1a2af4e-435f-4381-e61b-9c7d5e54f596"
      },
      "execution_count": 17,
      "outputs": [
        {
          "output_type": "execute_result",
          "data": {
            "text/plain": [
              "0.9552789750526107"
            ]
          },
          "metadata": {},
          "execution_count": 17
        }
      ]
    }
  ]
}